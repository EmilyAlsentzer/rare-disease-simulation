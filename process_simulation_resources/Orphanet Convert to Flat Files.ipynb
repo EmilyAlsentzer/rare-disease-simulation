{
 "cells": [
  {
   "cell_type": "markdown",
   "metadata": {},
   "source": [
    "# Orphanet"
   ]
  },
  {
   "cell_type": "code",
   "execution_count": 2,
   "metadata": {
    "ExecuteTime": {
     "end_time": "2021-02-01T18:50:33.825324Z",
     "start_time": "2021-02-01T18:50:33.497119Z"
    }
   },
   "outputs": [],
   "source": [
    "from pathlib import Path\n",
    "import pandas as pd\n",
    "import sys\n",
    "from collections import OrderedDict\n",
    "import xml.etree.ElementTree as ET\n",
    "from matplotlib import pyplot\n",
    "from upsetplot import from_contents, from_memberships\n",
    "from upsetplot import plot as plot_upset\n",
    "sys.path.insert(0, '../') # add config to path\n"
   ]
  },
  {
   "cell_type": "code",
   "execution_count": 4,
   "metadata": {
    "ExecuteTime": {
     "end_time": "2021-02-01T18:50:34.660163Z",
     "start_time": "2021-02-01T18:50:34.654842Z"
    }
   },
   "outputs": [],
   "source": [
    "ORPHANET_FLAT_PATH = config.ORPHANET_PATH / 'intermediate_files'\n",
    "ORPHANET_RAW_PATH = config.ORPHANET_PATH / 'raw_files_2019_10'"
   ]
  },
  {
   "cell_type": "markdown",
   "metadata": {},
   "source": [
    "## Phenotypes"
   ]
  },
  {
   "cell_type": "code",
   "execution_count": 618,
   "metadata": {},
   "outputs": [],
   "source": [
    "tree = ET.parse(str(ORPHANET_RAW_PATH / 'phenotypes_rare_disorders_en_product4_HPO.xml'))\n",
    "root = tree.getroot()\n",
    "disorderlist_phenos = root[1]"
   ]
  },
  {
   "cell_type": "code",
   "execution_count": 619,
   "metadata": {
    "scrolled": true
   },
   "outputs": [
    {
     "data": {
      "text/html": [
       "<div>\n",
       "<style scoped>\n",
       "    .dataframe tbody tr th:only-of-type {\n",
       "        vertical-align: middle;\n",
       "    }\n",
       "\n",
       "    .dataframe tbody tr th {\n",
       "        vertical-align: top;\n",
       "    }\n",
       "\n",
       "    .dataframe thead th {\n",
       "        text-align: right;\n",
       "    }\n",
       "</style>\n",
       "<table border=\"1\" class=\"dataframe\">\n",
       "  <thead>\n",
       "    <tr style=\"text-align: right;\">\n",
       "      <th></th>\n",
       "      <th>OrphaNumber</th>\n",
       "      <th>Disorder_Name</th>\n",
       "      <th>HPO_ID</th>\n",
       "      <th>HPO_String</th>\n",
       "      <th>HPO_Freq</th>\n",
       "    </tr>\n",
       "  </thead>\n",
       "  <tbody>\n",
       "    <tr>\n",
       "      <th>0</th>\n",
       "      <td>166024</td>\n",
       "      <td>Multiple epiphyseal dysplasia, Al-Gazali type</td>\n",
       "      <td>HP:0000256</td>\n",
       "      <td>Macrocephaly</td>\n",
       "      <td>Very frequent (99-80%)</td>\n",
       "    </tr>\n",
       "    <tr>\n",
       "      <th>1</th>\n",
       "      <td>166024</td>\n",
       "      <td>Multiple epiphyseal dysplasia, Al-Gazali type</td>\n",
       "      <td>HP:0000272</td>\n",
       "      <td>Malar flattening</td>\n",
       "      <td>Very frequent (99-80%)</td>\n",
       "    </tr>\n",
       "    <tr>\n",
       "      <th>2</th>\n",
       "      <td>166024</td>\n",
       "      <td>Multiple epiphyseal dysplasia, Al-Gazali type</td>\n",
       "      <td>HP:0000316</td>\n",
       "      <td>Hypertelorism</td>\n",
       "      <td>Very frequent (99-80%)</td>\n",
       "    </tr>\n",
       "    <tr>\n",
       "      <th>3</th>\n",
       "      <td>166024</td>\n",
       "      <td>Multiple epiphyseal dysplasia, Al-Gazali type</td>\n",
       "      <td>HP:0000369</td>\n",
       "      <td>Low-set ears</td>\n",
       "      <td>Very frequent (99-80%)</td>\n",
       "    </tr>\n",
       "    <tr>\n",
       "      <th>4</th>\n",
       "      <td>166024</td>\n",
       "      <td>Multiple epiphyseal dysplasia, Al-Gazali type</td>\n",
       "      <td>HP:0000470</td>\n",
       "      <td>Short neck</td>\n",
       "      <td>Very frequent (99-80%)</td>\n",
       "    </tr>\n",
       "    <tr>\n",
       "      <th>5</th>\n",
       "      <td>166024</td>\n",
       "      <td>Multiple epiphyseal dysplasia, Al-Gazali type</td>\n",
       "      <td>HP:0000767</td>\n",
       "      <td>Pectus excavatum</td>\n",
       "      <td>Very frequent (99-80%)</td>\n",
       "    </tr>\n",
       "    <tr>\n",
       "      <th>6</th>\n",
       "      <td>166024</td>\n",
       "      <td>Multiple epiphyseal dysplasia, Al-Gazali type</td>\n",
       "      <td>HP:0001274</td>\n",
       "      <td>Agenesis of corpus callosum</td>\n",
       "      <td>Frequent (79-30%)</td>\n",
       "    </tr>\n",
       "    <tr>\n",
       "      <th>7</th>\n",
       "      <td>166024</td>\n",
       "      <td>Multiple epiphyseal dysplasia, Al-Gazali type</td>\n",
       "      <td>HP:0001373</td>\n",
       "      <td>Joint dislocation</td>\n",
       "      <td>Very frequent (99-80%)</td>\n",
       "    </tr>\n",
       "    <tr>\n",
       "      <th>8</th>\n",
       "      <td>166024</td>\n",
       "      <td>Multiple epiphyseal dysplasia, Al-Gazali type</td>\n",
       "      <td>HP:0001513</td>\n",
       "      <td>Obesity</td>\n",
       "      <td>Frequent (79-30%)</td>\n",
       "    </tr>\n",
       "    <tr>\n",
       "      <th>9</th>\n",
       "      <td>166024</td>\n",
       "      <td>Multiple epiphyseal dysplasia, Al-Gazali type</td>\n",
       "      <td>HP:0002007</td>\n",
       "      <td>Frontal bossing</td>\n",
       "      <td>Very frequent (99-80%)</td>\n",
       "    </tr>\n",
       "  </tbody>\n",
       "</table>\n",
       "</div>"
      ],
      "text/plain": [
       "  OrphaNumber                                  Disorder_Name      HPO_ID  \\\n",
       "0      166024  Multiple epiphyseal dysplasia, Al-Gazali type  HP:0000256   \n",
       "1      166024  Multiple epiphyseal dysplasia, Al-Gazali type  HP:0000272   \n",
       "2      166024  Multiple epiphyseal dysplasia, Al-Gazali type  HP:0000316   \n",
       "3      166024  Multiple epiphyseal dysplasia, Al-Gazali type  HP:0000369   \n",
       "4      166024  Multiple epiphyseal dysplasia, Al-Gazali type  HP:0000470   \n",
       "5      166024  Multiple epiphyseal dysplasia, Al-Gazali type  HP:0000767   \n",
       "6      166024  Multiple epiphyseal dysplasia, Al-Gazali type  HP:0001274   \n",
       "7      166024  Multiple epiphyseal dysplasia, Al-Gazali type  HP:0001373   \n",
       "8      166024  Multiple epiphyseal dysplasia, Al-Gazali type  HP:0001513   \n",
       "9      166024  Multiple epiphyseal dysplasia, Al-Gazali type  HP:0002007   \n",
       "\n",
       "                    HPO_String                HPO_Freq  \n",
       "0                 Macrocephaly  Very frequent (99-80%)  \n",
       "1             Malar flattening  Very frequent (99-80%)  \n",
       "2                Hypertelorism  Very frequent (99-80%)  \n",
       "3                 Low-set ears  Very frequent (99-80%)  \n",
       "4                   Short neck  Very frequent (99-80%)  \n",
       "5             Pectus excavatum  Very frequent (99-80%)  \n",
       "6  Agenesis of corpus callosum       Frequent (79-30%)  \n",
       "7            Joint dislocation  Very frequent (99-80%)  \n",
       "8                      Obesity       Frequent (79-30%)  \n",
       "9              Frontal bossing  Very frequent (99-80%)  "
      ]
     },
     "execution_count": 619,
     "metadata": {},
     "output_type": "execute_result"
    }
   ],
   "source": [
    "\n",
    "hpo_list = []\n",
    "for disorder in disorderlist_phenos:\n",
    "    disorder_orphan = disorder.find(\"OrphaNumber\").text\n",
    "    disorder_name = disorder.find(\"Name\").text\n",
    "    for child in disorder.find(\"HPODisorderAssociationList\"):\n",
    "        child_hpo = child.find(\"HPO\")\n",
    "        hpo_id = child_hpo.find(\"HPOId\").text\n",
    "        hpo_string = child_hpo.find(\"HPOTerm\").text\n",
    "        hpo_freq = child.find(\"HPOFrequency\").find(\"Name\").text\n",
    "        hpo_list.append(OrderedDict([\n",
    "            (\"OrphaNumber\", disorder_orphan),\n",
    "            (\"Disorder_Name\", disorder_name),\n",
    "            (\"HPO_ID\", hpo_id),\n",
    "            (\"HPO_String\", hpo_string),\n",
    "            (\"HPO_Freq\", hpo_freq)]))\n",
    "disease_hpo_df = pd.DataFrame(hpo_list)\n",
    "disease_hpo_df.head(10)"
   ]
  },
  {
   "cell_type": "code",
   "execution_count": 620,
   "metadata": {},
   "outputs": [
    {
     "data": {
      "text/plain": [
       "(22.57293354943274, 12.545413601561327)"
      ]
     },
     "execution_count": 620,
     "metadata": {},
     "output_type": "execute_result"
    }
   ],
   "source": [
    "(disease_hpo_df.groupby(\"Disorder_Name\").count().OrphaNumber.mean(),\n",
    " disease_hpo_df.groupby(\"HPO_ID\").count().OrphaNumber.mean())"
   ]
  },
  {
   "cell_type": "code",
   "execution_count": 621,
   "metadata": {},
   "outputs": [
    {
     "data": {
      "text/plain": [
       "Frequent (79-30%)         28349\n",
       "Occasional (29-5%)        25978\n",
       "Very frequent (99-80%)    25653\n",
       "Very rare (<4-1%)          2600\n",
       "Obligate (100%)             538\n",
       "Excluded (0%)               447\n",
       "Name: HPO_Freq, dtype: int64"
      ]
     },
     "execution_count": 621,
     "metadata": {},
     "output_type": "execute_result"
    }
   ],
   "source": [
    "disease_hpo_df.HPO_Freq.value_counts()"
   ]
  },
  {
   "cell_type": "code",
   "execution_count": 622,
   "metadata": {},
   "outputs": [
    {
     "name": "stdout",
     "output_type": "stream",
     "text": [
      "Unique diseases w/ HPOS:  3702\n"
     ]
    }
   ],
   "source": [
    "print(\"Unique diseases w/ HPOS: \", len(set(disease_hpo_df.OrphaNumber)))"
   ]
  },
  {
   "cell_type": "raw",
   "metadata": {
    "collapsed": true
   },
   "source": [
    "disease_hpo_df.to_csv(ORPHANET_FLAT_PATH / 'orphanet_disease_hpo.tsv', sep=\"\\t\", index = False)"
   ]
  },
  {
   "cell_type": "markdown",
   "metadata": {},
   "source": [
    "## Genes"
   ]
  },
  {
   "cell_type": "code",
   "execution_count": 623,
   "metadata": {},
   "outputs": [],
   "source": [
    "tree = ET.parse(str(ORPHANET_RAW_PATH / 'genes_rare_diseases_en_product6.xml'))\n",
    "root = tree.getroot()\n",
    "disorderlist_genes = root[1]"
   ]
  },
  {
   "cell_type": "code",
   "execution_count": 624,
   "metadata": {
    "scrolled": true
   },
   "outputs": [
    {
     "name": "stdout",
     "output_type": "stream",
     "text": [
      "(7552, 7)\n"
     ]
    },
    {
     "data": {
      "text/html": [
       "<div>\n",
       "<style scoped>\n",
       "    .dataframe tbody tr th:only-of-type {\n",
       "        vertical-align: middle;\n",
       "    }\n",
       "\n",
       "    .dataframe tbody tr th {\n",
       "        vertical-align: top;\n",
       "    }\n",
       "\n",
       "    .dataframe thead th {\n",
       "        text-align: right;\n",
       "    }\n",
       "</style>\n",
       "<table border=\"1\" class=\"dataframe\">\n",
       "  <thead>\n",
       "    <tr style=\"text-align: right;\">\n",
       "      <th></th>\n",
       "      <th>OrphaNumber</th>\n",
       "      <th>Disorder_Name</th>\n",
       "      <th>Gene_Symbol</th>\n",
       "      <th>Association_Type</th>\n",
       "      <th>Association_Status</th>\n",
       "      <th>Gene_Synonyms</th>\n",
       "      <th>Gene_External_Refs</th>\n",
       "    </tr>\n",
       "  </thead>\n",
       "  <tbody>\n",
       "    <tr>\n",
       "      <th>0</th>\n",
       "      <td>166024</td>\n",
       "      <td>Multiple epiphyseal dysplasia, Al-Gazali type</td>\n",
       "      <td>KIF7</td>\n",
       "      <td>Disease-causing germline mutation(s) in</td>\n",
       "      <td>Assessed</td>\n",
       "      <td>JBTS12</td>\n",
       "      <td>Ensembl:ENSG00000166813|Genatlas:KIF7|HGNC:304...</td>\n",
       "    </tr>\n",
       "    <tr>\n",
       "      <th>1</th>\n",
       "      <td>93</td>\n",
       "      <td>Aspartylglucosaminuria</td>\n",
       "      <td>AGA</td>\n",
       "      <td>Disease-causing germline mutation(s) in</td>\n",
       "      <td>Assessed</td>\n",
       "      <td>ASRG|N(4)-(beta-N-acetylglucosaminyl)-L-aspara...</td>\n",
       "      <td>Reactome:P20933|Ensembl:ENSG00000038002|Genatl...</td>\n",
       "    </tr>\n",
       "    <tr>\n",
       "      <th>2</th>\n",
       "      <td>166035</td>\n",
       "      <td>Brachydactyly-short stature-retinitis pigmento...</td>\n",
       "      <td>CWC27</td>\n",
       "      <td>Disease-causing germline mutation(s) in</td>\n",
       "      <td>Assessed</td>\n",
       "      <td>NY-CO-10|SDCCAG-10</td>\n",
       "      <td></td>\n",
       "    </tr>\n",
       "    <tr>\n",
       "      <th>3</th>\n",
       "      <td>585</td>\n",
       "      <td>Multiple sulfatase deficiency</td>\n",
       "      <td>SUMF1</td>\n",
       "      <td>Disease-causing germline mutation(s) in</td>\n",
       "      <td>Assessed</td>\n",
       "      <td>FGE|UNQ3037</td>\n",
       "      <td>Ensembl:ENSG00000144455|Genatlas:SUMF1|HGNC:20...</td>\n",
       "    </tr>\n",
       "    <tr>\n",
       "      <th>4</th>\n",
       "      <td>118</td>\n",
       "      <td>Beta-mannosidosis</td>\n",
       "      <td>MANBA</td>\n",
       "      <td>Disease-causing germline mutation(s) in</td>\n",
       "      <td>Assessed</td>\n",
       "      <td>beta-mannosidase A</td>\n",
       "      <td>Reactome:O00462|Genatlas:MANBA|HGNC:6831|OMIM:...</td>\n",
       "    </tr>\n",
       "    <tr>\n",
       "      <th>5</th>\n",
       "      <td>166068</td>\n",
       "      <td>Pontocerebellar hypoplasia type 5</td>\n",
       "      <td>TSEN54</td>\n",
       "      <td>Disease-causing germline mutation(s) in</td>\n",
       "      <td>Assessed</td>\n",
       "      <td>SEN54|SEN54L</td>\n",
       "      <td>Ensembl:ENSG00000182173|Genatlas:TSEN54|HGNC:2...</td>\n",
       "    </tr>\n",
       "    <tr>\n",
       "      <th>6</th>\n",
       "      <td>166063</td>\n",
       "      <td>Pontocerebellar hypoplasia type 4</td>\n",
       "      <td>TSEN54</td>\n",
       "      <td>Disease-causing germline mutation(s) in</td>\n",
       "      <td>Assessed</td>\n",
       "      <td>SEN54|SEN54L</td>\n",
       "      <td>Ensembl:ENSG00000182173|Genatlas:TSEN54|HGNC:2...</td>\n",
       "    </tr>\n",
       "    <tr>\n",
       "      <th>7</th>\n",
       "      <td>166078</td>\n",
       "      <td>Von Willebrand disease type 1</td>\n",
       "      <td>VWF</td>\n",
       "      <td>Disease-causing germline mutation(s) in</td>\n",
       "      <td>Assessed</td>\n",
       "      <td></td>\n",
       "      <td>Ensembl:ENSG00000110799|Genatlas:VWF|HGNC:1272...</td>\n",
       "    </tr>\n",
       "    <tr>\n",
       "      <th>8</th>\n",
       "      <td>166073</td>\n",
       "      <td>Pontocerebellar hypoplasia type 6</td>\n",
       "      <td>RARS2</td>\n",
       "      <td>Disease-causing germline mutation(s) in</td>\n",
       "      <td>Assessed</td>\n",
       "      <td>DALRD2|MGC14993|MGC23778|PRO1992|arginine tRNA...</td>\n",
       "      <td>Ensembl:ENSG00000146282|Genatlas:RARS2|HGNC:21...</td>\n",
       "    </tr>\n",
       "    <tr>\n",
       "      <th>9</th>\n",
       "      <td>166084</td>\n",
       "      <td>Von Willebrand disease type 2A</td>\n",
       "      <td>VWF</td>\n",
       "      <td>Disease-causing germline mutation(s) in</td>\n",
       "      <td>Assessed</td>\n",
       "      <td></td>\n",
       "      <td>Ensembl:ENSG00000110799|Genatlas:VWF|HGNC:1272...</td>\n",
       "    </tr>\n",
       "  </tbody>\n",
       "</table>\n",
       "</div>"
      ],
      "text/plain": [
       "  OrphaNumber                                      Disorder_Name Gene_Symbol  \\\n",
       "0      166024      Multiple epiphyseal dysplasia, Al-Gazali type        KIF7   \n",
       "1          93                             Aspartylglucosaminuria         AGA   \n",
       "2      166035  Brachydactyly-short stature-retinitis pigmento...       CWC27   \n",
       "3         585                      Multiple sulfatase deficiency       SUMF1   \n",
       "4         118                                  Beta-mannosidosis       MANBA   \n",
       "5      166068                  Pontocerebellar hypoplasia type 5      TSEN54   \n",
       "6      166063                  Pontocerebellar hypoplasia type 4      TSEN54   \n",
       "7      166078                      Von Willebrand disease type 1         VWF   \n",
       "8      166073                  Pontocerebellar hypoplasia type 6       RARS2   \n",
       "9      166084                     Von Willebrand disease type 2A         VWF   \n",
       "\n",
       "                          Association_Type Association_Status  \\\n",
       "0  Disease-causing germline mutation(s) in           Assessed   \n",
       "1  Disease-causing germline mutation(s) in           Assessed   \n",
       "2  Disease-causing germline mutation(s) in           Assessed   \n",
       "3  Disease-causing germline mutation(s) in           Assessed   \n",
       "4  Disease-causing germline mutation(s) in           Assessed   \n",
       "5  Disease-causing germline mutation(s) in           Assessed   \n",
       "6  Disease-causing germline mutation(s) in           Assessed   \n",
       "7  Disease-causing germline mutation(s) in           Assessed   \n",
       "8  Disease-causing germline mutation(s) in           Assessed   \n",
       "9  Disease-causing germline mutation(s) in           Assessed   \n",
       "\n",
       "                                       Gene_Synonyms  \\\n",
       "0                                             JBTS12   \n",
       "1  ASRG|N(4)-(beta-N-acetylglucosaminyl)-L-aspara...   \n",
       "2                                 NY-CO-10|SDCCAG-10   \n",
       "3                                        FGE|UNQ3037   \n",
       "4                                 beta-mannosidase A   \n",
       "5                                       SEN54|SEN54L   \n",
       "6                                       SEN54|SEN54L   \n",
       "7                                                      \n",
       "8  DALRD2|MGC14993|MGC23778|PRO1992|arginine tRNA...   \n",
       "9                                                      \n",
       "\n",
       "                                  Gene_External_Refs  \n",
       "0  Ensembl:ENSG00000166813|Genatlas:KIF7|HGNC:304...  \n",
       "1  Reactome:P20933|Ensembl:ENSG00000038002|Genatl...  \n",
       "2                                                     \n",
       "3  Ensembl:ENSG00000144455|Genatlas:SUMF1|HGNC:20...  \n",
       "4  Reactome:O00462|Genatlas:MANBA|HGNC:6831|OMIM:...  \n",
       "5  Ensembl:ENSG00000182173|Genatlas:TSEN54|HGNC:2...  \n",
       "6  Ensembl:ENSG00000182173|Genatlas:TSEN54|HGNC:2...  \n",
       "7  Ensembl:ENSG00000110799|Genatlas:VWF|HGNC:1272...  \n",
       "8  Ensembl:ENSG00000146282|Genatlas:RARS2|HGNC:21...  \n",
       "9  Ensembl:ENSG00000110799|Genatlas:VWF|HGNC:1272...  "
      ]
     },
     "execution_count": 624,
     "metadata": {},
     "output_type": "execute_result"
    }
   ],
   "source": [
    "gene_list = []\n",
    "for disorder in disorderlist_genes:\n",
    "    disorder_orphan = disorder.find(\"OrphaNumber\").text\n",
    "    disorder_name = disorder.find(\"Name\").text\n",
    "    for child in disorder.find(\"DisorderGeneAssociationList\"):\n",
    "        child_gene = child.find(\"Gene\")\n",
    "        gene_symbol = child_gene.find(\"Symbol\").text\n",
    "        gene_synonyms = \"|\".join([x.text\n",
    "                                  for x in child_gene.find(\"SynonymList\")])\n",
    "        external_refs = \"|\".join([\":\".join([x.find(\"Source\").text, x.find(\"Reference\").text])\n",
    "                                  for x in child_gene.find(\"ExternalReferenceList\")])\n",
    "        association_type = child.find(\"DisorderGeneAssociationType\").find(\"Name\").text\n",
    "        association_status = child.find(\"DisorderGeneAssociationStatus\").find(\"Name\").text\n",
    "        gene_list.append(OrderedDict([\n",
    "            (\"OrphaNumber\", disorder_orphan),\n",
    "            (\"Disorder_Name\", disorder_name),\n",
    "            (\"Gene_Symbol\", gene_symbol),\n",
    "            (\"Association_Type\", association_type),\n",
    "            (\"Association_Status\", association_status),\n",
    "            (\"Gene_Synonyms\", gene_synonyms),\n",
    "            (\"Gene_External_Refs\", external_refs)\n",
    "        ]))\n",
    "disorder_gene_df = pd.DataFrame(gene_list)\n",
    "print(disorder_gene_df.shape)\n",
    "disorder_gene_df.head(10)"
   ]
  },
  {
   "cell_type": "raw",
   "metadata": {
    "collapsed": true
   },
   "source": [
    "disorder_gene_df.to_csv(ORPHANET_FLAT_PATH / 'orphanet_disease_gene_all_unfiltered.tsv', sep=\"\\t\", index = False)"
   ]
  },
  {
   "cell_type": "code",
   "execution_count": 625,
   "metadata": {},
   "outputs": [
    {
     "name": "stdout",
     "output_type": "stream",
     "text": [
      "Unique diseases w/ Genes:  3803\n"
     ]
    }
   ],
   "source": [
    "print(\"Unique diseases w/ Genes: \", len(set(disorder_gene_df.OrphaNumber)))"
   ]
  },
  {
   "cell_type": "code",
   "execution_count": 626,
   "metadata": {},
   "outputs": [
    {
     "data": {
      "text/plain": [
       "(1.9858006836707862, 1.8646913580246913)"
      ]
     },
     "execution_count": 626,
     "metadata": {},
     "output_type": "execute_result"
    }
   ],
   "source": [
    "(disorder_gene_df.groupby(\"Disorder_Name\").count().OrphaNumber.mean(),\n",
    " disorder_gene_df.groupby(\"Gene_Symbol\").count().OrphaNumber.mean())"
   ]
  },
  {
   "cell_type": "code",
   "execution_count": 627,
   "metadata": {},
   "outputs": [
    {
     "data": {
      "text/plain": [
       "Disease-causing germline mutation(s) in                       4644\n",
       "Disease-causing germline mutation(s) (loss of function) in    1107\n",
       "Major susceptibility factor in                                 497\n",
       "Candidate gene tested in                                       312\n",
       "Part of a fusion gene in                                       232\n",
       "Role in the phenotype of                                       231\n",
       "Disease-causing germline mutation(s) (gain of function) in     209\n",
       "Disease-causing somatic mutation(s) in                         183\n",
       "Biomarker tested in                                             97\n",
       "Modifying germline mutation in                                  40\n",
       "Name: Association_Type, dtype: int64"
      ]
     },
     "execution_count": 627,
     "metadata": {},
     "output_type": "execute_result"
    }
   ],
   "source": [
    "disorder_gene_df.Association_Type.value_counts()"
   ]
  },
  {
   "cell_type": "code",
   "execution_count": 628,
   "metadata": {},
   "outputs": [
    {
     "data": {
      "text/plain": [
       "Disease-causing germline mutation(s) in                       4644\n",
       "Disease-causing germline mutation(s) (loss of function) in    1107\n",
       "Disease-causing germline mutation(s) (gain of function) in     209\n",
       "Disease-causing somatic mutation(s) in                         183\n",
       "Name: Association_Type, dtype: int64"
      ]
     },
     "execution_count": 628,
     "metadata": {},
     "output_type": "execute_result"
    }
   ],
   "source": [
    "causal_assocation_types = [\"Disease-causing germline mutation(s) in\",\n",
    "                           \"Disease-causing germline mutation(s) (loss of function) in\",\n",
    "                           \"Disease-causing germline mutation(s) (gain of function) in\",\n",
    "                           \"Disease-causing somatic mutation(s) in\"\n",
    "                          ]\n",
    "disorder_gene_df_causal = disorder_gene_df.query(\"Association_Type in @causal_assocation_types\")\n",
    "disorder_gene_df_causal.Association_Type.value_counts()"
   ]
  },
  {
   "cell_type": "code",
   "execution_count": 629,
   "metadata": {},
   "outputs": [
    {
     "data": {
      "text/plain": [
       "(1.7988286969253295, 1.6988384955752212)"
      ]
     },
     "execution_count": 629,
     "metadata": {},
     "output_type": "execute_result"
    }
   ],
   "source": [
    "(disorder_gene_df_causal.groupby(\"Disorder_Name\").count().OrphaNumber.mean(),\n",
    " disorder_gene_df_causal.groupby(\"Gene_Symbol\").count().OrphaNumber.mean())"
   ]
  },
  {
   "cell_type": "code",
   "execution_count": 630,
   "metadata": {
    "scrolled": true
   },
   "outputs": [
    {
     "data": {
      "text/plain": [
       "Association_Type                                            Association_Status\n",
       "Disease-causing germline mutation(s) (gain of function) in  Assessed               209\n",
       "Disease-causing germline mutation(s) (loss of function) in  Assessed              1106\n",
       "                                                            Not yet assessed         1\n",
       "Disease-causing germline mutation(s) in                     Assessed              4634\n",
       "                                                            Not yet assessed        10\n",
       "Disease-causing somatic mutation(s) in                      Assessed               177\n",
       "                                                            Not yet assessed         6\n",
       "Name: Association_Status, dtype: int64"
      ]
     },
     "execution_count": 630,
     "metadata": {},
     "output_type": "execute_result"
    }
   ],
   "source": [
    "disorder_gene_df_causal.groupby(\"Association_Type\").Association_Status.value_counts()"
   ]
  },
  {
   "cell_type": "code",
   "execution_count": 631,
   "metadata": {
    "scrolled": true
   },
   "outputs": [
    {
     "data": {
      "text/plain": [
       "Association_Type                                            Association_Status\n",
       "Disease-causing germline mutation(s) (gain of function) in  Assessed               209\n",
       "Disease-causing germline mutation(s) (loss of function) in  Assessed              1106\n",
       "Disease-causing germline mutation(s) in                     Assessed              4634\n",
       "Disease-causing somatic mutation(s) in                      Assessed               177\n",
       "Name: Association_Status, dtype: int64"
      ]
     },
     "execution_count": 631,
     "metadata": {},
     "output_type": "execute_result"
    }
   ],
   "source": [
    "disorder_gene_df_causal = disorder_gene_df_causal.query(\"Association_Status == 'Assessed'\")\n",
    "disorder_gene_df_causal.groupby(\"Association_Type\").Association_Status.value_counts()"
   ]
  },
  {
   "cell_type": "code",
   "execution_count": 632,
   "metadata": {},
   "outputs": [
    {
     "name": "stdout",
     "output_type": "stream",
     "text": [
      "Unique diseases w/ Causal Genes:  3410\n"
     ]
    }
   ],
   "source": [
    "print(\"Unique diseases w/ Causal Genes: \", len(set(disorder_gene_df_causal.OrphaNumber)))"
   ]
  },
  {
   "cell_type": "raw",
   "metadata": {
    "collapsed": true
   },
   "source": [
    "disorder_gene_df_causal.to_csv(ORPHANET_FLAT_PATH / 'orphanet_disease_gene_causal_assessed.tsv', sep=\"\\t\", index = False)"
   ]
  },
  {
   "cell_type": "markdown",
   "metadata": {},
   "source": [
    "## Natural History Files"
   ]
  },
  {
   "cell_type": "code",
   "execution_count": 5,
   "metadata": {
    "ExecuteTime": {
     "end_time": "2021-02-01T18:50:43.438558Z",
     "start_time": "2021-02-01T18:50:42.697060Z"
    }
   },
   "outputs": [],
   "source": [
    "tree = ET.parse(str(ORPHANET_RAW_PATH / 'natural_history_en_product9_ages.xml'))\n",
    "root = tree.getroot()\n",
    "disorderlist_nat_hist = root[1]"
   ]
  },
  {
   "cell_type": "markdown",
   "metadata": {},
   "source": [
    "Unique age entries:\n",
    "['Adolescent',\n",
    " 'Adult',\n",
    " 'All ages',\n",
    " 'Antenatal',\n",
    " 'Childhood',\n",
    " 'Elderly',\n",
    " 'Infancy',\n",
    " 'Neonatal']\n",
    " }"
   ]
  },
  {
   "cell_type": "code",
   "execution_count": 6,
   "metadata": {
    "ExecuteTime": {
     "end_time": "2021-02-01T18:50:59.018753Z",
     "start_time": "2021-02-01T18:50:58.821129Z"
    },
    "scrolled": true
   },
   "outputs": [
    {
     "data": {
      "text/html": [
       "<div>\n",
       "<style scoped>\n",
       "    .dataframe tbody tr th:only-of-type {\n",
       "        vertical-align: middle;\n",
       "    }\n",
       "\n",
       "    .dataframe tbody tr th {\n",
       "        vertical-align: top;\n",
       "    }\n",
       "\n",
       "    .dataframe thead th {\n",
       "        text-align: right;\n",
       "    }\n",
       "</style>\n",
       "<table border=\"1\" class=\"dataframe\">\n",
       "  <thead>\n",
       "    <tr style=\"text-align: right;\">\n",
       "      <th></th>\n",
       "      <th>OrphaNumber</th>\n",
       "      <th>Disorder_Name</th>\n",
       "      <th>Onset_Infant</th>\n",
       "      <th>Onset_Child</th>\n",
       "      <th>Onset_Adolescent</th>\n",
       "      <th>Onset_Adult</th>\n",
       "      <th>Onset_Elderly</th>\n",
       "      <th>Disorder_Type</th>\n",
       "      <th>Average_Age_Onset</th>\n",
       "      <th>Average_Age_Death</th>\n",
       "      <th>Inheritence_Types</th>\n",
       "    </tr>\n",
       "  </thead>\n",
       "  <tbody>\n",
       "    <tr>\n",
       "      <th>0</th>\n",
       "      <td>166024</td>\n",
       "      <td>Multiple epiphyseal dysplasia, Al-Gazali type</td>\n",
       "      <td>True</td>\n",
       "      <td>False</td>\n",
       "      <td>False</td>\n",
       "      <td>False</td>\n",
       "      <td>False</td>\n",
       "      <td>Disease</td>\n",
       "      <td>Infancy|Neonatal</td>\n",
       "      <td></td>\n",
       "      <td>Autosomal recessive</td>\n",
       "    </tr>\n",
       "    <tr>\n",
       "      <th>1</th>\n",
       "      <td>58</td>\n",
       "      <td>Alexander disease</td>\n",
       "      <td>True</td>\n",
       "      <td>True</td>\n",
       "      <td>True</td>\n",
       "      <td>True</td>\n",
       "      <td>True</td>\n",
       "      <td>Disease</td>\n",
       "      <td>All ages</td>\n",
       "      <td>any age</td>\n",
       "      <td>Autosomal dominant</td>\n",
       "    </tr>\n",
       "    <tr>\n",
       "      <th>2</th>\n",
       "      <td>166032</td>\n",
       "      <td>Multiple epiphyseal dysplasia, with miniepiphyses</td>\n",
       "      <td>True</td>\n",
       "      <td>True</td>\n",
       "      <td>False</td>\n",
       "      <td>False</td>\n",
       "      <td>False</td>\n",
       "      <td>Disease</td>\n",
       "      <td>Childhood|Infancy</td>\n",
       "      <td>No data available</td>\n",
       "      <td></td>\n",
       "    </tr>\n",
       "    <tr>\n",
       "      <th>3</th>\n",
       "      <td>61</td>\n",
       "      <td>Alpha-mannosidosis</td>\n",
       "      <td>True</td>\n",
       "      <td>True</td>\n",
       "      <td>False</td>\n",
       "      <td>False</td>\n",
       "      <td>False</td>\n",
       "      <td>Disease</td>\n",
       "      <td>Childhood|Infancy|Neonatal</td>\n",
       "      <td>any age</td>\n",
       "      <td>Autosomal recessive</td>\n",
       "    </tr>\n",
       "    <tr>\n",
       "      <th>4</th>\n",
       "      <td>166029</td>\n",
       "      <td>Multiple epiphyseal dysplasia, with severe pro...</td>\n",
       "      <td>False</td>\n",
       "      <td>True</td>\n",
       "      <td>False</td>\n",
       "      <td>False</td>\n",
       "      <td>False</td>\n",
       "      <td>Disease</td>\n",
       "      <td>Childhood</td>\n",
       "      <td>No data available</td>\n",
       "      <td></td>\n",
       "    </tr>\n",
       "  </tbody>\n",
       "</table>\n",
       "</div>"
      ],
      "text/plain": [
       "  OrphaNumber                                      Disorder_Name  \\\n",
       "0      166024      Multiple epiphyseal dysplasia, Al-Gazali type   \n",
       "1          58                                  Alexander disease   \n",
       "2      166032  Multiple epiphyseal dysplasia, with miniepiphyses   \n",
       "3          61                                 Alpha-mannosidosis   \n",
       "4      166029  Multiple epiphyseal dysplasia, with severe pro...   \n",
       "\n",
       "   Onset_Infant  Onset_Child  Onset_Adolescent  Onset_Adult  Onset_Elderly  \\\n",
       "0          True        False             False        False          False   \n",
       "1          True         True              True         True           True   \n",
       "2          True         True             False        False          False   \n",
       "3          True         True             False        False          False   \n",
       "4         False         True             False        False          False   \n",
       "\n",
       "  Disorder_Type           Average_Age_Onset  Average_Age_Death  \\\n",
       "0       Disease            Infancy|Neonatal                      \n",
       "1       Disease                    All ages            any age   \n",
       "2       Disease           Childhood|Infancy  No data available   \n",
       "3       Disease  Childhood|Infancy|Neonatal            any age   \n",
       "4       Disease                   Childhood  No data available   \n",
       "\n",
       "     Inheritence_Types  \n",
       "0  Autosomal recessive  \n",
       "1   Autosomal dominant  \n",
       "2                       \n",
       "3  Autosomal recessive  \n",
       "4                       "
      ]
     },
     "execution_count": 6,
     "metadata": {},
     "output_type": "execute_result"
    }
   ],
   "source": [
    "\n",
    "nat_hist_list = []\n",
    "debug_disorder = None\n",
    "for disorder in disorderlist_nat_hist:\n",
    "    disorder_orphan = disorder.find(\"OrphaNumber\").text\n",
    "    disorder_name = disorder.find(\"Name\").text\n",
    "    disorder_type = disorder.find(\"DisorderType\").find(\"Name\").text\n",
    "    average_age_onset = \"|\".join([x.find(\"Name\").text\n",
    "                                  for x in disorder.find(\"AverageAgeOfOnsetList\")]) \n",
    "    \n",
    "    onset_neonatal = ('All ages' in average_age_onset) or \\\n",
    "                    ('Antenatal' in average_age_onset) or ('Neonatal' in average_age_onset)\n",
    "    onset_infant = ('All ages' in average_age_onset) or ('Infancy' in average_age_onset)\n",
    "    onset_child = ('All ages' in average_age_onset) or ('Childhood' in average_age_onset)\n",
    "    onset_adolescent = ('All ages' in average_age_onset) or ('Adolescent' in average_age_onset)\n",
    "    onset_adult = ('All ages' in average_age_onset) or ('Adult' in average_age_onset)\n",
    "    onset_elderly = ('All ages' in average_age_onset) or ('Elderly' in average_age_onset)\n",
    "    \n",
    "    average_age_death = \"|\".join([x.find(\"Name\").text\n",
    "                                  for x in disorder.find(\"AverageAgeOfDeathList\")])\n",
    "    inheritence_types = \"|\".join([x.find(\"Name\").text\n",
    "                                  for x in disorder.find(\"TypeOfInheritanceList\")])\n",
    "    nat_hist_list.append(OrderedDict([\n",
    "        (\"OrphaNumber\", disorder_orphan),\n",
    "        (\"Disorder_Name\", disorder_name),\n",
    "        (\"Onset_Infant\", onset_infant),\n",
    "        (\"Onset_Child\", onset_child),\n",
    "        (\"Onset_Adolescent\", onset_adolescent),\n",
    "        (\"Onset_Adult\", onset_adult),\n",
    "        (\"Onset_Elderly\", onset_elderly),\n",
    "        (\"Disorder_Type\", disorder_type),\n",
    "        (\"Average_Age_Onset\", average_age_onset),\n",
    "        (\"Average_Age_Death\", average_age_death),\n",
    "        (\"Inheritence_Types\", inheritence_types)\n",
    "        ]))\n",
    "nat_hist_df = pd.DataFrame(nat_hist_list)\n",
    "nat_hist_df.head(5)"
   ]
  },
  {
   "cell_type": "code",
   "execution_count": 8,
   "metadata": {
    "ExecuteTime": {
     "end_time": "2021-02-01T18:51:40.405976Z",
     "start_time": "2021-02-01T18:51:40.357095Z"
    }
   },
   "outputs": [
    {
     "data": {
      "text/html": [
       "<div>\n",
       "<style scoped>\n",
       "    .dataframe tbody tr th:only-of-type {\n",
       "        vertical-align: middle;\n",
       "    }\n",
       "\n",
       "    .dataframe tbody tr th {\n",
       "        vertical-align: top;\n",
       "    }\n",
       "\n",
       "    .dataframe thead th {\n",
       "        text-align: right;\n",
       "    }\n",
       "</style>\n",
       "<table border=\"1\" class=\"dataframe\">\n",
       "  <thead>\n",
       "    <tr style=\"text-align: right;\">\n",
       "      <th></th>\n",
       "      <th>OrphaNumber</th>\n",
       "      <th>Disorder_Name</th>\n",
       "      <th>Onset_Infant</th>\n",
       "      <th>Onset_Child</th>\n",
       "      <th>Onset_Adolescent</th>\n",
       "      <th>Onset_Adult</th>\n",
       "      <th>Onset_Elderly</th>\n",
       "      <th>Disorder_Type</th>\n",
       "      <th>Average_Age_Onset</th>\n",
       "      <th>Average_Age_Death</th>\n",
       "      <th>Inheritence_Types</th>\n",
       "    </tr>\n",
       "  </thead>\n",
       "  <tbody>\n",
       "    <tr>\n",
       "      <th>72</th>\n",
       "      <td>166466</td>\n",
       "      <td>Neurocutaneous syndrome with epilepsy</td>\n",
       "      <td>False</td>\n",
       "      <td>False</td>\n",
       "      <td>False</td>\n",
       "      <td>False</td>\n",
       "      <td>False</td>\n",
       "      <td>Category</td>\n",
       "      <td></td>\n",
       "      <td></td>\n",
       "      <td></td>\n",
       "    </tr>\n",
       "    <tr>\n",
       "      <th>74</th>\n",
       "      <td>166469</td>\n",
       "      <td>Chromosomal anomaly with epilepsy as a major f...</td>\n",
       "      <td>False</td>\n",
       "      <td>False</td>\n",
       "      <td>False</td>\n",
       "      <td>False</td>\n",
       "      <td>False</td>\n",
       "      <td>Category</td>\n",
       "      <td></td>\n",
       "      <td></td>\n",
       "      <td></td>\n",
       "    </tr>\n",
       "    <tr>\n",
       "      <th>77</th>\n",
       "      <td>166463</td>\n",
       "      <td>Epilepsy syndrome</td>\n",
       "      <td>False</td>\n",
       "      <td>False</td>\n",
       "      <td>False</td>\n",
       "      <td>False</td>\n",
       "      <td>False</td>\n",
       "      <td>Category</td>\n",
       "      <td></td>\n",
       "      <td></td>\n",
       "      <td></td>\n",
       "    </tr>\n",
       "    <tr>\n",
       "      <th>79</th>\n",
       "      <td>166478</td>\n",
       "      <td>Cerebral malformation with epilepsy</td>\n",
       "      <td>False</td>\n",
       "      <td>False</td>\n",
       "      <td>False</td>\n",
       "      <td>False</td>\n",
       "      <td>False</td>\n",
       "      <td>Category</td>\n",
       "      <td></td>\n",
       "      <td></td>\n",
       "      <td></td>\n",
       "    </tr>\n",
       "    <tr>\n",
       "      <th>80</th>\n",
       "      <td>166481</td>\n",
       "      <td>Metabolic diseases with epilepsy</td>\n",
       "      <td>False</td>\n",
       "      <td>False</td>\n",
       "      <td>False</td>\n",
       "      <td>False</td>\n",
       "      <td>False</td>\n",
       "      <td>Category</td>\n",
       "      <td></td>\n",
       "      <td></td>\n",
       "      <td></td>\n",
       "    </tr>\n",
       "    <tr>\n",
       "      <th>...</th>\n",
       "      <td>...</td>\n",
       "      <td>...</td>\n",
       "      <td>...</td>\n",
       "      <td>...</td>\n",
       "      <td>...</td>\n",
       "      <td>...</td>\n",
       "      <td>...</td>\n",
       "      <td>...</td>\n",
       "      <td>...</td>\n",
       "      <td>...</td>\n",
       "      <td>...</td>\n",
       "    </tr>\n",
       "    <tr>\n",
       "      <th>9214</th>\n",
       "      <td>100076</td>\n",
       "      <td>Duodenal neuroendocrine tumor</td>\n",
       "      <td>False</td>\n",
       "      <td>False</td>\n",
       "      <td>False</td>\n",
       "      <td>False</td>\n",
       "      <td>False</td>\n",
       "      <td>Category</td>\n",
       "      <td></td>\n",
       "      <td></td>\n",
       "      <td></td>\n",
       "    </tr>\n",
       "    <tr>\n",
       "      <th>9215</th>\n",
       "      <td>100077</td>\n",
       "      <td>Jejunal neuroendocrine tumor</td>\n",
       "      <td>False</td>\n",
       "      <td>False</td>\n",
       "      <td>False</td>\n",
       "      <td>True</td>\n",
       "      <td>False</td>\n",
       "      <td>Category</td>\n",
       "      <td>Adult</td>\n",
       "      <td></td>\n",
       "      <td></td>\n",
       "    </tr>\n",
       "    <tr>\n",
       "      <th>9238</th>\n",
       "      <td>100049</td>\n",
       "      <td>Primary interstitial lung disease specific to ...</td>\n",
       "      <td>False</td>\n",
       "      <td>False</td>\n",
       "      <td>False</td>\n",
       "      <td>False</td>\n",
       "      <td>False</td>\n",
       "      <td>Category</td>\n",
       "      <td></td>\n",
       "      <td></td>\n",
       "      <td></td>\n",
       "    </tr>\n",
       "    <tr>\n",
       "      <th>9257</th>\n",
       "      <td>99983</td>\n",
       "      <td>Cutaneous myiasis</td>\n",
       "      <td>False</td>\n",
       "      <td>False</td>\n",
       "      <td>False</td>\n",
       "      <td>False</td>\n",
       "      <td>False</td>\n",
       "      <td>Category</td>\n",
       "      <td></td>\n",
       "      <td></td>\n",
       "      <td></td>\n",
       "    </tr>\n",
       "    <tr>\n",
       "      <th>9313</th>\n",
       "      <td>99913</td>\n",
       "      <td>Extragonadal non-dysgerminomatous germ cell tumor</td>\n",
       "      <td>False</td>\n",
       "      <td>False</td>\n",
       "      <td>False</td>\n",
       "      <td>False</td>\n",
       "      <td>False</td>\n",
       "      <td>Category</td>\n",
       "      <td></td>\n",
       "      <td></td>\n",
       "      <td></td>\n",
       "    </tr>\n",
       "  </tbody>\n",
       "</table>\n",
       "<p>1802 rows × 11 columns</p>\n",
       "</div>"
      ],
      "text/plain": [
       "     OrphaNumber                                      Disorder_Name  \\\n",
       "72        166466              Neurocutaneous syndrome with epilepsy   \n",
       "74        166469  Chromosomal anomaly with epilepsy as a major f...   \n",
       "77        166463                                  Epilepsy syndrome   \n",
       "79        166478                Cerebral malformation with epilepsy   \n",
       "80        166481                   Metabolic diseases with epilepsy   \n",
       "...          ...                                                ...   \n",
       "9214      100076                      Duodenal neuroendocrine tumor   \n",
       "9215      100077                       Jejunal neuroendocrine tumor   \n",
       "9238      100049  Primary interstitial lung disease specific to ...   \n",
       "9257       99983                                  Cutaneous myiasis   \n",
       "9313       99913  Extragonadal non-dysgerminomatous germ cell tumor   \n",
       "\n",
       "      Onset_Infant  Onset_Child  Onset_Adolescent  Onset_Adult  Onset_Elderly  \\\n",
       "72           False        False             False        False          False   \n",
       "74           False        False             False        False          False   \n",
       "77           False        False             False        False          False   \n",
       "79           False        False             False        False          False   \n",
       "80           False        False             False        False          False   \n",
       "...            ...          ...               ...          ...            ...   \n",
       "9214         False        False             False        False          False   \n",
       "9215         False        False             False         True          False   \n",
       "9238         False        False             False        False          False   \n",
       "9257         False        False             False        False          False   \n",
       "9313         False        False             False        False          False   \n",
       "\n",
       "     Disorder_Type Average_Age_Onset Average_Age_Death Inheritence_Types  \n",
       "72        Category                                                        \n",
       "74        Category                                                        \n",
       "77        Category                                                        \n",
       "79        Category                                                        \n",
       "80        Category                                                        \n",
       "...            ...               ...               ...               ...  \n",
       "9214      Category                                                        \n",
       "9215      Category             Adult                                      \n",
       "9238      Category                                                        \n",
       "9257      Category                                                        \n",
       "9313      Category                                                        \n",
       "\n",
       "[1802 rows x 11 columns]"
      ]
     },
     "execution_count": 8,
     "metadata": {},
     "output_type": "execute_result"
    }
   ],
   "source": [
    "nat_hist_df.loc[nat_hist_df['Disorder_Type'] == 'Category']"
   ]
  },
  {
   "cell_type": "code",
   "execution_count": 635,
   "metadata": {},
   "outputs": [
    {
     "data": {
      "text/plain": [
       "                                                             4049\n",
       "Autosomal recessive                                          1798\n",
       "Autosomal dominant                                           1096\n",
       "Not applicable                                                894\n",
       "Unknown                                                       255\n",
       "X-linked recessive                                            253\n",
       "Autosomal dominant|Autosomal recessive                        233\n",
       "Autosomal dominant|Not applicable                             159\n",
       "Multigenic/multifactorial|Not applicable                      100\n",
       "Not applicable|Unknown                                         95\n",
       "Multigenic/multifactorial                                      68\n",
       "X-linked dominant                                              52\n",
       "Autosomal dominant|Autosomal recessive|X-linked recessive      44\n",
       "Autosomal dominant|Autosomal recessive|Not applicable          43\n",
       "Autosomal recessive|X-linked recessive                         30\n",
       "Autosomal recessive|Not applicable                             25\n",
       "No data available                                              17\n",
       "Mitochondrial inheritance                                      17\n",
       "Autosomal dominant|Autosomal recessive|X-linked dominant       11\n",
       "Autosomal dominant|Unknown                                     10\n",
       "Name: Inheritence_Types, dtype: int64"
      ]
     },
     "execution_count": 635,
     "metadata": {},
     "output_type": "execute_result"
    }
   ],
   "source": [
    "nat_hist_df.Inheritence_Types.value_counts().head(20)"
   ]
  },
  {
   "cell_type": "code",
   "execution_count": 637,
   "metadata": {},
   "outputs": [],
   "source": [
    "age_list_of_lists = [ages.split(\"|\") for ages in nat_hist_df.Average_Age_Onset]\n",
    "age_list = [item for sublist in age_list_of_lists for item in sublist]"
   ]
  },
  {
   "cell_type": "code",
   "execution_count": 638,
   "metadata": {
    "scrolled": true
   },
   "outputs": [
    {
     "name": "stderr",
     "output_type": "stream",
     "text": [
      "/mnt/envs/udn/lib/python3.7/site-packages/upsetplot/plotting.py:36: FutureWarning: From version 0.4, passing a Series as data with non-unqiue groups will raise an error unless subset_size=\"sum\" or \"count\".\n",
      "  FutureWarning)\n"
     ]
    },
    {
     "data": {
      "image/png": "[encoded data removed]",
      "text/plain": [
       "<Figure size 1953.5x512 with 4 Axes>"
      ]
     },
     "metadata": {
      "needs_background": "light"
     },
     "output_type": "display_data"
    }
   ],
   "source": [
    "upset_from_membs = from_memberships(age_list_of_lists)\n",
    "plot_upset(upset_from_membs,\n",
    "          sort_by=\"cardinality\")\n",
    "pyplot.show()"
   ]
  },
  {
   "cell_type": "code",
   "execution_count": 639,
   "metadata": {},
   "outputs": [],
   "source": [
    "nat_hist_df = nat_hist_df.query(\"Disorder_Type != 'Category'\")"
   ]
  },
  {
   "cell_type": "code",
   "execution_count": 640,
   "metadata": {},
   "outputs": [
    {
     "name": "stdout",
     "output_type": "stream",
     "text": [
      "Unique diseases w/ Natural History:  7577\n"
     ]
    }
   ],
   "source": [
    "print(\"Unique diseases w/ Natural History: \", len(set(nat_hist_df.OrphaNumber)))"
   ]
  },
  {
   "cell_type": "raw",
   "metadata": {
    "collapsed": true
   },
   "source": [
    "nat_hist_df.to_csv(ORPHANET_FLAT_PATH / 'orphanet_disease_natural_history_nonCategory.tsv', sep=\"\\t\", index = False)"
   ]
  },
  {
   "cell_type": "markdown",
   "metadata": {},
   "source": [
    "## \"Linearization\" (Categorization)"
   ]
  },
  {
   "cell_type": "code",
   "execution_count": 641,
   "metadata": {
    "scrolled": true
   },
   "outputs": [
    {
     "data": {
      "text/html": [
       "<div>\n",
       "<style scoped>\n",
       "    .dataframe tbody tr th:only-of-type {\n",
       "        vertical-align: middle;\n",
       "    }\n",
       "\n",
       "    .dataframe tbody tr th {\n",
       "        vertical-align: top;\n",
       "    }\n",
       "\n",
       "    .dataframe thead th {\n",
       "        text-align: right;\n",
       "    }\n",
       "</style>\n",
       "<table border=\"1\" class=\"dataframe\">\n",
       "  <thead>\n",
       "    <tr style=\"text-align: right;\">\n",
       "      <th></th>\n",
       "      <th>OrphaNumber</th>\n",
       "      <th>Disorder_Name</th>\n",
       "      <th>Category</th>\n",
       "    </tr>\n",
       "  </thead>\n",
       "  <tbody>\n",
       "    <tr>\n",
       "      <th>0</th>\n",
       "      <td>166024</td>\n",
       "      <td>Multiple epiphyseal dysplasia, Al-Gazali type</td>\n",
       "      <td>Rare bone disease</td>\n",
       "    </tr>\n",
       "    <tr>\n",
       "      <th>1</th>\n",
       "      <td>58</td>\n",
       "      <td>Alexander disease</td>\n",
       "      <td>Rare neurologic disease</td>\n",
       "    </tr>\n",
       "    <tr>\n",
       "      <th>2</th>\n",
       "      <td>166032</td>\n",
       "      <td>Multiple epiphyseal dysplasia, with miniepiphyses</td>\n",
       "      <td>Rare bone disease</td>\n",
       "    </tr>\n",
       "    <tr>\n",
       "      <th>3</th>\n",
       "      <td>61</td>\n",
       "      <td>Alpha-mannosidosis</td>\n",
       "      <td>Rare inborn errors of metabolism</td>\n",
       "    </tr>\n",
       "    <tr>\n",
       "      <th>4</th>\n",
       "      <td>166029</td>\n",
       "      <td>Multiple epiphyseal dysplasia, with severe pro...</td>\n",
       "      <td>Rare bone disease</td>\n",
       "    </tr>\n",
       "    <tr>\n",
       "      <th>5</th>\n",
       "      <td>166038</td>\n",
       "      <td>Metaphyseal chondrodysplasia, Kaitila type</td>\n",
       "      <td>Rare bone disease</td>\n",
       "    </tr>\n",
       "    <tr>\n",
       "      <th>6</th>\n",
       "      <td>93</td>\n",
       "      <td>Aspartylglucosaminuria</td>\n",
       "      <td>Rare inborn errors of metabolism</td>\n",
       "    </tr>\n",
       "    <tr>\n",
       "      <th>7</th>\n",
       "      <td>166035</td>\n",
       "      <td>Brachydactyly-short stature-retinitis pigmento...</td>\n",
       "      <td>Rare bone disease</td>\n",
       "    </tr>\n",
       "    <tr>\n",
       "      <th>8</th>\n",
       "      <td>585</td>\n",
       "      <td>Multiple sulfatase deficiency</td>\n",
       "      <td>Rare inborn errors of metabolism</td>\n",
       "    </tr>\n",
       "    <tr>\n",
       "      <th>9</th>\n",
       "      <td>118</td>\n",
       "      <td>Beta-mannosidosis</td>\n",
       "      <td>Rare inborn errors of metabolism</td>\n",
       "    </tr>\n",
       "  </tbody>\n",
       "</table>\n",
       "</div>"
      ],
      "text/plain": [
       "  OrphaNumber                                      Disorder_Name  \\\n",
       "0      166024      Multiple epiphyseal dysplasia, Al-Gazali type   \n",
       "1          58                                  Alexander disease   \n",
       "2      166032  Multiple epiphyseal dysplasia, with miniepiphyses   \n",
       "3          61                                 Alpha-mannosidosis   \n",
       "4      166029  Multiple epiphyseal dysplasia, with severe pro...   \n",
       "5      166038         Metaphyseal chondrodysplasia, Kaitila type   \n",
       "6          93                             Aspartylglucosaminuria   \n",
       "7      166035  Brachydactyly-short stature-retinitis pigmento...   \n",
       "8         585                      Multiple sulfatase deficiency   \n",
       "9         118                                  Beta-mannosidosis   \n",
       "\n",
       "                           Category  \n",
       "0                 Rare bone disease  \n",
       "1           Rare neurologic disease  \n",
       "2                 Rare bone disease  \n",
       "3  Rare inborn errors of metabolism  \n",
       "4                 Rare bone disease  \n",
       "5                 Rare bone disease  \n",
       "6  Rare inborn errors of metabolism  \n",
       "7                 Rare bone disease  \n",
       "8  Rare inborn errors of metabolism  \n",
       "9  Rare inborn errors of metabolism  "
      ]
     },
     "execution_count": 641,
     "metadata": {},
     "output_type": "execute_result"
    }
   ],
   "source": [
    "tree = ET.parse(str(ORPHANET_RAW_PATH / 'linearization_of_disorders_en_product7.xml'))\n",
    "root = tree.getroot()\n",
    "disorderlist_linear = root[1]\n",
    "\n",
    "\n",
    "linear_list = []\n",
    "linear_list_cat = []\n",
    "debug_disorder = None\n",
    "for disorder in disorderlist_linear:\n",
    "    disorder_orphan = disorder.find(\"OrphaNumber\").text\n",
    "    disorder_name = disorder.find(\"Name\").text\n",
    "    for child in disorder.find(\"DisorderDisorderAssociationList\"):\n",
    "        disorder1 = child.find(\"Disorder1\")\n",
    "        if \"cycle\" in disorder1.attrib:\n",
    "            disorder1_orphan = disorder_orphan\n",
    "            disorder1_name = disorder_name\n",
    "        else:\n",
    "            disorder1_orphan = disorder1.find(\"OrphaNumber\").text\n",
    "            disorder1_name = disorder1.find(\"Name\").text\n",
    "        disorder2 = child.find(\"Disorder2\")\n",
    "        if \"cycle\" in disorder2.attrib:\n",
    "            disorder2_orphan = disorder_orphan\n",
    "            disorder2_name = disorder_name\n",
    "        else:\n",
    "            disorder2_orphan = disorder2.find(\"OrphaNumber\").text\n",
    "            disorder2_name = disorder2.find(\"Name\").text\n",
    "        association_type = child.find(\"DisorderDisorderAssociationType\").find(\"Name\").text\n",
    "        linear_list.append(OrderedDict([\n",
    "            (\"OrphaNumber1\", disorder1_orphan),\n",
    "            (\"OrphaNumber2\", disorder2_orphan),\n",
    "            (\"Disorder_Name1\", disorder1_name),\n",
    "            (\"Disorder_Name2\", disorder2_name),\n",
    "            (\"Assocation_Type\", association_type)\n",
    "            ]))\n",
    "        linear_list_cat.append(OrderedDict([\n",
    "            (\"OrphaNumber\", disorder2_orphan),\n",
    "            (\"Disorder_Name\", disorder2_name),\n",
    "            (\"Category\", disorder1_name),\n",
    "            ]))\n",
    "        \n",
    "linear_df = pd.DataFrame(linear_list)\n",
    "\n",
    "linear_cat_df = pd.DataFrame(linear_list_cat).drop_duplicates()\n",
    "linear_cat_df.head(10)"
   ]
  },
  {
   "cell_type": "code",
   "execution_count": 642,
   "metadata": {},
   "outputs": [
    {
     "name": "stdout",
     "output_type": "stream",
     "text": [
      "Unique diseases w/ Linearization:  7139\n"
     ]
    }
   ],
   "source": [
    "print(\"Unique diseases w/ Linearization: \", len(set(linear_cat_df.OrphaNumber)))"
   ]
  },
  {
   "cell_type": "code",
   "execution_count": 643,
   "metadata": {
    "scrolled": false
   },
   "outputs": [
    {
     "data": {
      "text/plain": [
       "Rare developmental defect during embryogenesis          2256\n",
       "Rare neurologic disease                                 1140\n",
       "Rare neoplastic disease                                  546\n",
       "Rare inborn errors of metabolism                         512\n",
       "Rare skin disease                                        437\n",
       "Rare bone disease                                        385\n",
       "Rare ophthalmic disorder                                 251\n",
       "Rare endocrine disease                                   238\n",
       "Rare hematologic disease                                 206\n",
       "Rare systemic or rheumatologic disease                   192\n",
       "Rare infectious disease                                  176\n",
       "Rare immune disease                                      176\n",
       "Rare renal disease                                       135\n",
       "Rare gastroenterologic disease                            87\n",
       "Rare respiratory disease                                  75\n",
       "Rare hepatic disease                                      68\n",
       "Rare otorhinolaryngologic disease                         52\n",
       "Rare cardiac disease                                      48\n",
       "Rare disorder with RCH resources uncovered otherwise      29\n",
       "Rare odontologic disease                                  25\n",
       "Rare disorder due to toxic effects                        23\n",
       "Rare circulatory system disease                           21\n",
       "Rare gynecologic or obstetric disease                     12\n",
       "Rare urogenital disease                                   11\n",
       "Rare infertility                                          10\n",
       "Rare abdominal surgical disease                            8\n",
       "Rare maxillo-facial surgical disease                       7\n",
       "Rare surgical thoracic disease                             6\n",
       "Rare genetic disease                                       4\n",
       "Rare surgical cardiac disease                              1\n",
       "Rare disorder of the visual organs                         1\n",
       "Rare neurologic disease with psychiatric involvement       1\n",
       "Name: Category, dtype: int64"
      ]
     },
     "execution_count": 643,
     "metadata": {},
     "output_type": "execute_result"
    }
   ],
   "source": [
    "linear_cat_df.Category.value_counts()"
   ]
  },
  {
   "cell_type": "raw",
   "metadata": {
    "collapsed": true
   },
   "source": [
    "linear_cat_df.to_csv(ORPHANET_FLAT_PATH / 'orphanet_disease_categorization.tsv', sep=\"\\t\", index = False)"
   ]
  },
  {
   "cell_type": "markdown",
   "metadata": {},
   "source": [
    "## Cross-Mapping"
   ]
  },
  {
   "cell_type": "code",
   "execution_count": 644,
   "metadata": {},
   "outputs": [],
   "source": [
    "tree = ET.parse(str(ORPHANET_RAW_PATH / 'rare_disease_crossref_en_product1.xml'))\n",
    "root = tree.getroot()\n",
    "disorderlist_cross = root[1]"
   ]
  },
  {
   "cell_type": "code",
   "execution_count": 645,
   "metadata": {
    "scrolled": true
   },
   "outputs": [
    {
     "data": {
      "text/html": [
       "<div>\n",
       "<style scoped>\n",
       "    .dataframe tbody tr th:only-of-type {\n",
       "        vertical-align: middle;\n",
       "    }\n",
       "\n",
       "    .dataframe tbody tr th {\n",
       "        vertical-align: top;\n",
       "    }\n",
       "\n",
       "    .dataframe thead th {\n",
       "        text-align: right;\n",
       "    }\n",
       "</style>\n",
       "<table border=\"1\" class=\"dataframe\">\n",
       "  <thead>\n",
       "    <tr style=\"text-align: right;\">\n",
       "      <th></th>\n",
       "      <th>OrphaNumber</th>\n",
       "      <th>Disorder_Name</th>\n",
       "      <th>External_Source</th>\n",
       "      <th>External_ID</th>\n",
       "      <th>External_Mapping_Rel</th>\n",
       "      <th>External_Mapping_Status</th>\n",
       "      <th>Disorder_Synonyms</th>\n",
       "    </tr>\n",
       "  </thead>\n",
       "  <tbody>\n",
       "    <tr>\n",
       "      <th>0</th>\n",
       "      <td>166024</td>\n",
       "      <td>Multiple epiphyseal dysplasia, Al-Gazali type</td>\n",
       "      <td>ICD-10</td>\n",
       "      <td>Q77.3</td>\n",
       "      <td>NTBT (narrower term maps to a broader term)</td>\n",
       "      <td>Validated</td>\n",
       "      <td>Multiple epiphyseal dysplasia-macrocephaly-dis...</td>\n",
       "    </tr>\n",
       "    <tr>\n",
       "      <th>1</th>\n",
       "      <td>166024</td>\n",
       "      <td>Multiple epiphyseal dysplasia, Al-Gazali type</td>\n",
       "      <td>OMIM</td>\n",
       "      <td>607131</td>\n",
       "      <td>E (exact mapping (the terms and the concepts a...</td>\n",
       "      <td>Validated</td>\n",
       "      <td>Multiple epiphyseal dysplasia-macrocephaly-dis...</td>\n",
       "    </tr>\n",
       "    <tr>\n",
       "      <th>2</th>\n",
       "      <td>166024</td>\n",
       "      <td>Multiple epiphyseal dysplasia, Al-Gazali type</td>\n",
       "      <td>UMLS</td>\n",
       "      <td>C1846722</td>\n",
       "      <td>E (exact mapping (the terms and the concepts a...</td>\n",
       "      <td>Validated</td>\n",
       "      <td>Multiple epiphyseal dysplasia-macrocephaly-dis...</td>\n",
       "    </tr>\n",
       "    <tr>\n",
       "      <th>3</th>\n",
       "      <td>58</td>\n",
       "      <td>Alexander disease</td>\n",
       "      <td>OMIM</td>\n",
       "      <td>203450</td>\n",
       "      <td>E (exact mapping (the terms and the concepts a...</td>\n",
       "      <td>Validated</td>\n",
       "      <td>AxD</td>\n",
       "    </tr>\n",
       "    <tr>\n",
       "      <th>4</th>\n",
       "      <td>58</td>\n",
       "      <td>Alexander disease</td>\n",
       "      <td>MeSH</td>\n",
       "      <td>D038261</td>\n",
       "      <td>E (exact mapping (the terms and the concepts a...</td>\n",
       "      <td>Validated</td>\n",
       "      <td>AxD</td>\n",
       "    </tr>\n",
       "    <tr>\n",
       "      <th>5</th>\n",
       "      <td>58</td>\n",
       "      <td>Alexander disease</td>\n",
       "      <td>UMLS</td>\n",
       "      <td>C0270726</td>\n",
       "      <td>E (exact mapping (the terms and the concepts a...</td>\n",
       "      <td>Validated</td>\n",
       "      <td>AxD</td>\n",
       "    </tr>\n",
       "    <tr>\n",
       "      <th>6</th>\n",
       "      <td>58</td>\n",
       "      <td>Alexander disease</td>\n",
       "      <td>ICD-10</td>\n",
       "      <td>E75.2</td>\n",
       "      <td>NTBT (narrower term maps to a broader term)</td>\n",
       "      <td>Validated</td>\n",
       "      <td>AxD</td>\n",
       "    </tr>\n",
       "    <tr>\n",
       "      <th>7</th>\n",
       "      <td>166032</td>\n",
       "      <td>Multiple epiphyseal dysplasia, with miniepiphyses</td>\n",
       "      <td>ICD-10</td>\n",
       "      <td>Q77.3</td>\n",
       "      <td>NTBT (narrower term maps to a broader term)</td>\n",
       "      <td>Validated</td>\n",
       "      <td></td>\n",
       "    </tr>\n",
       "    <tr>\n",
       "      <th>8</th>\n",
       "      <td>166032</td>\n",
       "      <td>Multiple epiphyseal dysplasia, with miniepiphyses</td>\n",
       "      <td>UMLS</td>\n",
       "      <td>C1836307</td>\n",
       "      <td>E (exact mapping (the terms and the concepts a...</td>\n",
       "      <td>Validated</td>\n",
       "      <td></td>\n",
       "    </tr>\n",
       "    <tr>\n",
       "      <th>9</th>\n",
       "      <td>166032</td>\n",
       "      <td>Multiple epiphyseal dysplasia, with miniepiphyses</td>\n",
       "      <td>OMIM</td>\n",
       "      <td>609325</td>\n",
       "      <td>E (exact mapping (the terms and the concepts a...</td>\n",
       "      <td>Validated</td>\n",
       "      <td></td>\n",
       "    </tr>\n",
       "  </tbody>\n",
       "</table>\n",
       "</div>"
      ],
      "text/plain": [
       "  OrphaNumber                                      Disorder_Name  \\\n",
       "0      166024      Multiple epiphyseal dysplasia, Al-Gazali type   \n",
       "1      166024      Multiple epiphyseal dysplasia, Al-Gazali type   \n",
       "2      166024      Multiple epiphyseal dysplasia, Al-Gazali type   \n",
       "3          58                                  Alexander disease   \n",
       "4          58                                  Alexander disease   \n",
       "5          58                                  Alexander disease   \n",
       "6          58                                  Alexander disease   \n",
       "7      166032  Multiple epiphyseal dysplasia, with miniepiphyses   \n",
       "8      166032  Multiple epiphyseal dysplasia, with miniepiphyses   \n",
       "9      166032  Multiple epiphyseal dysplasia, with miniepiphyses   \n",
       "\n",
       "  External_Source External_ID  \\\n",
       "0          ICD-10       Q77.3   \n",
       "1            OMIM      607131   \n",
       "2            UMLS    C1846722   \n",
       "3            OMIM      203450   \n",
       "4            MeSH     D038261   \n",
       "5            UMLS    C0270726   \n",
       "6          ICD-10       E75.2   \n",
       "7          ICD-10       Q77.3   \n",
       "8            UMLS    C1836307   \n",
       "9            OMIM      609325   \n",
       "\n",
       "                                External_Mapping_Rel External_Mapping_Status  \\\n",
       "0        NTBT (narrower term maps to a broader term)               Validated   \n",
       "1  E (exact mapping (the terms and the concepts a...               Validated   \n",
       "2  E (exact mapping (the terms and the concepts a...               Validated   \n",
       "3  E (exact mapping (the terms and the concepts a...               Validated   \n",
       "4  E (exact mapping (the terms and the concepts a...               Validated   \n",
       "5  E (exact mapping (the terms and the concepts a...               Validated   \n",
       "6        NTBT (narrower term maps to a broader term)               Validated   \n",
       "7        NTBT (narrower term maps to a broader term)               Validated   \n",
       "8  E (exact mapping (the terms and the concepts a...               Validated   \n",
       "9  E (exact mapping (the terms and the concepts a...               Validated   \n",
       "\n",
       "                                   Disorder_Synonyms  \n",
       "0  Multiple epiphyseal dysplasia-macrocephaly-dis...  \n",
       "1  Multiple epiphyseal dysplasia-macrocephaly-dis...  \n",
       "2  Multiple epiphyseal dysplasia-macrocephaly-dis...  \n",
       "3                                                AxD  \n",
       "4                                                AxD  \n",
       "5                                                AxD  \n",
       "6                                                AxD  \n",
       "7                                                     \n",
       "8                                                     \n",
       "9                                                     "
      ]
     },
     "execution_count": 645,
     "metadata": {},
     "output_type": "execute_result"
    }
   ],
   "source": [
    "\n",
    "rel_list = []\n",
    "for disorder in disorderlist_cross:\n",
    "    disorder_orphan = disorder.find(\"OrphaNumber\").text\n",
    "    disorder_name = disorder.find(\"Name\").text\n",
    "    disorder_synonyms = \"|\".join([x.text\n",
    "                                  for x in disorder.find(\"SynonymList\")])\n",
    "    for child in disorder.find(\"ExternalReferenceList\"):\n",
    "        external_source = child.find(\"Source\").text\n",
    "        external_id = child.find(\"Reference\").text\n",
    "        external_mapping_rel = child.find(\"DisorderMappingRelation\").find(\"Name\").text\n",
    "        external_mapping_status = child.find(\"DisorderMappingValidationStatus\").find(\"Name\").text\n",
    "        rel_list.append(OrderedDict([\n",
    "            (\"OrphaNumber\", disorder_orphan),\n",
    "            (\"Disorder_Name\", disorder_name),\n",
    "            (\"External_Source\", external_source),\n",
    "            (\"External_ID\", external_id),\n",
    "            (\"External_Mapping_Rel\", external_mapping_rel),\n",
    "            (\"External_Mapping_Status\", external_mapping_status),\n",
    "            (\"Disorder_Synonyms\", disorder_synonyms)\n",
    "        ]))\n",
    "rel_df = pd.DataFrame(rel_list)\n",
    "rel_df.head(10)"
   ]
  },
  {
   "cell_type": "code",
   "execution_count": 646,
   "metadata": {},
   "outputs": [
    {
     "name": "stdout",
     "output_type": "stream",
     "text": [
      "Unique diseases w/ External Mappings:  7875\n"
     ]
    }
   ],
   "source": [
    "print(\"Unique diseases w/ External Mappings: \", len(set(rel_df.OrphaNumber)))"
   ]
  },
  {
   "cell_type": "code",
   "execution_count": 647,
   "metadata": {},
   "outputs": [
    {
     "data": {
      "text/plain": [
       "24123"
      ]
     },
     "execution_count": 647,
     "metadata": {},
     "output_type": "execute_result"
    }
   ],
   "source": [
    "rel_df.External_Source.value_counts().sum()"
   ]
  },
  {
   "cell_type": "code",
   "execution_count": 648,
   "metadata": {},
   "outputs": [
    {
     "data": {
      "text/plain": [
       "E (exact mapping (the terms and the concepts are equivalent))                                                         12768\n",
       "NTBT (narrower term maps to a broader term)                                                                            6934\n",
       "BTNT (broader term maps to a narrower term)                                                                            4223\n",
       "ND (not yet decided/unable to decide)                                                                                   196\n",
       "NTBT/E (narrower term maps to a broader term because of an exact mapping with a synonym in the target terminology)        2\n",
       "Name: External_Mapping_Rel, dtype: int64"
      ]
     },
     "execution_count": 648,
     "metadata": {},
     "output_type": "execute_result"
    }
   ],
   "source": [
    "rel_df.External_Mapping_Rel.value_counts()"
   ]
  },
  {
   "cell_type": "code",
   "execution_count": 649,
   "metadata": {
    "scrolled": true
   },
   "outputs": [],
   "source": [
    "rel_df.External_Mapping_Status.value_counts()\n",
    "rel_df = rel_df.query(\"External_Mapping_Status == 'Validated'\")"
   ]
  },
  {
   "cell_type": "raw",
   "metadata": {
    "collapsed": true
   },
   "source": [
    "rel_df.to_csv(ORPHANET_FLAT_PATH / 'orphanet_disease_cross_mapping.tsv', sep=\"\\t\", index = False)"
   ]
  },
  {
   "cell_type": "markdown",
   "metadata": {},
   "source": [
    "## Epi Files"
   ]
  },
  {
   "cell_type": "raw",
   "metadata": {},
   "source": [
    "# Has prevalence data\n",
    "tree = ET.parse(str(ORPHANET_PATH / 'epidemiology_en_product9_prev.xml'))\n",
    "root = tree.getroot()\n",
    "disorderlist_epi = root[1]"
   ]
  },
  {
   "cell_type": "markdown",
   "metadata": {},
   "source": [
    "## Explore diseases missing phenotypes or genes"
   ]
  },
  {
   "cell_type": "code",
   "execution_count": 650,
   "metadata": {},
   "outputs": [],
   "source": [
    "orphas_w_hpo_not_gene = [orpha for orpha in set(linear_cat_df.OrphaNumber.values) if orpha in disease_hpo_df.OrphaNumber.values and orpha not in disorder_gene_df_causal.OrphaNumber.values]\n",
    "orphas_w_gene_not_hpo = [orpha for orpha in set(linear_cat_df.OrphaNumber.values) if orpha in disorder_gene_df_causal.OrphaNumber.values and orpha not in disease_hpo_df.OrphaNumber.values]\n"
   ]
  },
  {
   "cell_type": "code",
   "execution_count": 651,
   "metadata": {},
   "outputs": [
    {
     "data": {
      "text/html": [
       "<div>\n",
       "<style scoped>\n",
       "    .dataframe tbody tr th:only-of-type {\n",
       "        vertical-align: middle;\n",
       "    }\n",
       "\n",
       "    .dataframe tbody tr th {\n",
       "        vertical-align: top;\n",
       "    }\n",
       "\n",
       "    .dataframe thead th {\n",
       "        text-align: right;\n",
       "    }\n",
       "</style>\n",
       "<table border=\"1\" class=\"dataframe\">\n",
       "  <thead>\n",
       "    <tr style=\"text-align: right;\">\n",
       "      <th></th>\n",
       "      <th>OrphaNumber</th>\n",
       "      <th>Disorder_Name</th>\n",
       "    </tr>\n",
       "  </thead>\n",
       "  <tbody>\n",
       "    <tr>\n",
       "      <th>1</th>\n",
       "      <td>58</td>\n",
       "      <td>Alexander disease</td>\n",
       "    </tr>\n",
       "    <tr>\n",
       "      <th>4626</th>\n",
       "      <td>363722</td>\n",
       "      <td>Alexander disease type II</td>\n",
       "    </tr>\n",
       "    <tr>\n",
       "      <th>4627</th>\n",
       "      <td>363717</td>\n",
       "      <td>Alexander disease type I</td>\n",
       "    </tr>\n",
       "  </tbody>\n",
       "</table>\n",
       "</div>"
      ],
      "text/plain": [
       "     OrphaNumber              Disorder_Name\n",
       "1             58          Alexander disease\n",
       "4626      363722  Alexander disease type II\n",
       "4627      363717   Alexander disease type I"
      ]
     },
     "execution_count": 651,
     "metadata": {},
     "output_type": "execute_result"
    }
   ],
   "source": [
    "nat_hist_df.loc[nat_hist_df.Disorder_Name.str.contains('Alexander', regex=False)]\\\n",
    "[[\"OrphaNumber\", \"Disorder_Name\"]].drop_duplicates()"
   ]
  },
  {
   "cell_type": "code",
   "execution_count": 652,
   "metadata": {},
   "outputs": [
    {
     "data": {
      "text/html": [
       "<div>\n",
       "<style scoped>\n",
       "    .dataframe tbody tr th:only-of-type {\n",
       "        vertical-align: middle;\n",
       "    }\n",
       "\n",
       "    .dataframe tbody tr th {\n",
       "        vertical-align: top;\n",
       "    }\n",
       "\n",
       "    .dataframe thead th {\n",
       "        text-align: right;\n",
       "    }\n",
       "</style>\n",
       "<table border=\"1\" class=\"dataframe\">\n",
       "  <thead>\n",
       "    <tr style=\"text-align: right;\">\n",
       "      <th></th>\n",
       "      <th>OrphaNumber</th>\n",
       "      <th>Disorder_Name</th>\n",
       "    </tr>\n",
       "  </thead>\n",
       "  <tbody>\n",
       "    <tr>\n",
       "      <th>12340</th>\n",
       "      <td>702</td>\n",
       "      <td>Pelizaeus-Merzbacher disease</td>\n",
       "    </tr>\n",
       "  </tbody>\n",
       "</table>\n",
       "</div>"
      ],
      "text/plain": [
       "      OrphaNumber                 Disorder_Name\n",
       "12340         702  Pelizaeus-Merzbacher disease"
      ]
     },
     "execution_count": 652,
     "metadata": {},
     "output_type": "execute_result"
    }
   ],
   "source": [
    "disease_hpo_df.loc[disease_hpo_df.Disorder_Name.str.contains('Pelizaeus-Merzbacher', regex=False)]\\\n",
    "[[\"OrphaNumber\", \"Disorder_Name\"]].drop_duplicates()"
   ]
  },
  {
   "cell_type": "code",
   "execution_count": 653,
   "metadata": {},
   "outputs": [
    {
     "data": {
      "text/html": [
       "<div>\n",
       "<style scoped>\n",
       "    .dataframe tbody tr th:only-of-type {\n",
       "        vertical-align: middle;\n",
       "    }\n",
       "\n",
       "    .dataframe tbody tr th {\n",
       "        vertical-align: top;\n",
       "    }\n",
       "\n",
       "    .dataframe thead th {\n",
       "        text-align: right;\n",
       "    }\n",
       "</style>\n",
       "<table border=\"1\" class=\"dataframe\">\n",
       "  <thead>\n",
       "    <tr style=\"text-align: right;\">\n",
       "      <th></th>\n",
       "      <th>OrphaNumber</th>\n",
       "      <th>Disorder_Name</th>\n",
       "    </tr>\n",
       "  </thead>\n",
       "  <tbody>\n",
       "    <tr>\n",
       "      <th>2784</th>\n",
       "      <td>280293</td>\n",
       "      <td>Pelizaeus-Merzbacher-like disease due to AIMP1...</td>\n",
       "    </tr>\n",
       "    <tr>\n",
       "      <th>2785</th>\n",
       "      <td>280288</td>\n",
       "      <td>Pelizaeus-Merzbacher-like disease due to HSPD1...</td>\n",
       "    </tr>\n",
       "    <tr>\n",
       "      <th>2831</th>\n",
       "      <td>280210</td>\n",
       "      <td>Pelizaeus-Merzbacher disease, connatal form</td>\n",
       "    </tr>\n",
       "    <tr>\n",
       "      <th>2832</th>\n",
       "      <td>280219</td>\n",
       "      <td>Pelizaeus-Merzbacher disease, classic form</td>\n",
       "    </tr>\n",
       "    <tr>\n",
       "      <th>2865</th>\n",
       "      <td>280282</td>\n",
       "      <td>Pelizaeus-Merzbacher-like disease due to GJC2 ...</td>\n",
       "    </tr>\n",
       "    <tr>\n",
       "      <th>2868</th>\n",
       "      <td>280224</td>\n",
       "      <td>Pelizaeus-Merzbacher disease, transitional form</td>\n",
       "    </tr>\n",
       "    <tr>\n",
       "      <th>2870</th>\n",
       "      <td>280229</td>\n",
       "      <td>Pelizaeus-Merzbacher disease in female carriers</td>\n",
       "    </tr>\n",
       "  </tbody>\n",
       "</table>\n",
       "</div>"
      ],
      "text/plain": [
       "     OrphaNumber                                      Disorder_Name\n",
       "2784      280293  Pelizaeus-Merzbacher-like disease due to AIMP1...\n",
       "2785      280288  Pelizaeus-Merzbacher-like disease due to HSPD1...\n",
       "2831      280210        Pelizaeus-Merzbacher disease, connatal form\n",
       "2832      280219         Pelizaeus-Merzbacher disease, classic form\n",
       "2865      280282  Pelizaeus-Merzbacher-like disease due to GJC2 ...\n",
       "2868      280224    Pelizaeus-Merzbacher disease, transitional form\n",
       "2870      280229    Pelizaeus-Merzbacher disease in female carriers"
      ]
     },
     "execution_count": 653,
     "metadata": {},
     "output_type": "execute_result"
    }
   ],
   "source": [
    "disorder_gene_df_causal.loc[disorder_gene_df_causal.Disorder_Name.str.contains('Pelizaeus-Merzbacher', regex=False)]\\\n",
    "[[\"OrphaNumber\", \"Disorder_Name\"]].drop_duplicates()"
   ]
  },
  {
   "cell_type": "code",
   "execution_count": 654,
   "metadata": {},
   "outputs": [
    {
     "data": {
      "text/html": [
       "<div>\n",
       "<style scoped>\n",
       "    .dataframe tbody tr th:only-of-type {\n",
       "        vertical-align: middle;\n",
       "    }\n",
       "\n",
       "    .dataframe tbody tr th {\n",
       "        vertical-align: top;\n",
       "    }\n",
       "\n",
       "    .dataframe thead th {\n",
       "        text-align: right;\n",
       "    }\n",
       "</style>\n",
       "<table border=\"1\" class=\"dataframe\">\n",
       "  <thead>\n",
       "    <tr style=\"text-align: right;\">\n",
       "      <th></th>\n",
       "      <th>OrphaNumber</th>\n",
       "      <th>Disorder_Name</th>\n",
       "      <th>Onset_Infant</th>\n",
       "      <th>Onset_Child</th>\n",
       "      <th>Onset_Adolescent</th>\n",
       "      <th>Onset_Adult</th>\n",
       "      <th>Onset_Elderly</th>\n",
       "      <th>Disorder_Type</th>\n",
       "      <th>Average_Age_Onset</th>\n",
       "      <th>Average_Age_Death</th>\n",
       "      <th>Inheritence_Types</th>\n",
       "    </tr>\n",
       "  </thead>\n",
       "  <tbody>\n",
       "    <tr>\n",
       "      <th>10</th>\n",
       "      <td>166068</td>\n",
       "      <td>Pontocerebellar hypoplasia type 5</td>\n",
       "      <td>True</td>\n",
       "      <td>False</td>\n",
       "      <td>False</td>\n",
       "      <td>False</td>\n",
       "      <td>False</td>\n",
       "      <td>Malformation syndrome</td>\n",
       "      <td>Infancy|Neonatal</td>\n",
       "      <td>early childhood</td>\n",
       "      <td>Autosomal recessive</td>\n",
       "    </tr>\n",
       "    <tr>\n",
       "      <th>13</th>\n",
       "      <td>166078</td>\n",
       "      <td>Von Willebrand disease type 1</td>\n",
       "      <td>True</td>\n",
       "      <td>True</td>\n",
       "      <td>True</td>\n",
       "      <td>True</td>\n",
       "      <td>True</td>\n",
       "      <td>Clinical subtype</td>\n",
       "      <td>All ages</td>\n",
       "      <td></td>\n",
       "      <td>Autosomal dominant</td>\n",
       "    </tr>\n",
       "    <tr>\n",
       "      <th>14</th>\n",
       "      <td>166073</td>\n",
       "      <td>Pontocerebellar hypoplasia type 6</td>\n",
       "      <td>True</td>\n",
       "      <td>False</td>\n",
       "      <td>False</td>\n",
       "      <td>False</td>\n",
       "      <td>False</td>\n",
       "      <td>Malformation syndrome</td>\n",
       "      <td>Infancy|Neonatal</td>\n",
       "      <td>early childhood</td>\n",
       "      <td>Autosomal recessive</td>\n",
       "    </tr>\n",
       "    <tr>\n",
       "      <th>16</th>\n",
       "      <td>166084</td>\n",
       "      <td>Von Willebrand disease type 2A</td>\n",
       "      <td>False</td>\n",
       "      <td>False</td>\n",
       "      <td>False</td>\n",
       "      <td>False</td>\n",
       "      <td>False</td>\n",
       "      <td>Clinical subtype</td>\n",
       "      <td></td>\n",
       "      <td></td>\n",
       "      <td>Autosomal dominant|Autosomal recessive</td>\n",
       "    </tr>\n",
       "    <tr>\n",
       "      <th>20</th>\n",
       "      <td>166090</td>\n",
       "      <td>Von Willebrand disease type 2M</td>\n",
       "      <td>False</td>\n",
       "      <td>False</td>\n",
       "      <td>False</td>\n",
       "      <td>False</td>\n",
       "      <td>False</td>\n",
       "      <td>Clinical subtype</td>\n",
       "      <td></td>\n",
       "      <td></td>\n",
       "      <td>Autosomal dominant</td>\n",
       "    </tr>\n",
       "  </tbody>\n",
       "</table>\n",
       "</div>"
      ],
      "text/plain": [
       "   OrphaNumber                      Disorder_Name  Onset_Infant  Onset_Child  \\\n",
       "10      166068  Pontocerebellar hypoplasia type 5          True        False   \n",
       "13      166078      Von Willebrand disease type 1          True         True   \n",
       "14      166073  Pontocerebellar hypoplasia type 6          True        False   \n",
       "16      166084     Von Willebrand disease type 2A         False        False   \n",
       "20      166090     Von Willebrand disease type 2M         False        False   \n",
       "\n",
       "    Onset_Adolescent  Onset_Adult  Onset_Elderly          Disorder_Type  \\\n",
       "10             False        False          False  Malformation syndrome   \n",
       "13              True         True           True       Clinical subtype   \n",
       "14             False        False          False  Malformation syndrome   \n",
       "16             False        False          False       Clinical subtype   \n",
       "20             False        False          False       Clinical subtype   \n",
       "\n",
       "   Average_Age_Onset Average_Age_Death                       Inheritence_Types  \n",
       "10  Infancy|Neonatal   early childhood                     Autosomal recessive  \n",
       "13          All ages                                        Autosomal dominant  \n",
       "14  Infancy|Neonatal   early childhood                     Autosomal recessive  \n",
       "16                                      Autosomal dominant|Autosomal recessive  \n",
       "20                                                          Autosomal dominant  "
      ]
     },
     "execution_count": 654,
     "metadata": {},
     "output_type": "execute_result"
    }
   ],
   "source": [
    "nat_hist_df.query(\"OrphaNumber in @orphas_w_gene_not_hpo\").head()"
   ]
  },
  {
   "cell_type": "code",
   "execution_count": 655,
   "metadata": {},
   "outputs": [
    {
     "data": {
      "text/html": [
       "<div>\n",
       "<style scoped>\n",
       "    .dataframe tbody tr th:only-of-type {\n",
       "        vertical-align: middle;\n",
       "    }\n",
       "\n",
       "    .dataframe tbody tr th {\n",
       "        vertical-align: top;\n",
       "    }\n",
       "\n",
       "    .dataframe thead th {\n",
       "        text-align: right;\n",
       "    }\n",
       "</style>\n",
       "<table border=\"1\" class=\"dataframe\">\n",
       "  <thead>\n",
       "    <tr style=\"text-align: right;\">\n",
       "      <th></th>\n",
       "      <th>OrphaNumber</th>\n",
       "      <th>Disorder_Name</th>\n",
       "    </tr>\n",
       "  </thead>\n",
       "  <tbody>\n",
       "    <tr>\n",
       "      <th>10</th>\n",
       "      <td>166068</td>\n",
       "      <td>Pontocerebellar hypoplasia type 5</td>\n",
       "    </tr>\n",
       "    <tr>\n",
       "      <th>12</th>\n",
       "      <td>166063</td>\n",
       "      <td>Pontocerebellar hypoplasia type 4</td>\n",
       "    </tr>\n",
       "    <tr>\n",
       "      <th>14</th>\n",
       "      <td>166073</td>\n",
       "      <td>Pontocerebellar hypoplasia type 6</td>\n",
       "    </tr>\n",
       "    <tr>\n",
       "      <th>2566</th>\n",
       "      <td>2524</td>\n",
       "      <td>Pontocerebellar hypoplasia type 2</td>\n",
       "    </tr>\n",
       "    <tr>\n",
       "      <th>3574</th>\n",
       "      <td>2254</td>\n",
       "      <td>Pontocerebellar hypoplasia type 1</td>\n",
       "    </tr>\n",
       "    <tr>\n",
       "      <th>4371</th>\n",
       "      <td>324569</td>\n",
       "      <td>Pontocerebellar hypoplasia type 8</td>\n",
       "    </tr>\n",
       "    <tr>\n",
       "      <th>4579</th>\n",
       "      <td>369920</td>\n",
       "      <td>Pontocerebellar hypoplasia type 9</td>\n",
       "    </tr>\n",
       "    <tr>\n",
       "      <th>5033</th>\n",
       "      <td>284339</td>\n",
       "      <td>Pontocerebellar hypoplasia type 7</td>\n",
       "    </tr>\n",
       "    <tr>\n",
       "      <th>5645</th>\n",
       "      <td>411493</td>\n",
       "      <td>Pontocerebellar hypoplasia type 10</td>\n",
       "    </tr>\n",
       "    <tr>\n",
       "      <th>8159</th>\n",
       "      <td>97249</td>\n",
       "      <td>Pontocerebellar hypoplasia type 3</td>\n",
       "    </tr>\n",
       "  </tbody>\n",
       "</table>\n",
       "</div>"
      ],
      "text/plain": [
       "     OrphaNumber                       Disorder_Name\n",
       "10        166068   Pontocerebellar hypoplasia type 5\n",
       "12        166063   Pontocerebellar hypoplasia type 4\n",
       "14        166073   Pontocerebellar hypoplasia type 6\n",
       "2566        2524   Pontocerebellar hypoplasia type 2\n",
       "3574        2254   Pontocerebellar hypoplasia type 1\n",
       "4371      324569   Pontocerebellar hypoplasia type 8\n",
       "4579      369920   Pontocerebellar hypoplasia type 9\n",
       "5033      284339   Pontocerebellar hypoplasia type 7\n",
       "5645      411493  Pontocerebellar hypoplasia type 10\n",
       "8159       97249   Pontocerebellar hypoplasia type 3"
      ]
     },
     "execution_count": 655,
     "metadata": {},
     "output_type": "execute_result"
    }
   ],
   "source": [
    "nat_hist_df.loc[nat_hist_df.Disorder_Name.str.contains('Pontocerebellar', regex=False)]\\\n",
    "[[\"OrphaNumber\", \"Disorder_Name\"]].drop_duplicates()"
   ]
  },
  {
   "cell_type": "code",
   "execution_count": 656,
   "metadata": {},
   "outputs": [
    {
     "data": {
      "text/html": [
       "<div>\n",
       "<style scoped>\n",
       "    .dataframe tbody tr th:only-of-type {\n",
       "        vertical-align: middle;\n",
       "    }\n",
       "\n",
       "    .dataframe tbody tr th {\n",
       "        vertical-align: top;\n",
       "    }\n",
       "\n",
       "    .dataframe thead th {\n",
       "        text-align: right;\n",
       "    }\n",
       "</style>\n",
       "<table border=\"1\" class=\"dataframe\">\n",
       "  <thead>\n",
       "    <tr style=\"text-align: right;\">\n",
       "      <th></th>\n",
       "      <th>OrphaNumber</th>\n",
       "      <th>Disorder_Name</th>\n",
       "    </tr>\n",
       "  </thead>\n",
       "  <tbody>\n",
       "    <tr>\n",
       "      <th>262</th>\n",
       "      <td>166063</td>\n",
       "      <td>Pontocerebellar hypoplasia type 4</td>\n",
       "    </tr>\n",
       "    <tr>\n",
       "      <th>54219</th>\n",
       "      <td>284339</td>\n",
       "      <td>Pontocerebellar hypoplasia type 7</td>\n",
       "    </tr>\n",
       "    <tr>\n",
       "      <th>57134</th>\n",
       "      <td>411493</td>\n",
       "      <td>Pontocerebellar hypoplasia type 10</td>\n",
       "    </tr>\n",
       "  </tbody>\n",
       "</table>\n",
       "</div>"
      ],
      "text/plain": [
       "      OrphaNumber                       Disorder_Name\n",
       "262        166063   Pontocerebellar hypoplasia type 4\n",
       "54219      284339   Pontocerebellar hypoplasia type 7\n",
       "57134      411493  Pontocerebellar hypoplasia type 10"
      ]
     },
     "execution_count": 656,
     "metadata": {},
     "output_type": "execute_result"
    }
   ],
   "source": [
    "disease_hpo_df.loc[disease_hpo_df.Disorder_Name.str.contains('Pontocerebellar', regex=False)]\\\n",
    "[[\"OrphaNumber\", \"Disorder_Name\"]].drop_duplicates()"
   ]
  },
  {
   "cell_type": "code",
   "execution_count": 657,
   "metadata": {},
   "outputs": [
    {
     "data": {
      "text/html": [
       "<div>\n",
       "<style scoped>\n",
       "    .dataframe tbody tr th:only-of-type {\n",
       "        vertical-align: middle;\n",
       "    }\n",
       "\n",
       "    .dataframe tbody tr th {\n",
       "        vertical-align: top;\n",
       "    }\n",
       "\n",
       "    .dataframe thead th {\n",
       "        text-align: right;\n",
       "    }\n",
       "</style>\n",
       "<table border=\"1\" class=\"dataframe\">\n",
       "  <thead>\n",
       "    <tr style=\"text-align: right;\">\n",
       "      <th></th>\n",
       "      <th>OrphaNumber</th>\n",
       "      <th>Disorder_Name</th>\n",
       "    </tr>\n",
       "  </thead>\n",
       "  <tbody>\n",
       "    <tr>\n",
       "      <th>5</th>\n",
       "      <td>166068</td>\n",
       "      <td>Pontocerebellar hypoplasia type 5</td>\n",
       "    </tr>\n",
       "    <tr>\n",
       "      <th>6</th>\n",
       "      <td>166063</td>\n",
       "      <td>Pontocerebellar hypoplasia type 4</td>\n",
       "    </tr>\n",
       "    <tr>\n",
       "      <th>8</th>\n",
       "      <td>166073</td>\n",
       "      <td>Pontocerebellar hypoplasia type 6</td>\n",
       "    </tr>\n",
       "    <tr>\n",
       "      <th>2430</th>\n",
       "      <td>2524</td>\n",
       "      <td>Pontocerebellar hypoplasia type 2</td>\n",
       "    </tr>\n",
       "    <tr>\n",
       "      <th>3127</th>\n",
       "      <td>2254</td>\n",
       "      <td>Pontocerebellar hypoplasia type 1</td>\n",
       "    </tr>\n",
       "    <tr>\n",
       "      <th>3782</th>\n",
       "      <td>324569</td>\n",
       "      <td>Pontocerebellar hypoplasia type 8</td>\n",
       "    </tr>\n",
       "    <tr>\n",
       "      <th>3934</th>\n",
       "      <td>369920</td>\n",
       "      <td>Pontocerebellar hypoplasia type 9</td>\n",
       "    </tr>\n",
       "    <tr>\n",
       "      <th>4260</th>\n",
       "      <td>284339</td>\n",
       "      <td>Pontocerebellar hypoplasia type 7</td>\n",
       "    </tr>\n",
       "    <tr>\n",
       "      <th>4646</th>\n",
       "      <td>411493</td>\n",
       "      <td>Pontocerebellar hypoplasia type 10</td>\n",
       "    </tr>\n",
       "    <tr>\n",
       "      <th>6654</th>\n",
       "      <td>97249</td>\n",
       "      <td>Pontocerebellar hypoplasia type 3</td>\n",
       "    </tr>\n",
       "  </tbody>\n",
       "</table>\n",
       "</div>"
      ],
      "text/plain": [
       "     OrphaNumber                       Disorder_Name\n",
       "5         166068   Pontocerebellar hypoplasia type 5\n",
       "6         166063   Pontocerebellar hypoplasia type 4\n",
       "8         166073   Pontocerebellar hypoplasia type 6\n",
       "2430        2524   Pontocerebellar hypoplasia type 2\n",
       "3127        2254   Pontocerebellar hypoplasia type 1\n",
       "3782      324569   Pontocerebellar hypoplasia type 8\n",
       "3934      369920   Pontocerebellar hypoplasia type 9\n",
       "4260      284339   Pontocerebellar hypoplasia type 7\n",
       "4646      411493  Pontocerebellar hypoplasia type 10\n",
       "6654       97249   Pontocerebellar hypoplasia type 3"
      ]
     },
     "execution_count": 657,
     "metadata": {},
     "output_type": "execute_result"
    }
   ],
   "source": [
    "disorder_gene_df_causal.loc[disorder_gene_df_causal.Disorder_Name.str.contains('Pontocerebellar hypoplasia', regex=False)]\\\n",
    "[[\"OrphaNumber\", \"Disorder_Name\"]].drop_duplicates()"
   ]
  },
  {
   "cell_type": "markdown",
   "metadata": {},
   "source": [
    "### Import OWL Files"
   ]
  },
  {
   "cell_type": "code",
   "execution_count": 658,
   "metadata": {},
   "outputs": [],
   "source": [
    "import networkx\n",
    "import obonet\n",
    "ordo = obonet.read_obo(str(config.ORPHANET_PATH / 'ordo'/ 'ORDO_en_2.9.obo') )"
   ]
  },
  {
   "cell_type": "code",
   "execution_count": 659,
   "metadata": {},
   "outputs": [
    {
     "data": {
      "text/plain": [
       "{'name': 'Rare genetic ophthalmic disorder with cortical involvement',\n",
       " 'is_a': ['Orphanet:183616', 'Orphanet:377794'],\n",
       " 'property_value': ['notation ORPHA:522508 xsd:string']}"
      ]
     },
     "execution_count": 659,
     "metadata": {},
     "output_type": "execute_result"
    }
   ],
   "source": [
    "ordo.nodes['Orphanet:522508']"
   ]
  },
  {
   "cell_type": "code",
   "execution_count": 660,
   "metadata": {},
   "outputs": [],
   "source": [
    "orphas_w_hpo_not_gene_w_prefix = [\"Orphanet:\" + idx for idx in orphas_w_hpo_not_gene]\n",
    "orphas_w_gene_not_hpo_w_prefix = [\"Orphanet:\" + idx for idx in orphas_w_gene_not_hpo]"
   ]
  },
  {
   "cell_type": "code",
   "execution_count": 661,
   "metadata": {},
   "outputs": [
    {
     "data": {
      "text/html": [
       "<div>\n",
       "<style scoped>\n",
       "    .dataframe tbody tr th:only-of-type {\n",
       "        vertical-align: middle;\n",
       "    }\n",
       "\n",
       "    .dataframe tbody tr th {\n",
       "        vertical-align: top;\n",
       "    }\n",
       "\n",
       "    .dataframe thead th {\n",
       "        text-align: right;\n",
       "    }\n",
       "</style>\n",
       "<table border=\"1\" class=\"dataframe\">\n",
       "  <thead>\n",
       "    <tr style=\"text-align: right;\">\n",
       "      <th></th>\n",
       "      <th>OrphaNumber</th>\n",
       "      <th>OrphaNumber_Ordo</th>\n",
       "      <th>OrphaName</th>\n",
       "      <th>is_a_id</th>\n",
       "      <th>is_a_name</th>\n",
       "    </tr>\n",
       "  </thead>\n",
       "  <tbody>\n",
       "    <tr>\n",
       "      <th>0</th>\n",
       "      <td>2271</td>\n",
       "      <td>Orphanet:2271</td>\n",
       "      <td>Congenital ichthyosis-microcephalus-tetraplegi...</td>\n",
       "      <td>Orphanet:377788</td>\n",
       "      <td>disease</td>\n",
       "    </tr>\n",
       "    <tr>\n",
       "      <th>1</th>\n",
       "      <td>139411</td>\n",
       "      <td>Orphanet:139411</td>\n",
       "      <td>Carney triad</td>\n",
       "      <td>Orphanet:377788</td>\n",
       "      <td>disease</td>\n",
       "    </tr>\n",
       "    <tr>\n",
       "      <th>2</th>\n",
       "      <td>1397</td>\n",
       "      <td>Orphanet:1397</td>\n",
       "      <td>Hydrocephaly-cerebellar agenesis syndrome</td>\n",
       "      <td>Orphanet:377789</td>\n",
       "      <td>malformation syndrome</td>\n",
       "    </tr>\n",
       "    <tr>\n",
       "      <th>3</th>\n",
       "      <td>261330</td>\n",
       "      <td>Orphanet:261330</td>\n",
       "      <td>Distal 22q11.2 microdeletion syndrome</td>\n",
       "      <td>Orphanet:377789</td>\n",
       "      <td>malformation syndrome</td>\n",
       "    </tr>\n",
       "    <tr>\n",
       "      <th>4</th>\n",
       "      <td>3216</td>\n",
       "      <td>Orphanet:3216</td>\n",
       "      <td>Conductive deafness-malformed external ear syn...</td>\n",
       "      <td>Orphanet:377789</td>\n",
       "      <td>malformation syndrome</td>\n",
       "    </tr>\n",
       "    <tr>\n",
       "      <th>5</th>\n",
       "      <td>217346</td>\n",
       "      <td>Orphanet:217346</td>\n",
       "      <td>19q13.11 microdeletion syndrome</td>\n",
       "      <td>Orphanet:377789</td>\n",
       "      <td>malformation syndrome</td>\n",
       "    </tr>\n",
       "    <tr>\n",
       "      <th>6</th>\n",
       "      <td>618</td>\n",
       "      <td>Orphanet:618</td>\n",
       "      <td>Familial melanoma</td>\n",
       "      <td>Orphanet:377788</td>\n",
       "      <td>disease</td>\n",
       "    </tr>\n",
       "    <tr>\n",
       "      <th>7</th>\n",
       "      <td>1457</td>\n",
       "      <td>Orphanet:1457</td>\n",
       "      <td>Aorta coarctation</td>\n",
       "      <td>Orphanet:377791</td>\n",
       "      <td>morphological anomaly</td>\n",
       "    </tr>\n",
       "    <tr>\n",
       "      <th>8</th>\n",
       "      <td>3035</td>\n",
       "      <td>Orphanet:3035</td>\n",
       "      <td>Growth delay-hydrocephaly-lung hypoplasia synd...</td>\n",
       "      <td>Orphanet:377789</td>\n",
       "      <td>malformation syndrome</td>\n",
       "    </tr>\n",
       "    <tr>\n",
       "      <th>9</th>\n",
       "      <td>700</td>\n",
       "      <td>Orphanet:700</td>\n",
       "      <td>Alopecia totalis</td>\n",
       "      <td>Orphanet:377788</td>\n",
       "      <td>disease</td>\n",
       "    </tr>\n",
       "  </tbody>\n",
       "</table>\n",
       "</div>"
      ],
      "text/plain": [
       "  OrphaNumber OrphaNumber_Ordo  \\\n",
       "0        2271    Orphanet:2271   \n",
       "1      139411  Orphanet:139411   \n",
       "2        1397    Orphanet:1397   \n",
       "3      261330  Orphanet:261330   \n",
       "4        3216    Orphanet:3216   \n",
       "5      217346  Orphanet:217346   \n",
       "6         618     Orphanet:618   \n",
       "7        1457    Orphanet:1457   \n",
       "8        3035    Orphanet:3035   \n",
       "9         700     Orphanet:700   \n",
       "\n",
       "                                           OrphaName          is_a_id  \\\n",
       "0  Congenital ichthyosis-microcephalus-tetraplegi...  Orphanet:377788   \n",
       "1                                       Carney triad  Orphanet:377788   \n",
       "2          Hydrocephaly-cerebellar agenesis syndrome  Orphanet:377789   \n",
       "3              Distal 22q11.2 microdeletion syndrome  Orphanet:377789   \n",
       "4  Conductive deafness-malformed external ear syn...  Orphanet:377789   \n",
       "5                    19q13.11 microdeletion syndrome  Orphanet:377789   \n",
       "6                                  Familial melanoma  Orphanet:377788   \n",
       "7                                  Aorta coarctation  Orphanet:377791   \n",
       "8  Growth delay-hydrocephaly-lung hypoplasia synd...  Orphanet:377789   \n",
       "9                                   Alopecia totalis  Orphanet:377788   \n",
       "\n",
       "               is_a_name  \n",
       "0                disease  \n",
       "1                disease  \n",
       "2  malformation syndrome  \n",
       "3  malformation syndrome  \n",
       "4  malformation syndrome  \n",
       "5  malformation syndrome  \n",
       "6                disease  \n",
       "7  morphological anomaly  \n",
       "8  malformation syndrome  \n",
       "9                disease  "
      ]
     },
     "execution_count": 661,
     "metadata": {},
     "output_type": "execute_result"
    }
   ],
   "source": [
    "\n",
    "\n",
    "is_a_list = []\n",
    "ordo_keys = list(ordo.nodes.keys())\n",
    "\n",
    "for idx in orphas_w_hpo_not_gene:\n",
    "    idx_w_prefix = \"Orphanet:\" + idx\n",
    "    if idx_w_prefix in ordo_keys:\n",
    "        for x in ordo.nodes[idx_w_prefix]['is_a']:\n",
    "            is_a_list.append(OrderedDict([\n",
    "                (\"OrphaNumber\", idx),\n",
    "                (\"OrphaNumber_Ordo\", idx_w_prefix),\n",
    "                (\"OrphaName\", ordo.nodes[idx_w_prefix]['name']),\n",
    "                (\"is_a_id\", x),\n",
    "                (\"is_a_name\", ordo.nodes[x]['name'])\n",
    "            ]))\n",
    "    else:\n",
    "        is_a_list.append(OrderedDict([\n",
    "                (\"OrphaNumber\", idx),\n",
    "                (\"OrphaName\", \"N/A\"),\n",
    "                (\"is_a_id\", \"N/A\"),\n",
    "                (\"is_a_name\", \"N/A\")\n",
    "            ]))\n",
    "        \n",
    "orphas_w_hpo_not_gene_is_a_df = pd.DataFrame(is_a_list)\n",
    "orphas_w_hpo_not_gene_is_a_df.head(10)"
   ]
  },
  {
   "cell_type": "code",
   "execution_count": 662,
   "metadata": {
    "scrolled": true
   },
   "outputs": [
    {
     "data": {
      "text/plain": [
       "malformation syndrome                                                            793\n",
       "disease                                                                          788\n",
       "morphological anomaly                                                             76\n",
       "clinical subtype                                                                  47\n",
       "group of disorders                                                                17\n",
       "clinical syndrome                                                                 16\n",
       "etiological subtype                                                               10\n",
       "obsolete class                                                                     8\n",
       "N/A                                                                                6\n",
       "Atypical progressive supranuclear palsy syndrome                                   4\n",
       "particular clinical situation in a disease or syndrome                             4\n",
       "histopathological subtype                                                          3\n",
       "Intestinal botulism                                                                2\n",
       "Non-histaminic angioedema                                                          2\n",
       "biological anomaly                                                                 2\n",
       "Oculocutaneous or ocular albinism                                                  1\n",
       "Rare tumor of gallbladder and extrahepatic biliary tract                           1\n",
       "Hypopigmentation of the skin                                                       1\n",
       "Cutis laxa                                                                         1\n",
       "Primary hemophagocytic lymphohistiocytosis                                         1\n",
       "Neurometabolic disease                                                             1\n",
       "Genetic hypopigmentation of the skin                                               1\n",
       "Other dermis disorder                                                              1\n",
       "Toxin-mediated infectious botulism                                                 1\n",
       "Genetic cardiac rhythm disease                                                     1\n",
       "Nephropathy secondary to a storage or other metabolic disease                      1\n",
       "Lymphoproliferative syndrome                                                       1\n",
       "X-linked syndromic intellectual disability                                         1\n",
       "Glycogen storage disease                                                           1\n",
       "Carcinoma of liver and intrahepatic biliary tract                                  1\n",
       "Monogenic disease with epilepsy                                                    1\n",
       "Supranuclear eye movement disorder                                                 1\n",
       "Mitochondrial oxidative phosphorylation disorder due to nuclear DNA anomalies      1\n",
       "Anorectal malformation                                                             1\n",
       "Disorder of proline metabolism                                                     1\n",
       "Rare gastroesophageal tumor                                                        1\n",
       "Disorder of melanin metabolism                                                     1\n",
       "Mitochondrial disease with epilepsy                                                1\n",
       "Rare genetic disease                                                               1\n",
       "Mitochondrial disease with peripheral neuropathy                                   1\n",
       "Dysostosis with predominant craniofacial involvement                               1\n",
       "Neuroendocrine tumor of the small intestine                                        1\n",
       "Metabolic disease with cataract                                                    1\n",
       "Disorder of galactose metabolism                                                   1\n",
       "Primary bone dysplasia with decreased bone density                                 1\n",
       "Name: is_a_name, dtype: int64"
      ]
     },
     "execution_count": 662,
     "metadata": {},
     "output_type": "execute_result"
    }
   ],
   "source": [
    "orphas_w_hpo_not_gene_is_a_df.is_a_name.value_counts()"
   ]
  },
  {
   "cell_type": "code",
   "execution_count": 663,
   "metadata": {},
   "outputs": [
    {
     "data": {
      "text/html": [
       "<div>\n",
       "<style scoped>\n",
       "    .dataframe tbody tr th:only-of-type {\n",
       "        vertical-align: middle;\n",
       "    }\n",
       "\n",
       "    .dataframe tbody tr th {\n",
       "        vertical-align: top;\n",
       "    }\n",
       "\n",
       "    .dataframe thead th {\n",
       "        text-align: right;\n",
       "    }\n",
       "</style>\n",
       "<table border=\"1\" class=\"dataframe\">\n",
       "  <thead>\n",
       "    <tr style=\"text-align: right;\">\n",
       "      <th></th>\n",
       "      <th>OrphaNumber</th>\n",
       "      <th>OrphaNumber_Ordo</th>\n",
       "      <th>OrphaName</th>\n",
       "      <th>is_a_id</th>\n",
       "      <th>is_a_name</th>\n",
       "    </tr>\n",
       "  </thead>\n",
       "  <tbody>\n",
       "    <tr>\n",
       "      <th>0</th>\n",
       "      <td>99141</td>\n",
       "      <td>Orphanet:99141</td>\n",
       "      <td>Lymphedema-posterior choanal atresia syndrome</td>\n",
       "      <td>Orphanet:377789</td>\n",
       "      <td>malformation syndrome</td>\n",
       "    </tr>\n",
       "    <tr>\n",
       "      <th>1</th>\n",
       "      <td>466775</td>\n",
       "      <td>Orphanet:466775</td>\n",
       "      <td>Autosomal recessive Charcot-Marie-Tooth diseas...</td>\n",
       "      <td>Orphanet:377788</td>\n",
       "      <td>disease</td>\n",
       "    </tr>\n",
       "    <tr>\n",
       "      <th>2</th>\n",
       "      <td>140917</td>\n",
       "      <td>Orphanet:140917</td>\n",
       "      <td>Stapes ankylosis with broad thumbs and toes</td>\n",
       "      <td>Orphanet:377789</td>\n",
       "      <td>malformation syndrome</td>\n",
       "    </tr>\n",
       "    <tr>\n",
       "      <th>3</th>\n",
       "      <td>199332</td>\n",
       "      <td>Orphanet:199332</td>\n",
       "      <td>Endocrine-cerebro-osteodysplasia syndrome</td>\n",
       "      <td>Orphanet:377789</td>\n",
       "      <td>malformation syndrome</td>\n",
       "    </tr>\n",
       "    <tr>\n",
       "      <th>4</th>\n",
       "      <td>289863</td>\n",
       "      <td>Orphanet:289863</td>\n",
       "      <td>Atypical glycine encephalopathy</td>\n",
       "      <td>Orphanet:377796</td>\n",
       "      <td>clinical subtype</td>\n",
       "    </tr>\n",
       "    <tr>\n",
       "      <th>5</th>\n",
       "      <td>243367</td>\n",
       "      <td>Orphanet:243367</td>\n",
       "      <td>Acute fatty liver of pregnancy</td>\n",
       "      <td>Orphanet:377788</td>\n",
       "      <td>disease</td>\n",
       "    </tr>\n",
       "    <tr>\n",
       "      <th>6</th>\n",
       "      <td>280224</td>\n",
       "      <td>Orphanet:280224</td>\n",
       "      <td>Pelizaeus-Merzbacher disease, transitional form</td>\n",
       "      <td>Orphanet:377796</td>\n",
       "      <td>clinical subtype</td>\n",
       "    </tr>\n",
       "    <tr>\n",
       "      <th>7</th>\n",
       "      <td>436159</td>\n",
       "      <td>Orphanet:436159</td>\n",
       "      <td>Autoimmune lymphoproliferative syndrome due to...</td>\n",
       "      <td>Orphanet:377788</td>\n",
       "      <td>disease</td>\n",
       "    </tr>\n",
       "    <tr>\n",
       "      <th>8</th>\n",
       "      <td>251899</td>\n",
       "      <td>Orphanet:251899</td>\n",
       "      <td>Choroid plexus carcinoma</td>\n",
       "      <td>Orphanet:377788</td>\n",
       "      <td>disease</td>\n",
       "    </tr>\n",
       "    <tr>\n",
       "      <th>9</th>\n",
       "      <td>169802</td>\n",
       "      <td>Orphanet:169802</td>\n",
       "      <td>Severe hemophilia A</td>\n",
       "      <td>Orphanet:377796</td>\n",
       "      <td>clinical subtype</td>\n",
       "    </tr>\n",
       "  </tbody>\n",
       "</table>\n",
       "</div>"
      ],
      "text/plain": [
       "  OrphaNumber OrphaNumber_Ordo  \\\n",
       "0       99141   Orphanet:99141   \n",
       "1      466775  Orphanet:466775   \n",
       "2      140917  Orphanet:140917   \n",
       "3      199332  Orphanet:199332   \n",
       "4      289863  Orphanet:289863   \n",
       "5      243367  Orphanet:243367   \n",
       "6      280224  Orphanet:280224   \n",
       "7      436159  Orphanet:436159   \n",
       "8      251899  Orphanet:251899   \n",
       "9      169802  Orphanet:169802   \n",
       "\n",
       "                                           OrphaName          is_a_id  \\\n",
       "0      Lymphedema-posterior choanal atresia syndrome  Orphanet:377789   \n",
       "1  Autosomal recessive Charcot-Marie-Tooth diseas...  Orphanet:377788   \n",
       "2        Stapes ankylosis with broad thumbs and toes  Orphanet:377789   \n",
       "3          Endocrine-cerebro-osteodysplasia syndrome  Orphanet:377789   \n",
       "4                    Atypical glycine encephalopathy  Orphanet:377796   \n",
       "5                     Acute fatty liver of pregnancy  Orphanet:377788   \n",
       "6    Pelizaeus-Merzbacher disease, transitional form  Orphanet:377796   \n",
       "7  Autoimmune lymphoproliferative syndrome due to...  Orphanet:377788   \n",
       "8                           Choroid plexus carcinoma  Orphanet:377788   \n",
       "9                                Severe hemophilia A  Orphanet:377796   \n",
       "\n",
       "               is_a_name  \n",
       "0  malformation syndrome  \n",
       "1                disease  \n",
       "2  malformation syndrome  \n",
       "3  malformation syndrome  \n",
       "4       clinical subtype  \n",
       "5                disease  \n",
       "6       clinical subtype  \n",
       "7                disease  \n",
       "8                disease  \n",
       "9       clinical subtype  "
      ]
     },
     "execution_count": 663,
     "metadata": {},
     "output_type": "execute_result"
    }
   ],
   "source": [
    "\n",
    "\n",
    "is_a_list = []\n",
    "ordo_keys = list(ordo.nodes.keys())\n",
    "\n",
    "for idx in orphas_w_gene_not_hpo:\n",
    "    idx_w_prefix = \"Orphanet:\" + idx\n",
    "    if idx_w_prefix in ordo_keys:\n",
    "        for x in ordo.nodes[idx_w_prefix]['is_a']:\n",
    "            is_a_list.append(OrderedDict([\n",
    "                (\"OrphaNumber\", idx),\n",
    "                (\"OrphaNumber_Ordo\", idx_w_prefix),\n",
    "                (\"OrphaName\", ordo.nodes[idx_w_prefix]['name']),\n",
    "                (\"is_a_id\", x),\n",
    "                (\"is_a_name\", ordo.nodes[x]['name'])\n",
    "            ]))\n",
    "    else:\n",
    "        is_a_list.append(OrderedDict([\n",
    "                (\"OrphaNumber\", idx),\n",
    "                (\"OrphaName\", \"N/A\"),\n",
    "                (\"is_a_id\", \"N/A\"),\n",
    "                (\"is_a_name\", \"N/A\")\n",
    "            ]))\n",
    "        \n",
    "orphas_w_gene_not_hpo_is_a_df = pd.DataFrame(is_a_list)\n",
    "orphas_w_gene_not_hpo_is_a_df.head(10)"
   ]
  },
  {
   "cell_type": "code",
   "execution_count": 664,
   "metadata": {},
   "outputs": [
    {
     "data": {
      "text/plain": [
       "disease                                        890\n",
       "clinical subtype                               336\n",
       "malformation syndrome                          186\n",
       "etiological subtype                             87\n",
       "morphological anomaly                           40\n",
       "histopathological subtype                       20\n",
       "biological anomaly                               6\n",
       "Early-onset partial cataract                     6\n",
       "Von Willebrand disease type 2                    4\n",
       "obsolete class                                   4\n",
       "Early-onset zonular cataract                     3\n",
       "Isolated growth hormone deficiency type III      2\n",
       "Prelingual non-syndromic genetic deafness        1\n",
       "Name: is_a_name, dtype: int64"
      ]
     },
     "execution_count": 664,
     "metadata": {},
     "output_type": "execute_result"
    }
   ],
   "source": [
    "orphas_w_gene_not_hpo_is_a_df.is_a_name.value_counts()"
   ]
  },
  {
   "cell_type": "code",
   "execution_count": 665,
   "metadata": {
    "scrolled": true
   },
   "outputs": [],
   "source": [
    "permissable_subtypes = ['clinical subtype', 'etiological subtype', 'histopathological subtype']\n",
    "orphas_w_gene_not_hpo_is_a_subtypes = orphas_w_gene_not_hpo_is_a_df.query(\"is_a_name in @permissable_subtypes\")\n",
    "orphas_w_hpo_not_gene_is_a_subtypes = orphas_w_hpo_not_gene_is_a_df.query(\"is_a_name in @permissable_subtypes\")"
   ]
  },
  {
   "cell_type": "code",
   "execution_count": 666,
   "metadata": {},
   "outputs": [],
   "source": [
    "disease_hpo_df_w_prefix = [\"Orphanet:\" + idx for idx in disease_hpo_df.OrphaNumber.unique()]\n",
    "disorder_gene_df_causal_w_prefix = [\"Orphanet:\" + idx for idx in disorder_gene_df_causal.OrphaNumber.unique()]"
   ]
  },
  {
   "cell_type": "markdown",
   "metadata": {},
   "source": [
    "### Grab parent's hpos or genes"
   ]
  },
  {
   "cell_type": "code",
   "execution_count": 667,
   "metadata": {
    "scrolled": true
   },
   "outputs": [],
   "source": [
    "res_list = [disorder_gene_df_causal]\n",
    "for orph in orphas_w_hpo_not_gene_is_a_subtypes.OrphaNumber_Ordo.values:\n",
    "    for rel in ordo.nodes[orph]['relationship']:\n",
    "        sourc, targ = rel.split(\" \")\n",
    "        if sourc == 'BFO:0000050':\n",
    "            if targ in disorder_gene_df_causal_w_prefix:\n",
    "                orph_num = orph.split(\":\")[1]\n",
    "                targ_num = targ.split(\":\")[1]\n",
    "                orph_name = linear_cat_df.query(\"OrphaNumber == @orph_num\").Disorder_Name.values[0]\n",
    "                res_list += [disorder_gene_df_causal.query(\"OrphaNumber == @targ_num\")\\\n",
    "                    .assign(OrphaNumber=orph_num)\\\n",
    "                    .assign(Disorder_Name=orph_name)]\n",
    "disorder_gene_df_causal_expanded = pd.concat(res_list)"
   ]
  },
  {
   "cell_type": "code",
   "execution_count": 668,
   "metadata": {},
   "outputs": [
    {
     "data": {
      "text/plain": [
       "(3410, 3414, (6126, 7), (6130, 7))"
      ]
     },
     "execution_count": 668,
     "metadata": {},
     "output_type": "execute_result"
    }
   ],
   "source": [
    "len(disorder_gene_df_causal.OrphaNumber.unique()), len(disorder_gene_df_causal_expanded.OrphaNumber.unique()), disorder_gene_df_causal.shape, disorder_gene_df_causal_expanded.shape"
   ]
  },
  {
   "cell_type": "code",
   "execution_count": 669,
   "metadata": {},
   "outputs": [],
   "source": [
    "res_list = [disease_hpo_df]\n",
    "for orph in orphas_w_gene_not_hpo_is_a_subtypes.OrphaNumber_Ordo.values:\n",
    "    if \"relationship\" in ordo.nodes[orph]:\n",
    "        for rel in ordo.nodes[orph]['relationship']:\n",
    "            sourc, targ = rel.split(\" \")\n",
    "            if sourc == 'BFO:0000050':\n",
    "                if targ in disease_hpo_df_w_prefix:\n",
    "                    orph_num = orph.split(\":\")[1]\n",
    "                    targ_num = targ.split(\":\")[1]\n",
    "                    orph_name = linear_cat_df.query(\"OrphaNumber == @orph_num\").Disorder_Name.values[0]\n",
    "                    res_list += [disease_hpo_df.query(\"OrphaNumber == @targ_num\")\\\n",
    "                        .assign(OrphaNumber=orph_num)\\\n",
    "                        .assign(Disorder_Name=orph_name)]\n",
    "disease_hpo_df_expanded = pd.concat(res_list)"
   ]
  },
  {
   "cell_type": "code",
   "execution_count": 670,
   "metadata": {},
   "outputs": [
    {
     "data": {
      "text/plain": [
       "(3702, 3998, (83565, 5), (91143, 5))"
      ]
     },
     "execution_count": 670,
     "metadata": {},
     "output_type": "execute_result"
    }
   ],
   "source": [
    "len(disease_hpo_df.OrphaNumber.unique()), len(disease_hpo_df_expanded.OrphaNumber.unique()), disease_hpo_df.shape, disease_hpo_df_expanded.shape"
   ]
  },
  {
   "cell_type": "raw",
   "metadata": {},
   "source": [
    "disease_hpo_df_expanded.to_csv(ORPHANET_FLAT_PATH / 'orphanet_disease_hpo_expanded.tsv', sep=\"\\t\", index = False)\n",
    "disorder_gene_df_causal_expanded.to_csv(ORPHANET_FLAT_PATH / 'orphanet_disease_gene_causal_assessed_expanded.tsv', sep=\"\\t\", index = False)"
   ]
  },
  {
   "cell_type": "markdown",
   "metadata": {},
   "source": [
    "# Joining and Filtering"
   ]
  },
  {
   "cell_type": "code",
   "execution_count": 672,
   "metadata": {},
   "outputs": [
    {
     "data": {
      "image/png": "[encoded data removed]",
      "text/plain": [
       "<Figure size 517.375x320 with 4 Axes>"
      ]
     },
     "metadata": {
      "needs_background": "light"
     },
     "output_type": "display_data"
    }
   ],
   "source": [
    "file_memberships = {\"disease_hpo_df\":set(disease_hpo_df_expanded.OrphaNumber.values),\n",
    "    \"disorder_gene_df_causal\":set(disorder_gene_df_causal_expanded.OrphaNumber.values),\n",
    "    #\"disorder_gene_df_all\":set(disorder_gene_df.OrphaNumber.values),\n",
    "    \"nat_hist_df\":set(nat_hist_df.OrphaNumber.values),\n",
    "    \"linear_cat_df\":set(linear_cat_df.OrphaNumber.values)\n",
    "    #\"rel_df\":set(rel_df.OrphaNumber.values)\n",
    "    }\n",
    "upset_from_contents = from_contents(file_memberships)\n",
    "plot_upset(upset_from_contents, sum_over = False, show_counts = True,\n",
    "          sort_by=\"cardinality\")\n",
    "pyplot.show()"
   ]
  },
  {
   "cell_type": "code",
   "execution_count": 673,
   "metadata": {},
   "outputs": [
    {
     "data": {
      "text/html": [
       "<div>\n",
       "<style scoped>\n",
       "    .dataframe tbody tr th:only-of-type {\n",
       "        vertical-align: middle;\n",
       "    }\n",
       "\n",
       "    .dataframe tbody tr th {\n",
       "        vertical-align: top;\n",
       "    }\n",
       "\n",
       "    .dataframe thead th {\n",
       "        text-align: right;\n",
       "    }\n",
       "</style>\n",
       "<table border=\"1\" class=\"dataframe\">\n",
       "  <thead>\n",
       "    <tr style=\"text-align: right;\">\n",
       "      <th></th>\n",
       "      <th></th>\n",
       "      <th>Gene_Symbol</th>\n",
       "      <th>Association_Type</th>\n",
       "      <th>Association_Status</th>\n",
       "      <th>Gene_Synonyms</th>\n",
       "      <th>Gene_External_Refs</th>\n",
       "      <th>Onset_Infant</th>\n",
       "      <th>Onset_Child</th>\n",
       "      <th>Onset_Adolescent</th>\n",
       "      <th>Onset_Adult</th>\n",
       "      <th>Onset_Elderly</th>\n",
       "      <th>Disorder_Type</th>\n",
       "      <th>Average_Age_Onset</th>\n",
       "      <th>Average_Age_Death</th>\n",
       "      <th>Inheritence_Types</th>\n",
       "      <th>Category</th>\n",
       "    </tr>\n",
       "    <tr>\n",
       "      <th>OrphaNumber</th>\n",
       "      <th>Disorder_Name</th>\n",
       "      <th></th>\n",
       "      <th></th>\n",
       "      <th></th>\n",
       "      <th></th>\n",
       "      <th></th>\n",
       "      <th></th>\n",
       "      <th></th>\n",
       "      <th></th>\n",
       "      <th></th>\n",
       "      <th></th>\n",
       "      <th></th>\n",
       "      <th></th>\n",
       "      <th></th>\n",
       "      <th></th>\n",
       "      <th></th>\n",
       "    </tr>\n",
       "  </thead>\n",
       "  <tbody>\n",
       "    <tr>\n",
       "      <th>100</th>\n",
       "      <th>Ataxia-telangiectasia</th>\n",
       "      <td>ATM</td>\n",
       "      <td>Disease-causing germline mutation(s) in</td>\n",
       "      <td>Assessed</td>\n",
       "      <td>TEL1|TEL1, telomere maintenance 1, homolog (S....</td>\n",
       "      <td>SwissProt:Q13315|Ensembl:ENSG00000149311|Genat...</td>\n",
       "      <td>True</td>\n",
       "      <td>True</td>\n",
       "      <td>False</td>\n",
       "      <td>False</td>\n",
       "      <td>False</td>\n",
       "      <td>Disease</td>\n",
       "      <td>Childhood|Infancy</td>\n",
       "      <td>adult</td>\n",
       "      <td>Autosomal recessive</td>\n",
       "      <td>Rare neurologic disease</td>\n",
       "    </tr>\n",
       "    <tr>\n",
       "      <th>100006</th>\n",
       "      <th>ABeta amyloidosis, Dutch type</th>\n",
       "      <td>APP</td>\n",
       "      <td>Disease-causing germline mutation(s) in</td>\n",
       "      <td>Assessed</td>\n",
       "      <td>peptidase nexin-II</td>\n",
       "      <td>Ensembl:ENSG00000142192|Genatlas:APP|HGNC:620|...</td>\n",
       "      <td>False</td>\n",
       "      <td>False</td>\n",
       "      <td>False</td>\n",
       "      <td>True</td>\n",
       "      <td>False</td>\n",
       "      <td>Clinical subtype</td>\n",
       "      <td>Adult</td>\n",
       "      <td>adult</td>\n",
       "      <td>Autosomal dominant</td>\n",
       "      <td>Rare neurologic disease</td>\n",
       "    </tr>\n",
       "    <tr>\n",
       "      <th>100008</th>\n",
       "      <th>ACys amyloidosis</th>\n",
       "      <td>CST3</td>\n",
       "      <td>Disease-causing germline mutation(s) in</td>\n",
       "      <td>Assessed</td>\n",
       "      <td></td>\n",
       "      <td>Ensembl:ENSG00000101439|Genatlas:CST3|HGNC:247...</td>\n",
       "      <td>False</td>\n",
       "      <td>False</td>\n",
       "      <td>True</td>\n",
       "      <td>True</td>\n",
       "      <td>False</td>\n",
       "      <td>Clinical subtype</td>\n",
       "      <td>Adolescent|Adult</td>\n",
       "      <td>adult</td>\n",
       "      <td>Autosomal dominant</td>\n",
       "      <td>Rare neurologic disease</td>\n",
       "    </tr>\n",
       "    <tr>\n",
       "      <th rowspan=\"2\" valign=\"top\">100031</th>\n",
       "      <th>Hypoplastic amelogenesis imperfecta</th>\n",
       "      <td>ACP4</td>\n",
       "      <td>Disease-causing germline mutation(s) (loss of ...</td>\n",
       "      <td>Assessed</td>\n",
       "      <td>testicular acid phosphatase</td>\n",
       "      <td>SwissProt:Q9BZG2|OMIM:606362|HGNC:14376|Ensemb...</td>\n",
       "      <td>False</td>\n",
       "      <td>False</td>\n",
       "      <td>False</td>\n",
       "      <td>False</td>\n",
       "      <td>False</td>\n",
       "      <td>Clinical subtype</td>\n",
       "      <td></td>\n",
       "      <td></td>\n",
       "      <td>Autosomal dominant|Autosomal recessive|X-linke...</td>\n",
       "      <td>Rare odontologic disease</td>\n",
       "    </tr>\n",
       "    <tr>\n",
       "      <th>Hypoplastic amelogenesis imperfecta</th>\n",
       "      <td>RELT</td>\n",
       "      <td>Disease-causing germline mutation(s) (loss of ...</td>\n",
       "      <td>Assessed</td>\n",
       "      <td>FLJ14993|receptor expressed in lymphoid tissues</td>\n",
       "      <td>HGNC:13764|Ensembl:ENSG00000054967|SwissProt:Q...</td>\n",
       "      <td>False</td>\n",
       "      <td>False</td>\n",
       "      <td>False</td>\n",
       "      <td>False</td>\n",
       "      <td>False</td>\n",
       "      <td>Clinical subtype</td>\n",
       "      <td></td>\n",
       "      <td></td>\n",
       "      <td>Autosomal dominant|Autosomal recessive|X-linke...</td>\n",
       "      <td>Rare odontologic disease</td>\n",
       "    </tr>\n",
       "  </tbody>\n",
       "</table>\n",
       "</div>"
      ],
      "text/plain": [
       "                                                Gene_Symbol  \\\n",
       "OrphaNumber Disorder_Name                                     \n",
       "100         Ataxia-telangiectasia                       ATM   \n",
       "100006      ABeta amyloidosis, Dutch type               APP   \n",
       "100008      ACys amyloidosis                           CST3   \n",
       "100031      Hypoplastic amelogenesis imperfecta        ACP4   \n",
       "            Hypoplastic amelogenesis imperfecta        RELT   \n",
       "\n",
       "                                                                                  Association_Type  \\\n",
       "OrphaNumber Disorder_Name                                                                            \n",
       "100         Ataxia-telangiectasia                          Disease-causing germline mutation(s) in   \n",
       "100006      ABeta amyloidosis, Dutch type                  Disease-causing germline mutation(s) in   \n",
       "100008      ACys amyloidosis                               Disease-causing germline mutation(s) in   \n",
       "100031      Hypoplastic amelogenesis imperfecta  Disease-causing germline mutation(s) (loss of ...   \n",
       "            Hypoplastic amelogenesis imperfecta  Disease-causing germline mutation(s) (loss of ...   \n",
       "\n",
       "                                                Association_Status  \\\n",
       "OrphaNumber Disorder_Name                                            \n",
       "100         Ataxia-telangiectasia                         Assessed   \n",
       "100006      ABeta amyloidosis, Dutch type                 Assessed   \n",
       "100008      ACys amyloidosis                              Assessed   \n",
       "100031      Hypoplastic amelogenesis imperfecta           Assessed   \n",
       "            Hypoplastic amelogenesis imperfecta           Assessed   \n",
       "\n",
       "                                                                                     Gene_Synonyms  \\\n",
       "OrphaNumber Disorder_Name                                                                            \n",
       "100         Ataxia-telangiectasia                TEL1|TEL1, telomere maintenance 1, homolog (S....   \n",
       "100006      ABeta amyloidosis, Dutch type                                       peptidase nexin-II   \n",
       "100008      ACys amyloidosis                                                                         \n",
       "100031      Hypoplastic amelogenesis imperfecta                        testicular acid phosphatase   \n",
       "            Hypoplastic amelogenesis imperfecta    FLJ14993|receptor expressed in lymphoid tissues   \n",
       "\n",
       "                                                                                Gene_External_Refs  \\\n",
       "OrphaNumber Disorder_Name                                                                            \n",
       "100         Ataxia-telangiectasia                SwissProt:Q13315|Ensembl:ENSG00000149311|Genat...   \n",
       "100006      ABeta amyloidosis, Dutch type        Ensembl:ENSG00000142192|Genatlas:APP|HGNC:620|...   \n",
       "100008      ACys amyloidosis                     Ensembl:ENSG00000101439|Genatlas:CST3|HGNC:247...   \n",
       "100031      Hypoplastic amelogenesis imperfecta  SwissProt:Q9BZG2|OMIM:606362|HGNC:14376|Ensemb...   \n",
       "            Hypoplastic amelogenesis imperfecta  HGNC:13764|Ensembl:ENSG00000054967|SwissProt:Q...   \n",
       "\n",
       "                                                 Onset_Infant  Onset_Child  \\\n",
       "OrphaNumber Disorder_Name                                                    \n",
       "100         Ataxia-telangiectasia                        True         True   \n",
       "100006      ABeta amyloidosis, Dutch type               False        False   \n",
       "100008      ACys amyloidosis                            False        False   \n",
       "100031      Hypoplastic amelogenesis imperfecta         False        False   \n",
       "            Hypoplastic amelogenesis imperfecta         False        False   \n",
       "\n",
       "                                                 Onset_Adolescent  \\\n",
       "OrphaNumber Disorder_Name                                           \n",
       "100         Ataxia-telangiectasia                           False   \n",
       "100006      ABeta amyloidosis, Dutch type                   False   \n",
       "100008      ACys amyloidosis                                 True   \n",
       "100031      Hypoplastic amelogenesis imperfecta             False   \n",
       "            Hypoplastic amelogenesis imperfecta             False   \n",
       "\n",
       "                                                 Onset_Adult  Onset_Elderly  \\\n",
       "OrphaNumber Disorder_Name                                                     \n",
       "100         Ataxia-telangiectasia                      False          False   \n",
       "100006      ABeta amyloidosis, Dutch type               True          False   \n",
       "100008      ACys amyloidosis                            True          False   \n",
       "100031      Hypoplastic amelogenesis imperfecta        False          False   \n",
       "            Hypoplastic amelogenesis imperfecta        False          False   \n",
       "\n",
       "                                                    Disorder_Type  \\\n",
       "OrphaNumber Disorder_Name                                           \n",
       "100         Ataxia-telangiectasia                         Disease   \n",
       "100006      ABeta amyloidosis, Dutch type        Clinical subtype   \n",
       "100008      ACys amyloidosis                     Clinical subtype   \n",
       "100031      Hypoplastic amelogenesis imperfecta  Clinical subtype   \n",
       "            Hypoplastic amelogenesis imperfecta  Clinical subtype   \n",
       "\n",
       "                                                 Average_Age_Onset  \\\n",
       "OrphaNumber Disorder_Name                                            \n",
       "100         Ataxia-telangiectasia                Childhood|Infancy   \n",
       "100006      ABeta amyloidosis, Dutch type                    Adult   \n",
       "100008      ACys amyloidosis                      Adolescent|Adult   \n",
       "100031      Hypoplastic amelogenesis imperfecta                      \n",
       "            Hypoplastic amelogenesis imperfecta                      \n",
       "\n",
       "                                                Average_Age_Death  \\\n",
       "OrphaNumber Disorder_Name                                           \n",
       "100         Ataxia-telangiectasia                           adult   \n",
       "100006      ABeta amyloidosis, Dutch type                   adult   \n",
       "100008      ACys amyloidosis                                adult   \n",
       "100031      Hypoplastic amelogenesis imperfecta                     \n",
       "            Hypoplastic amelogenesis imperfecta                     \n",
       "\n",
       "                                                                                 Inheritence_Types  \\\n",
       "OrphaNumber Disorder_Name                                                                            \n",
       "100         Ataxia-telangiectasia                                              Autosomal recessive   \n",
       "100006      ABeta amyloidosis, Dutch type                                       Autosomal dominant   \n",
       "100008      ACys amyloidosis                                                    Autosomal dominant   \n",
       "100031      Hypoplastic amelogenesis imperfecta  Autosomal dominant|Autosomal recessive|X-linke...   \n",
       "            Hypoplastic amelogenesis imperfecta  Autosomal dominant|Autosomal recessive|X-linke...   \n",
       "\n",
       "                                                                 Category  \n",
       "OrphaNumber Disorder_Name                                                  \n",
       "100         Ataxia-telangiectasia                 Rare neurologic disease  \n",
       "100006      ABeta amyloidosis, Dutch type         Rare neurologic disease  \n",
       "100008      ACys amyloidosis                      Rare neurologic disease  \n",
       "100031      Hypoplastic amelogenesis imperfecta  Rare odontologic disease  \n",
       "            Hypoplastic amelogenesis imperfecta  Rare odontologic disease  "
      ]
     },
     "execution_count": 673,
     "metadata": {},
     "output_type": "execute_result"
    }
   ],
   "source": [
    "disorder_annotations_merged = disorder_gene_df_causal_expanded.set_index(['OrphaNumber','Disorder_Name']).\\\n",
    "    join(nat_hist_df.set_index(['OrphaNumber','Disorder_Name'])).\\\n",
    "    join(linear_cat_df.set_index(['OrphaNumber','Disorder_Name']))\n",
    "disorder_annotations_merged.head()"
   ]
  },
  {
   "cell_type": "code",
   "execution_count": 674,
   "metadata": {},
   "outputs": [
    {
     "data": {
      "text/plain": [
       "(3414, 2134, 1280)"
      ]
     },
     "execution_count": 674,
     "metadata": {},
     "output_type": "execute_result"
    }
   ],
   "source": [
    "orphanumbers_w_phenotypes = set(disease_hpo_df_expanded.OrphaNumber.unique())\n",
    "\n",
    "(len(set(disorder_annotations_merged.\\\n",
    "        index.get_level_values(\"OrphaNumber\").values)),\n",
    " len(set(disorder_annotations_merged.query(\"OrphaNumber in @orphanumbers_w_phenotypes\").\\\n",
    "        index.get_level_values(\"OrphaNumber\").values)),\n",
    "len(set(disorder_annotations_merged.query(\"OrphaNumber not in @orphanumbers_w_phenotypes\").\\\n",
    "        index.get_level_values(\"OrphaNumber\").values))\n",
    ")"
   ]
  },
  {
   "cell_type": "code",
   "execution_count": 675,
   "metadata": {},
   "outputs": [],
   "source": [
    "disorder_annotations_merged = disorder_annotations_merged.reset_index()\n",
    "orphanet_all_annotations_diseases_w_phenotypes = disorder_annotations_merged.query(\"OrphaNumber in @orphanumbers_w_phenotypes\")"
   ]
  },
  {
   "cell_type": "code",
   "execution_count": 676,
   "metadata": {
    "scrolled": true
   },
   "outputs": [],
   "source": [
    "orphanet_final_disease_genes = orphanet_all_annotations_diseases_w_phenotypes[[\"OrphaNumber\", \"Disorder_Name\", 'Gene_Symbol']].\\\n",
    "                            drop_duplicates()\n",
    "orphanet_final_disease_metadata = orphanet_all_annotations_diseases_w_phenotypes[[\"OrphaNumber\", \"Disorder_Name\",\n",
    "                                                \"Onset_Infant\", \"Onset_Child\",\n",
    "                                                \"Onset_Adolescent\",\"Onset_Adult\",\"Onset_Elderly\",\n",
    "                                               \"Average_Age_Onset\",\"Average_Age_Death\",\"Inheritence_Types\",\"Category\"]].\\\n",
    "                            drop_duplicates()\n",
    "    \n",
    "final_diseases = orphanet_final_disease_genes.OrphaNumber.unique()\n",
    "orphanet_final_disease_hpo = disease_hpo_df_expanded.query(\"OrphaNumber in @final_diseases\")"
   ]
  },
  {
   "cell_type": "code",
   "execution_count": 677,
   "metadata": {},
   "outputs": [
    {
     "data": {
      "text/plain": [
       "(2134, 2134, 2134)"
      ]
     },
     "execution_count": 677,
     "metadata": {},
     "output_type": "execute_result"
    }
   ],
   "source": [
    "len(orphanet_final_disease_genes.OrphaNumber.unique()), len(orphanet_final_disease_metadata.OrphaNumber.unique()), len(orphanet_final_disease_hpo.OrphaNumber.unique())"
   ]
  },
  {
   "cell_type": "code",
   "execution_count": 678,
   "metadata": {},
   "outputs": [
    {
     "data": {
      "text/plain": [
       "((4108, 3), (2134, 11), (52594, 5))"
      ]
     },
     "execution_count": 678,
     "metadata": {},
     "output_type": "execute_result"
    }
   ],
   "source": [
    "orphanet_final_disease_genes.shape, orphanet_final_disease_metadata.shape, orphanet_final_disease_hpo.shape"
   ]
  },
  {
   "cell_type": "markdown",
   "metadata": {
    "collapsed": true
   },
   "source": [
    "orphanet_final_disease_genes.to_csv(ORPHANET_FLAT_PATH / 'orphanet_final_disease_genes.tsv', sep=\"\\t\", index = False)\n",
    "orphanet_final_disease_hpo.to_csv(ORPHANET_FLAT_PATH / 'orphanet_final_disease_hpo.tsv', sep=\"\\t\", index = False)\n",
    "orphanet_final_disease_metadata.to_csv(ORPHANET_FLAT_PATH / 'orphanet_final_disease_metadata.tsv', sep=\"\\t\", index = False)"
   ]
  },
  {
   "cell_type": "markdown",
   "metadata": {},
   "source": [
    "# OrphaNumber membership by timestamp for annotations"
   ]
  },
  {
   "cell_type": "code",
   "execution_count": 679,
   "metadata": {},
   "outputs": [],
   "source": [
    "#orphanet_final_disease_metadata = pd.read_csv(ORPHANET_FLAT_PATH / 'orphanet_final_disease_metadata.tsv', sep=\"\\t\")"
   ]
  },
  {
   "cell_type": "markdown",
   "metadata": {},
   "source": [
    "### Import 2012 crossref"
   ]
  },
  {
   "cell_type": "code",
   "execution_count": 680,
   "metadata": {},
   "outputs": [
    {
     "name": "stdout",
     "output_type": "stream",
     "text": [
      "6403\n"
     ]
    },
    {
     "data": {
      "text/html": [
       "<div>\n",
       "<style scoped>\n",
       "    .dataframe tbody tr th:only-of-type {\n",
       "        vertical-align: middle;\n",
       "    }\n",
       "\n",
       "    .dataframe tbody tr th {\n",
       "        vertical-align: top;\n",
       "    }\n",
       "\n",
       "    .dataframe thead th {\n",
       "        text-align: right;\n",
       "    }\n",
       "</style>\n",
       "<table border=\"1\" class=\"dataframe\">\n",
       "  <thead>\n",
       "    <tr style=\"text-align: right;\">\n",
       "      <th></th>\n",
       "      <th>OrphaNumber</th>\n",
       "      <th>Disorder_Name</th>\n",
       "    </tr>\n",
       "  </thead>\n",
       "  <tbody>\n",
       "    <tr>\n",
       "      <th>0</th>\n",
       "      <td>166024</td>\n",
       "      <td>Multiple epiphyseal dysplasia, Al-Gazali type</td>\n",
       "    </tr>\n",
       "    <tr>\n",
       "      <th>1</th>\n",
       "      <td>166032</td>\n",
       "      <td>Multiple epiphyseal dysplasia, with miniepiphyses</td>\n",
       "    </tr>\n",
       "    <tr>\n",
       "      <th>2</th>\n",
       "      <td>58</td>\n",
       "      <td>Alexander disease</td>\n",
       "    </tr>\n",
       "    <tr>\n",
       "      <th>3</th>\n",
       "      <td>166029</td>\n",
       "      <td>Multiple epiphyseal dysplasia, with severe pro...</td>\n",
       "    </tr>\n",
       "    <tr>\n",
       "      <th>4</th>\n",
       "      <td>61</td>\n",
       "      <td>Alpha-mannosidosis</td>\n",
       "    </tr>\n",
       "  </tbody>\n",
       "</table>\n",
       "</div>"
      ],
      "text/plain": [
       "  OrphaNumber                                      Disorder_Name\n",
       "0      166024      Multiple epiphyseal dysplasia, Al-Gazali type\n",
       "1      166032  Multiple epiphyseal dysplasia, with miniepiphyses\n",
       "2          58                                  Alexander disease\n",
       "3      166029  Multiple epiphyseal dysplasia, with severe pro...\n",
       "4          61                                 Alpha-mannosidosis"
      ]
     },
     "execution_count": 680,
     "metadata": {},
     "output_type": "execute_result"
    }
   ],
   "source": [
    "tree = ET.parse(str(ORPHANET_PATH / 'raw_files_2012_06'/ \"rare_disease_crossref_en_product1.xml\"))\n",
    "root = tree.getroot()\n",
    "disorderlist_cross_2012 = root[0]\n",
    "\n",
    "\n",
    "rel_list_2012 = []\n",
    "for disorder in disorderlist_cross_2012:\n",
    "    disorder_orphan = disorder.find(\"orphanumber\").text\n",
    "    disorder_name = disorder.find(\"name\").text\n",
    "    rel_list_2012.append(OrderedDict([\n",
    "            (\"OrphaNumber\", disorder_orphan),\n",
    "            (\"Disorder_Name\", disorder_name)\n",
    "        ]))\n",
    "rel_df_2012 = pd.DataFrame(rel_list_2012)\n",
    "print(len(rel_df_2012.OrphaNumber.unique()))\n",
    "#rel_df_2012.to_csv(ORPHANET_PATH / 'flat_files_2012_06'/ \"orphanet_disease_crossref.tsv\", index = False, sep=\"\\t\")\n",
    "rel_df_2012.head()"
   ]
  },
  {
   "cell_type": "markdown",
   "metadata": {},
   "source": [
    "### Import 2013_09 Crossref"
   ]
  },
  {
   "cell_type": "code",
   "execution_count": 681,
   "metadata": {},
   "outputs": [
    {
     "name": "stdout",
     "output_type": "stream",
     "text": [
      "6771\n"
     ]
    },
    {
     "data": {
      "text/html": [
       "<div>\n",
       "<style scoped>\n",
       "    .dataframe tbody tr th:only-of-type {\n",
       "        vertical-align: middle;\n",
       "    }\n",
       "\n",
       "    .dataframe tbody tr th {\n",
       "        vertical-align: top;\n",
       "    }\n",
       "\n",
       "    .dataframe thead th {\n",
       "        text-align: right;\n",
       "    }\n",
       "</style>\n",
       "<table border=\"1\" class=\"dataframe\">\n",
       "  <thead>\n",
       "    <tr style=\"text-align: right;\">\n",
       "      <th></th>\n",
       "      <th>OrphaNumber</th>\n",
       "      <th>Disorder_Name</th>\n",
       "    </tr>\n",
       "  </thead>\n",
       "  <tbody>\n",
       "    <tr>\n",
       "      <th>0</th>\n",
       "      <td>166024</td>\n",
       "      <td>Multiple epiphyseal dysplasia, Al-Gazali type</td>\n",
       "    </tr>\n",
       "    <tr>\n",
       "      <th>1</th>\n",
       "      <td>166032</td>\n",
       "      <td>Multiple epiphyseal dysplasia, with miniepiphyses</td>\n",
       "    </tr>\n",
       "    <tr>\n",
       "      <th>2</th>\n",
       "      <td>58</td>\n",
       "      <td>Alexander disease</td>\n",
       "    </tr>\n",
       "    <tr>\n",
       "      <th>3</th>\n",
       "      <td>166029</td>\n",
       "      <td>Multiple epiphyseal dysplasia, with severe pro...</td>\n",
       "    </tr>\n",
       "    <tr>\n",
       "      <th>4</th>\n",
       "      <td>61</td>\n",
       "      <td>Alpha-mannosidosis</td>\n",
       "    </tr>\n",
       "  </tbody>\n",
       "</table>\n",
       "</div>"
      ],
      "text/plain": [
       "  OrphaNumber                                      Disorder_Name\n",
       "0      166024      Multiple epiphyseal dysplasia, Al-Gazali type\n",
       "1      166032  Multiple epiphyseal dysplasia, with miniepiphyses\n",
       "2          58                                  Alexander disease\n",
       "3      166029  Multiple epiphyseal dysplasia, with severe pro...\n",
       "4          61                                 Alpha-mannosidosis"
      ]
     },
     "execution_count": 681,
     "metadata": {},
     "output_type": "execute_result"
    }
   ],
   "source": [
    "tree = ET.parse(str(ORPHANET_PATH / 'raw_files_2013_09'/ \"rare_disease_crossref_en_product1.xml\"))\n",
    "root = tree.getroot()\n",
    "disorderlist_cross_2013 = root[0]\n",
    "\n",
    "rel_list_2013 = []\n",
    "for disorder in disorderlist_cross_2013:\n",
    "    disorder_orphan = disorder.find(\"orphanumber\").text\n",
    "    disorder_name = disorder.find(\"name\").text\n",
    "    rel_list_2013.append(OrderedDict([\n",
    "            (\"OrphaNumber\", disorder_orphan),\n",
    "            (\"Disorder_Name\", disorder_name)\n",
    "        ]))\n",
    "rel_df_2013 = pd.DataFrame(rel_list_2013)\n",
    "print(len(rel_df_2013.OrphaNumber.unique()))\n",
    "rel_df_2013.head()"
   ]
  },
  {
   "cell_type": "markdown",
   "metadata": {},
   "source": [
    "### Import 2014_12 Linearization"
   ]
  },
  {
   "cell_type": "code",
   "execution_count": 682,
   "metadata": {},
   "outputs": [
    {
     "name": "stdout",
     "output_type": "stream",
     "text": [
      "9211\n"
     ]
    },
    {
     "data": {
      "text/html": [
       "<div>\n",
       "<style scoped>\n",
       "    .dataframe tbody tr th:only-of-type {\n",
       "        vertical-align: middle;\n",
       "    }\n",
       "\n",
       "    .dataframe tbody tr th {\n",
       "        vertical-align: top;\n",
       "    }\n",
       "\n",
       "    .dataframe thead th {\n",
       "        text-align: right;\n",
       "    }\n",
       "</style>\n",
       "<table border=\"1\" class=\"dataframe\">\n",
       "  <thead>\n",
       "    <tr style=\"text-align: right;\">\n",
       "      <th></th>\n",
       "      <th>OrphaNumber</th>\n",
       "      <th>Disorder_Name</th>\n",
       "    </tr>\n",
       "  </thead>\n",
       "  <tbody>\n",
       "    <tr>\n",
       "      <th>0</th>\n",
       "      <td>166024</td>\n",
       "      <td>Multiple epiphyseal dysplasia, Al-Gazali type</td>\n",
       "    </tr>\n",
       "    <tr>\n",
       "      <th>1</th>\n",
       "      <td>58</td>\n",
       "      <td>Alexander disease</td>\n",
       "    </tr>\n",
       "    <tr>\n",
       "      <th>2</th>\n",
       "      <td>166032</td>\n",
       "      <td>Multiple epiphyseal dysplasia, with miniepiphyses</td>\n",
       "    </tr>\n",
       "    <tr>\n",
       "      <th>3</th>\n",
       "      <td>61</td>\n",
       "      <td>Alpha-mannosidosis</td>\n",
       "    </tr>\n",
       "    <tr>\n",
       "      <th>4</th>\n",
       "      <td>166029</td>\n",
       "      <td>Multiple epiphyseal dysplasia, with severe pro...</td>\n",
       "    </tr>\n",
       "  </tbody>\n",
       "</table>\n",
       "</div>"
      ],
      "text/plain": [
       "  OrphaNumber                                      Disorder_Name\n",
       "0      166024      Multiple epiphyseal dysplasia, Al-Gazali type\n",
       "1          58                                  Alexander disease\n",
       "2      166032  Multiple epiphyseal dysplasia, with miniepiphyses\n",
       "3          61                                 Alpha-mannosidosis\n",
       "4      166029  Multiple epiphyseal dysplasia, with severe pro..."
      ]
     },
     "execution_count": 682,
     "metadata": {},
     "output_type": "execute_result"
    }
   ],
   "source": [
    "tree = ET.parse(str(ORPHANET_PATH / 'raw_files_2014_12'/ \"linearization_en_product7.xml\"))\n",
    "root = tree.getroot()\n",
    "disorderlist_cross_2014 = root[0]\n",
    "\n",
    "\n",
    "rel_list_2014 = []\n",
    "for disorder in disorderlist_cross_2014:\n",
    "    disorder_orphan = disorder.find(\"orphanumber\").text\n",
    "    disorder_name = disorder.find(\"name\").text\n",
    "    rel_list_2014.append(OrderedDict([\n",
    "            (\"OrphaNumber\", disorder_orphan),\n",
    "            (\"Disorder_Name\", disorder_name)\n",
    "        ]))\n",
    "rel_df_2014 = pd.DataFrame(rel_list_2014)\n",
    "print(len(rel_df_2014.OrphaNumber.unique()))\n",
    "rel_df_2014.head()"
   ]
  },
  {
   "cell_type": "markdown",
   "metadata": {},
   "source": [
    "### Import 2015 linearization"
   ]
  },
  {
   "cell_type": "code",
   "execution_count": 683,
   "metadata": {},
   "outputs": [
    {
     "name": "stdout",
     "output_type": "stream",
     "text": [
      "9142\n"
     ]
    },
    {
     "data": {
      "text/html": [
       "<div>\n",
       "<style scoped>\n",
       "    .dataframe tbody tr th:only-of-type {\n",
       "        vertical-align: middle;\n",
       "    }\n",
       "\n",
       "    .dataframe tbody tr th {\n",
       "        vertical-align: top;\n",
       "    }\n",
       "\n",
       "    .dataframe thead th {\n",
       "        text-align: right;\n",
       "    }\n",
       "</style>\n",
       "<table border=\"1\" class=\"dataframe\">\n",
       "  <thead>\n",
       "    <tr style=\"text-align: right;\">\n",
       "      <th></th>\n",
       "      <th>OrphaNumber</th>\n",
       "      <th>Disorder_Name</th>\n",
       "    </tr>\n",
       "  </thead>\n",
       "  <tbody>\n",
       "    <tr>\n",
       "      <th>0</th>\n",
       "      <td>166024</td>\n",
       "      <td>Multiple epiphyseal dysplasia, Al-Gazali type</td>\n",
       "    </tr>\n",
       "    <tr>\n",
       "      <th>1</th>\n",
       "      <td>58</td>\n",
       "      <td>Alexander disease</td>\n",
       "    </tr>\n",
       "    <tr>\n",
       "      <th>2</th>\n",
       "      <td>166032</td>\n",
       "      <td>Multiple epiphyseal dysplasia, with miniepiphyses</td>\n",
       "    </tr>\n",
       "    <tr>\n",
       "      <th>3</th>\n",
       "      <td>61</td>\n",
       "      <td>Alpha-mannosidosis</td>\n",
       "    </tr>\n",
       "    <tr>\n",
       "      <th>4</th>\n",
       "      <td>166029</td>\n",
       "      <td>Multiple epiphyseal dysplasia, with severe pro...</td>\n",
       "    </tr>\n",
       "  </tbody>\n",
       "</table>\n",
       "</div>"
      ],
      "text/plain": [
       "  OrphaNumber                                      Disorder_Name\n",
       "0      166024      Multiple epiphyseal dysplasia, Al-Gazali type\n",
       "1          58                                  Alexander disease\n",
       "2      166032  Multiple epiphyseal dysplasia, with miniepiphyses\n",
       "3          61                                 Alpha-mannosidosis\n",
       "4      166029  Multiple epiphyseal dysplasia, with severe pro..."
      ]
     },
     "execution_count": 683,
     "metadata": {},
     "output_type": "execute_result"
    }
   ],
   "source": [
    "tree = ET.parse(str(ORPHANET_PATH / 'raw_files_2015_03'/ \"linearization_en_product7.xml\"))\n",
    "root = tree.getroot()\n",
    "disorderlist_cross_2015 = root[0]\n",
    "\n",
    "rel_list_2015 = []\n",
    "for disorder in disorderlist_cross_2015:\n",
    "    disorder_orphan = disorder.find(\"orphanumber\").text\n",
    "    disorder_name = disorder.find(\"name\").text\n",
    "    rel_list_2015.append(OrderedDict([\n",
    "            (\"OrphaNumber\", disorder_orphan),\n",
    "            (\"Disorder_Name\", disorder_name)\n",
    "        ]))\n",
    "rel_df_2015 = pd.DataFrame(rel_list_2015)\n",
    "print(len(rel_df_2015.OrphaNumber.unique()))\n",
    "rel_df_2015.head()"
   ]
  },
  {
   "cell_type": "code",
   "execution_count": 684,
   "metadata": {},
   "outputs": [
    {
     "name": "stdout",
     "output_type": "stream",
     "text": [
      "9366\n"
     ]
    },
    {
     "data": {
      "text/html": [
       "<div>\n",
       "<style scoped>\n",
       "    .dataframe tbody tr th:only-of-type {\n",
       "        vertical-align: middle;\n",
       "    }\n",
       "\n",
       "    .dataframe tbody tr th {\n",
       "        vertical-align: top;\n",
       "    }\n",
       "\n",
       "    .dataframe thead th {\n",
       "        text-align: right;\n",
       "    }\n",
       "</style>\n",
       "<table border=\"1\" class=\"dataframe\">\n",
       "  <thead>\n",
       "    <tr style=\"text-align: right;\">\n",
       "      <th></th>\n",
       "      <th>OrphaNumber</th>\n",
       "      <th>Disorder_Name</th>\n",
       "    </tr>\n",
       "  </thead>\n",
       "  <tbody>\n",
       "    <tr>\n",
       "      <th>0</th>\n",
       "      <td>166024</td>\n",
       "      <td>Multiple epiphyseal dysplasia, Al-Gazali type</td>\n",
       "    </tr>\n",
       "    <tr>\n",
       "      <th>1</th>\n",
       "      <td>166032</td>\n",
       "      <td>Multiple epiphyseal dysplasia, with miniepiphyses</td>\n",
       "    </tr>\n",
       "    <tr>\n",
       "      <th>2</th>\n",
       "      <td>58</td>\n",
       "      <td>Alexander disease</td>\n",
       "    </tr>\n",
       "    <tr>\n",
       "      <th>3</th>\n",
       "      <td>166029</td>\n",
       "      <td>Multiple epiphyseal dysplasia, with severe pro...</td>\n",
       "    </tr>\n",
       "    <tr>\n",
       "      <th>4</th>\n",
       "      <td>61</td>\n",
       "      <td>Alpha-mannosidosis</td>\n",
       "    </tr>\n",
       "  </tbody>\n",
       "</table>\n",
       "</div>"
      ],
      "text/plain": [
       "  OrphaNumber                                      Disorder_Name\n",
       "0      166024      Multiple epiphyseal dysplasia, Al-Gazali type\n",
       "1      166032  Multiple epiphyseal dysplasia, with miniepiphyses\n",
       "2          58                                  Alexander disease\n",
       "3      166029  Multiple epiphyseal dysplasia, with severe pro...\n",
       "4          61                                 Alpha-mannosidosis"
      ]
     },
     "execution_count": 684,
     "metadata": {},
     "output_type": "execute_result"
    }
   ],
   "source": [
    "tree = ET.parse(str(ORPHANET_PATH / 'raw_files_2016_04'/ \"rare_disease_crossref_en_product1.xml\"))\n",
    "root = tree.getroot()\n",
    "disorderlist_cross_2016 = root[0]\n",
    "\n",
    "\n",
    "rel_list_2016 = []\n",
    "for disorder in disorderlist_cross_2016:\n",
    "    disorder_orphan = disorder.find(\"orphanumber\").text\n",
    "    disorder_name = disorder.find(\"name\").text\n",
    "    rel_list_2016.append(OrderedDict([\n",
    "            (\"OrphaNumber\", disorder_orphan),\n",
    "            (\"Disorder_Name\", disorder_name)\n",
    "        ]))\n",
    "rel_df_2016 = pd.DataFrame(rel_list_2016).drop_duplicates()\n",
    "rel_df_2016.shape\n",
    "print(len(rel_df_2016.OrphaNumber.unique()))\n",
    "rel_df_2016.head()"
   ]
  },
  {
   "cell_type": "markdown",
   "metadata": {},
   "source": [
    "### Final Disease DF: check if in 2012, 2015"
   ]
  },
  {
   "cell_type": "code",
   "execution_count": 685,
   "metadata": {},
   "outputs": [],
   "source": [
    "rel_df_2012.OrphaNumber = rel_df_2012.OrphaNumber.astype(str)\n",
    "rel_df_2013.OrphaNumber = rel_df_2013.OrphaNumber.astype(str)\n",
    "rel_df_2014.OrphaNumber = rel_df_2014.OrphaNumber.astype(str)\n",
    "rel_df_2015.OrphaNumber = rel_df_2015.OrphaNumber.astype(str)\n",
    "rel_df_2016.OrphaNumber = rel_df_2016.OrphaNumber.astype(str)\n",
    "\n",
    "orphanet_final_disease_metadata.OrphaNumber = orphanet_final_disease_metadata.OrphaNumber.astype(str)\n",
    "orphanet_final_disease_metadata[\"In_2012\"] = [x in rel_df_2012.OrphaNumber.values for x in orphanet_final_disease_metadata.OrphaNumber.values ]\n",
    "orphanet_final_disease_metadata[\"In_2013\"] = [x in rel_df_2013.OrphaNumber.values for x in orphanet_final_disease_metadata.OrphaNumber.values ]\n",
    "orphanet_final_disease_metadata[\"In_2014\"] = [x in rel_df_2014.OrphaNumber.values for x in orphanet_final_disease_metadata.OrphaNumber.values ]\n",
    "orphanet_final_disease_metadata[\"In_2015\"] = [x in rel_df_2015.OrphaNumber.values for x in orphanet_final_disease_metadata.OrphaNumber.values ]\n",
    "orphanet_final_disease_metadata[\"In_2016\"] = [x in rel_df_2016.OrphaNumber.values for x in orphanet_final_disease_metadata.OrphaNumber.values ]"
   ]
  },
  {
   "cell_type": "code",
   "execution_count": 686,
   "metadata": {},
   "outputs": [
    {
     "data": {
      "image/png": "[encoded data removed]",
      "text/plain": [
       "<Figure size 387.5x384 with 4 Axes>"
      ]
     },
     "metadata": {
      "needs_background": "light"
     },
     "output_type": "display_data"
    }
   ],
   "source": [
    "file_memberships = {\"2012\":set(orphanet_final_disease_metadata.query(\"In_2012\").OrphaNumber.unique()),\n",
    "                    \"2013\":set(orphanet_final_disease_metadata.query(\"In_2013\").OrphaNumber.unique()),\n",
    "                    \"2014\":set(orphanet_final_disease_metadata.query(\"In_2014\").OrphaNumber.unique()),\n",
    "                    \"2015\":set(orphanet_final_disease_metadata.query(\"In_2015\").OrphaNumber.unique()),\n",
    "                    \"2016\":set(orphanet_final_disease_metadata.query(\"In_2016\").OrphaNumber.unique()),\n",
    "                    \"2019\":set(orphanet_final_disease_metadata.OrphaNumber.unique()),\n",
    "    }\n",
    "upset_from_contents = from_contents(file_memberships)\n",
    "plot_upset(upset_from_contents, sum_over = False, show_counts = True,\n",
    "          sort_by=\"cardinality\")\n",
    "pyplot.show()"
   ]
  },
  {
   "cell_type": "code",
   "execution_count": 687,
   "metadata": {},
   "outputs": [
    {
     "data": {
      "image/png": "[encoded data removed]",
      "text/plain": [
       "<Figure size 245.25x288 with 4 Axes>"
      ]
     },
     "metadata": {
      "needs_background": "light"
     },
     "output_type": "display_data"
    }
   ],
   "source": [
    "file_memberships = {\"2012_06\":set(orphanet_final_disease_metadata.query(\"In_2012\").OrphaNumber.unique()),\n",
    "                    \"2015_03\":set(orphanet_final_disease_metadata.query(\"In_2015\").OrphaNumber.unique()),\n",
    "                    \"2019\":set(orphanet_final_disease_metadata.OrphaNumber.unique()),\n",
    "    }\n",
    "upset_from_contents = from_contents(file_memberships)\n",
    "plot_upset(upset_from_contents, sum_over = False, show_counts = True,\n",
    "          sort_by=\"cardinality\")\n",
    "pyplot.show()"
   ]
  },
  {
   "cell_type": "code",
   "execution_count": 688,
   "metadata": {},
   "outputs": [
    {
     "data": {
      "image/png": "[encoded data removed]",
      "text/plain": [
       "<Figure size 245.25x288 with 4 Axes>"
      ]
     },
     "metadata": {
      "needs_background": "light"
     },
     "output_type": "display_data"
    }
   ],
   "source": [
    "file_memberships = {\"2013_09\":set(orphanet_final_disease_metadata.query(\"In_2013\").OrphaNumber.unique()),\n",
    "                    \"2016_04\":set(orphanet_final_disease_metadata.query(\"In_2016\").OrphaNumber.unique()),\n",
    "                    \"2019\":set(orphanet_final_disease_metadata.OrphaNumber.unique()),\n",
    "    }\n",
    "upset_from_contents = from_contents(file_memberships)\n",
    "plot_upset(upset_from_contents, sum_over = False, show_counts = True,\n",
    "          sort_by=\"cardinality\")\n",
    "pyplot.show()"
   ]
  },
  {
   "cell_type": "code",
   "execution_count": 689,
   "metadata": {},
   "outputs": [
    {
     "data": {
      "image/png": "[encoded data removed]",
      "text/plain": [
       "<Figure size 245.25x288 with 4 Axes>"
      ]
     },
     "metadata": {
      "needs_background": "light"
     },
     "output_type": "display_data"
    }
   ],
   "source": [
    "file_memberships = {\"2013_09\":set(orphanet_final_disease_metadata.query(\"In_2013\").OrphaNumber.unique()),\n",
    "                    \"2015_03\":set(orphanet_final_disease_metadata.query(\"In_2015\").OrphaNumber.unique()),\n",
    "                    \"2019\":set(orphanet_final_disease_metadata.OrphaNumber.unique()),\n",
    "    }\n",
    "upset_from_contents = from_contents(file_memberships)\n",
    "plot_upset(upset_from_contents, sum_over = False, show_counts = True,\n",
    "          sort_by=\"cardinality\")\n",
    "pyplot.show()"
   ]
  },
  {
   "cell_type": "code",
   "execution_count": 690,
   "metadata": {},
   "outputs": [
    {
     "data": {
      "text/html": [
       "<div>\n",
       "<style scoped>\n",
       "    .dataframe tbody tr th:only-of-type {\n",
       "        vertical-align: middle;\n",
       "    }\n",
       "\n",
       "    .dataframe tbody tr th {\n",
       "        vertical-align: top;\n",
       "    }\n",
       "\n",
       "    .dataframe thead th {\n",
       "        text-align: right;\n",
       "    }\n",
       "</style>\n",
       "<table border=\"1\" class=\"dataframe\">\n",
       "  <thead>\n",
       "    <tr style=\"text-align: right;\">\n",
       "      <th></th>\n",
       "      <th>OrphaNumber</th>\n",
       "      <th>Disorder_Name</th>\n",
       "      <th>Onset_Infant</th>\n",
       "      <th>Onset_Child</th>\n",
       "      <th>Onset_Adolescent</th>\n",
       "      <th>Onset_Adult</th>\n",
       "      <th>Onset_Elderly</th>\n",
       "      <th>Average_Age_Onset</th>\n",
       "      <th>Average_Age_Death</th>\n",
       "      <th>Inheritence_Types</th>\n",
       "      <th>Category</th>\n",
       "      <th>In_2012</th>\n",
       "      <th>In_2013</th>\n",
       "      <th>In_2014</th>\n",
       "      <th>In_2015</th>\n",
       "      <th>In_2016</th>\n",
       "    </tr>\n",
       "  </thead>\n",
       "  <tbody>\n",
       "    <tr>\n",
       "      <th>871</th>\n",
       "      <td>182050</td>\n",
       "      <td>MYH9-related disease</td>\n",
       "      <td>True</td>\n",
       "      <td>True</td>\n",
       "      <td>True</td>\n",
       "      <td>True</td>\n",
       "      <td>False</td>\n",
       "      <td>Adolescent|Adult|Childhood|Infancy|Neonatal</td>\n",
       "      <td>normal life expectancy</td>\n",
       "      <td>Autosomal dominant</td>\n",
       "      <td>Rare hematologic disease</td>\n",
       "      <td>False</td>\n",
       "      <td>False</td>\n",
       "      <td>True</td>\n",
       "      <td>True</td>\n",
       "      <td>True</td>\n",
       "    </tr>\n",
       "    <tr>\n",
       "      <th>1577</th>\n",
       "      <td>247691</td>\n",
       "      <td>Retinal vasculopathy with cerebral leukoenceph...</td>\n",
       "      <td>False</td>\n",
       "      <td>False</td>\n",
       "      <td>False</td>\n",
       "      <td>False</td>\n",
       "      <td>False</td>\n",
       "      <td></td>\n",
       "      <td></td>\n",
       "      <td>Autosomal dominant</td>\n",
       "      <td>Rare neurologic disease</td>\n",
       "      <td>False</td>\n",
       "      <td>False</td>\n",
       "      <td>True</td>\n",
       "      <td>True</td>\n",
       "      <td>True</td>\n",
       "    </tr>\n",
       "    <tr>\n",
       "      <th>2288</th>\n",
       "      <td>293284</td>\n",
       "      <td>Tetrahydrobiopterin-responsive hyperphenylalan...</td>\n",
       "      <td>True</td>\n",
       "      <td>False</td>\n",
       "      <td>False</td>\n",
       "      <td>False</td>\n",
       "      <td>False</td>\n",
       "      <td>Infancy|Neonatal</td>\n",
       "      <td></td>\n",
       "      <td>Autosomal recessive</td>\n",
       "      <td>Rare inborn errors of metabolism</td>\n",
       "      <td>False</td>\n",
       "      <td>True</td>\n",
       "      <td>True</td>\n",
       "      <td>True</td>\n",
       "      <td>True</td>\n",
       "    </tr>\n",
       "    <tr>\n",
       "      <th>2291</th>\n",
       "      <td>293633</td>\n",
       "      <td>PYCR1-related De Barsy syndrome</td>\n",
       "      <td>False</td>\n",
       "      <td>False</td>\n",
       "      <td>False</td>\n",
       "      <td>False</td>\n",
       "      <td>False</td>\n",
       "      <td></td>\n",
       "      <td></td>\n",
       "      <td></td>\n",
       "      <td>Rare inborn errors of metabolism</td>\n",
       "      <td>False</td>\n",
       "      <td>True</td>\n",
       "      <td>True</td>\n",
       "      <td>True</td>\n",
       "      <td>True</td>\n",
       "    </tr>\n",
       "    <tr>\n",
       "      <th>2294</th>\n",
       "      <td>293843</td>\n",
       "      <td>3MC syndrome</td>\n",
       "      <td>True</td>\n",
       "      <td>False</td>\n",
       "      <td>False</td>\n",
       "      <td>False</td>\n",
       "      <td>False</td>\n",
       "      <td>Infancy|Neonatal</td>\n",
       "      <td>No data available</td>\n",
       "      <td>Autosomal recessive</td>\n",
       "      <td>Rare developmental defect during embryogenesis</td>\n",
       "      <td>False</td>\n",
       "      <td>True</td>\n",
       "      <td>True</td>\n",
       "      <td>True</td>\n",
       "      <td>True</td>\n",
       "    </tr>\n",
       "  </tbody>\n",
       "</table>\n",
       "</div>"
      ],
      "text/plain": [
       "     OrphaNumber                                      Disorder_Name  \\\n",
       "871       182050                               MYH9-related disease   \n",
       "1577      247691  Retinal vasculopathy with cerebral leukoenceph...   \n",
       "2288      293284  Tetrahydrobiopterin-responsive hyperphenylalan...   \n",
       "2291      293633                    PYCR1-related De Barsy syndrome   \n",
       "2294      293843                                       3MC syndrome   \n",
       "\n",
       "      Onset_Infant  Onset_Child  Onset_Adolescent  Onset_Adult  Onset_Elderly  \\\n",
       "871           True         True              True         True          False   \n",
       "1577         False        False             False        False          False   \n",
       "2288          True        False             False        False          False   \n",
       "2291         False        False             False        False          False   \n",
       "2294          True        False             False        False          False   \n",
       "\n",
       "                                Average_Age_Onset       Average_Age_Death  \\\n",
       "871   Adolescent|Adult|Childhood|Infancy|Neonatal  normal life expectancy   \n",
       "1577                                                                        \n",
       "2288                             Infancy|Neonatal                           \n",
       "2291                                                                        \n",
       "2294                             Infancy|Neonatal       No data available   \n",
       "\n",
       "        Inheritence_Types                                        Category  \\\n",
       "871    Autosomal dominant                        Rare hematologic disease   \n",
       "1577   Autosomal dominant                         Rare neurologic disease   \n",
       "2288  Autosomal recessive                Rare inborn errors of metabolism   \n",
       "2291                                     Rare inborn errors of metabolism   \n",
       "2294  Autosomal recessive  Rare developmental defect during embryogenesis   \n",
       "\n",
       "      In_2012  In_2013  In_2014  In_2015  In_2016  \n",
       "871     False    False     True     True     True  \n",
       "1577    False    False     True     True     True  \n",
       "2288    False     True     True     True     True  \n",
       "2291    False     True     True     True     True  \n",
       "2294    False     True     True     True     True  "
      ]
     },
     "execution_count": 690,
     "metadata": {},
     "output_type": "execute_result"
    }
   ],
   "source": [
    "orphanet_final_disease_metadata.query(\"not In_2012\").head()"
   ]
  },
  {
   "cell_type": "code",
   "execution_count": 691,
   "metadata": {
    "scrolled": true
   },
   "outputs": [
    {
     "data": {
      "text/html": [
       "<div>\n",
       "<style scoped>\n",
       "    .dataframe tbody tr th:only-of-type {\n",
       "        vertical-align: middle;\n",
       "    }\n",
       "\n",
       "    .dataframe tbody tr th {\n",
       "        vertical-align: top;\n",
       "    }\n",
       "\n",
       "    .dataframe thead th {\n",
       "        text-align: right;\n",
       "    }\n",
       "</style>\n",
       "<table border=\"1\" class=\"dataframe\">\n",
       "  <thead>\n",
       "    <tr style=\"text-align: right;\">\n",
       "      <th></th>\n",
       "      <th>OrphaNumber</th>\n",
       "      <th>Disorder_Name</th>\n",
       "      <th>Onset_Infant</th>\n",
       "      <th>Onset_Child</th>\n",
       "      <th>Onset_Adolescent</th>\n",
       "      <th>Onset_Adult</th>\n",
       "      <th>Onset_Elderly</th>\n",
       "      <th>Average_Age_Onset</th>\n",
       "      <th>Average_Age_Death</th>\n",
       "      <th>Inheritence_Types</th>\n",
       "      <th>Category</th>\n",
       "      <th>In_2012</th>\n",
       "      <th>In_2013</th>\n",
       "      <th>In_2014</th>\n",
       "      <th>In_2015</th>\n",
       "      <th>In_2016</th>\n",
       "    </tr>\n",
       "  </thead>\n",
       "  <tbody>\n",
       "    <tr>\n",
       "      <th>989</th>\n",
       "      <td>199306</td>\n",
       "      <td>Cleft lip/palate</td>\n",
       "      <td>True</td>\n",
       "      <td>False</td>\n",
       "      <td>False</td>\n",
       "      <td>False</td>\n",
       "      <td>False</td>\n",
       "      <td>Infancy|Neonatal</td>\n",
       "      <td></td>\n",
       "      <td>Multigenic/multifactorial</td>\n",
       "      <td>Rare developmental defect during embryogenesis</td>\n",
       "      <td>True</td>\n",
       "      <td>True</td>\n",
       "      <td>False</td>\n",
       "      <td>False</td>\n",
       "      <td>False</td>\n",
       "    </tr>\n",
       "    <tr>\n",
       "      <th>3409</th>\n",
       "      <td>423275</td>\n",
       "      <td>Spinocerebellar ataxia type 40</td>\n",
       "      <td>False</td>\n",
       "      <td>False</td>\n",
       "      <td>False</td>\n",
       "      <td>True</td>\n",
       "      <td>False</td>\n",
       "      <td>Adult</td>\n",
       "      <td>No data available</td>\n",
       "      <td>Autosomal dominant</td>\n",
       "      <td>Rare neurologic disease</td>\n",
       "      <td>False</td>\n",
       "      <td>False</td>\n",
       "      <td>False</td>\n",
       "      <td>False</td>\n",
       "      <td>True</td>\n",
       "    </tr>\n",
       "    <tr>\n",
       "      <th>3410</th>\n",
       "      <td>423296</td>\n",
       "      <td>Spinocerebellar ataxia type 38</td>\n",
       "      <td>False</td>\n",
       "      <td>False</td>\n",
       "      <td>False</td>\n",
       "      <td>True</td>\n",
       "      <td>False</td>\n",
       "      <td>Adult</td>\n",
       "      <td>No data available</td>\n",
       "      <td>Autosomal dominant</td>\n",
       "      <td>Rare neurologic disease</td>\n",
       "      <td>False</td>\n",
       "      <td>False</td>\n",
       "      <td>False</td>\n",
       "      <td>False</td>\n",
       "      <td>True</td>\n",
       "    </tr>\n",
       "    <tr>\n",
       "      <th>3414</th>\n",
       "      <td>423461</td>\n",
       "      <td>Mucolipidosis type III alpha/beta</td>\n",
       "      <td>False</td>\n",
       "      <td>False</td>\n",
       "      <td>False</td>\n",
       "      <td>False</td>\n",
       "      <td>False</td>\n",
       "      <td></td>\n",
       "      <td></td>\n",
       "      <td>Autosomal recessive</td>\n",
       "      <td>Rare inborn errors of metabolism</td>\n",
       "      <td>False</td>\n",
       "      <td>False</td>\n",
       "      <td>False</td>\n",
       "      <td>False</td>\n",
       "      <td>True</td>\n",
       "    </tr>\n",
       "    <tr>\n",
       "      <th>3415</th>\n",
       "      <td>423470</td>\n",
       "      <td>Mucolipidosis type III gamma</td>\n",
       "      <td>False</td>\n",
       "      <td>False</td>\n",
       "      <td>False</td>\n",
       "      <td>False</td>\n",
       "      <td>False</td>\n",
       "      <td></td>\n",
       "      <td></td>\n",
       "      <td>Autosomal recessive</td>\n",
       "      <td>Rare inborn errors of metabolism</td>\n",
       "      <td>False</td>\n",
       "      <td>False</td>\n",
       "      <td>False</td>\n",
       "      <td>False</td>\n",
       "      <td>True</td>\n",
       "    </tr>\n",
       "  </tbody>\n",
       "</table>\n",
       "</div>"
      ],
      "text/plain": [
       "     OrphaNumber                      Disorder_Name  Onset_Infant  \\\n",
       "989       199306                   Cleft lip/palate          True   \n",
       "3409      423275     Spinocerebellar ataxia type 40         False   \n",
       "3410      423296     Spinocerebellar ataxia type 38         False   \n",
       "3414      423461  Mucolipidosis type III alpha/beta         False   \n",
       "3415      423470       Mucolipidosis type III gamma         False   \n",
       "\n",
       "      Onset_Child  Onset_Adolescent  Onset_Adult  Onset_Elderly  \\\n",
       "989         False             False        False          False   \n",
       "3409        False             False         True          False   \n",
       "3410        False             False         True          False   \n",
       "3414        False             False        False          False   \n",
       "3415        False             False        False          False   \n",
       "\n",
       "     Average_Age_Onset  Average_Age_Death          Inheritence_Types  \\\n",
       "989   Infancy|Neonatal                     Multigenic/multifactorial   \n",
       "3409             Adult  No data available         Autosomal dominant   \n",
       "3410             Adult  No data available         Autosomal dominant   \n",
       "3414                                             Autosomal recessive   \n",
       "3415                                             Autosomal recessive   \n",
       "\n",
       "                                            Category  In_2012  In_2013  \\\n",
       "989   Rare developmental defect during embryogenesis     True     True   \n",
       "3409                         Rare neurologic disease    False    False   \n",
       "3410                         Rare neurologic disease    False    False   \n",
       "3414                Rare inborn errors of metabolism    False    False   \n",
       "3415                Rare inborn errors of metabolism    False    False   \n",
       "\n",
       "      In_2014  In_2015  In_2016  \n",
       "989     False    False    False  \n",
       "3409    False    False     True  \n",
       "3410    False    False     True  \n",
       "3414    False    False     True  \n",
       "3415    False    False     True  "
      ]
     },
     "execution_count": 691,
     "metadata": {},
     "output_type": "execute_result"
    }
   ],
   "source": [
    "orphanet_final_disease_metadata.query(\"not In_2015\").head()"
   ]
  },
  {
   "cell_type": "raw",
   "metadata": {
    "collapsed": true
   },
   "source": [
    "orphanet_final_disease_metadata.query(\"(In_2015) and (not In_2013)\").to_csv(ORPHANET_FLAT_PATH / 'orphanet_final_disease_metadata_valDiseases.tsv', sep=\"\\t\", index = False)\n",
    "orphanet_final_disease_metadata.query(\"(not In_2015) and (not In_2013)\").to_csv(ORPHANET_FLAT_PATH / 'orphanet_final_disease_metadata_testDiseases.tsv', sep=\"\\t\", index = False)"
   ]
  },
  {
   "cell_type": "markdown",
   "metadata": {},
   "source": [
    "# Annotating New Diseases From Manual List"
   ]
  },
  {
   "cell_type": "code",
   "execution_count": 692,
   "metadata": {},
   "outputs": [],
   "source": [
    "import numpy as np"
   ]
  },
  {
   "cell_type": "code",
   "execution_count": 693,
   "metadata": {},
   "outputs": [],
   "source": [
    "disease_dates_val_test = pd.read_csv(ORPHANET_PATH / 'manual_annotations' / 'Orphanet_Diseases_Annotation-new_disease_post_2015.tsv', sep=\"\\t\", dtype=str)"
   ]
  },
  {
   "cell_type": "code",
   "execution_count": 694,
   "metadata": {},
   "outputs": [],
   "source": [
    "disease_dates_val_test['Date_First_Paper'] = pd.to_datetime(disease_dates_val_test['Date_First_Paper'])"
   ]
  },
  {
   "cell_type": "code",
   "execution_count": 695,
   "metadata": {},
   "outputs": [
    {
     "data": {
      "text/html": [
       "<div>\n",
       "<style scoped>\n",
       "    .dataframe tbody tr th:only-of-type {\n",
       "        vertical-align: middle;\n",
       "    }\n",
       "\n",
       "    .dataframe tbody tr th {\n",
       "        vertical-align: top;\n",
       "    }\n",
       "\n",
       "    .dataframe thead th {\n",
       "        text-align: right;\n",
       "    }\n",
       "</style>\n",
       "<table border=\"1\" class=\"dataframe\">\n",
       "  <thead>\n",
       "    <tr style=\"text-align: right;\">\n",
       "      <th></th>\n",
       "      <th>OrphaNumber</th>\n",
       "      <th>Disorder_Name</th>\n",
       "      <th>Date_First_Paper</th>\n",
       "      <th>Source</th>\n",
       "    </tr>\n",
       "  </thead>\n",
       "  <tbody>\n",
       "    <tr>\n",
       "      <th>0</th>\n",
       "      <td>504476</td>\n",
       "      <td>Cerebellar ataxia with neuropathy and bilatera...</td>\n",
       "      <td>2019-08-26</td>\n",
       "      <td>https://www.ncbi.nlm.nih.gov/pmc/articles/PMC6...</td>\n",
       "    </tr>\n",
       "    <tr>\n",
       "      <th>1</th>\n",
       "      <td>521445</td>\n",
       "      <td>Microcephaly-facial dysmorphism-ocular anomali...</td>\n",
       "      <td>2018-11-01</td>\n",
       "      <td>https://www.ncbi.nlm.nih.gov/pmc/articles/PMC5...</td>\n",
       "    </tr>\n",
       "    <tr>\n",
       "      <th>2</th>\n",
       "      <td>436271</td>\n",
       "      <td>Non-progressive predominantly posterior cavita...</td>\n",
       "      <td>2018-03-26</td>\n",
       "      <td>https://www.ncbi.nlm.nih.gov/pubmed/29577824</td>\n",
       "    </tr>\n",
       "    <tr>\n",
       "      <th>3</th>\n",
       "      <td>529970</td>\n",
       "      <td>Male infertility due to acephalic spermatozoa</td>\n",
       "      <td>2018-03-01</td>\n",
       "      <td>https://www.omim.org/entry/617187</td>\n",
       "    </tr>\n",
       "    <tr>\n",
       "      <th>4</th>\n",
       "      <td>521411</td>\n",
       "      <td>Autosomal recessive axonal Charcot-Marie-Tooth...</td>\n",
       "      <td>2018-01-16</td>\n",
       "      <td>https://www.ncbi.nlm.nih.gov/pubmed/29351582</td>\n",
       "    </tr>\n",
       "  </tbody>\n",
       "</table>\n",
       "</div>"
      ],
      "text/plain": [
       "  OrphaNumber                                      Disorder_Name  \\\n",
       "0      504476  Cerebellar ataxia with neuropathy and bilatera...   \n",
       "1      521445  Microcephaly-facial dysmorphism-ocular anomali...   \n",
       "2      436271  Non-progressive predominantly posterior cavita...   \n",
       "3      529970      Male infertility due to acephalic spermatozoa   \n",
       "4      521411  Autosomal recessive axonal Charcot-Marie-Tooth...   \n",
       "\n",
       "  Date_First_Paper                                             Source  \n",
       "0       2019-08-26  https://www.ncbi.nlm.nih.gov/pmc/articles/PMC6...  \n",
       "1       2018-11-01  https://www.ncbi.nlm.nih.gov/pmc/articles/PMC5...  \n",
       "2       2018-03-26       https://www.ncbi.nlm.nih.gov/pubmed/29577824  \n",
       "3       2018-03-01                  https://www.omim.org/entry/617187  \n",
       "4       2018-01-16       https://www.ncbi.nlm.nih.gov/pubmed/29351582  "
      ]
     },
     "execution_count": 695,
     "metadata": {},
     "output_type": "execute_result"
    }
   ],
   "source": [
    "disease_dates_val_test.head()"
   ]
  },
  {
   "cell_type": "code",
   "execution_count": 696,
   "metadata": {},
   "outputs": [],
   "source": [
    "#orpha_ids_post_2015_03 = disease_dates_val_test.query(\"Date_First_Paper >= '3/1/2015'\").OrphaNumber.values\n",
    "\n",
    "#Emily is changing date to 1/2015\n",
    "orpha_ids_post_2015_03 = disease_dates_val_test.query(\"Date_First_Paper >= '1/1/2015'\").OrphaNumber.values"
   ]
  },
  {
   "cell_type": "raw",
   "metadata": {
    "collapsed": true
   },
   "source": [
    "orpha_ids_val = disease_dates_val_test.query(\"Split == 'VAL'\").OrphaNumber.values\n",
    "orpha_ids_test = disease_dates_val_test.query(\"Split == 'TEST'\").OrphaNumber.values"
   ]
  },
  {
   "cell_type": "code",
   "execution_count": 697,
   "metadata": {},
   "outputs": [],
   "source": [
    "#orphas_boolean_in_val = [onum in orpha_ids_val for onum in orphanet_final_disease_metadata.OrphaNumber.values]\n",
    "orphas_boolean_post_2015 = [onum in orpha_ids_post_2015_03 for onum in orphanet_final_disease_metadata.OrphaNumber.values]\n",
    "orphas_boolean_pre_2015 = [(onum not in orpha_ids_post_2015_03) for onum in orphanet_final_disease_metadata.OrphaNumber.values]"
   ]
  },
  {
   "cell_type": "raw",
   "metadata": {
    "collapsed": true
   },
   "source": [
    "orphanet_final_disease_metadata[\"First_Published_pre_2013_04_01\"] = orphas_boolean_in_train\n",
    "orphanet_final_disease_metadata[\"First_Published_2013_04_01-2014_12_31\"] = orphas_boolean_in_val\n",
    "orphanet_final_disease_metadata[\"First_Published_post_2014_12_31\"] = orphas_boolean_in_test\n",
    "orphanet_final_disease_metadata.drop(columns=['In_2012', 'In_2013', 'In_2014', 'In_2015', 'In_2016'], inplace=True)\n",
    "\n",
    "(np.sum(orphanet_final_disease_metadata[\"First_Published_pre_2013_04_01\"]),\n",
    " np.sum(orphanet_final_disease_metadata[\"First_Published_2013_04_01-2014_12_31\"] ),\n",
    " np.sum(orphanet_final_disease_metadata[\"First_Published_post_2014_12_31\"]))"
   ]
  },
  {
   "cell_type": "code",
   "execution_count": 698,
   "metadata": {},
   "outputs": [
    {
     "data": {
      "text/plain": [
       "(2069, 65)"
      ]
     },
     "execution_count": 698,
     "metadata": {},
     "output_type": "execute_result"
    }
   ],
   "source": [
    "#orphanet_final_disease_metadata[\"First_Published_pre_2015_03_01\"] = orphas_boolean_pre_2015\n",
    "orphanet_final_disease_metadata[\"First_Published_post_2015_03_01\"] = orphas_boolean_post_2015\n",
    "orphanet_final_disease_metadata.drop(columns=['In_2012', 'In_2013', 'In_2014', 'In_2015', 'In_2016'], inplace=True)\n",
    "\n",
    "(np.sum(1-orphanet_final_disease_metadata[\"First_Published_post_2015_03_01\"]),\n",
    " np.sum(orphanet_final_disease_metadata[\"First_Published_post_2015_03_01\"] ))"
   ]
  },
  {
   "cell_type": "code",
   "execution_count": 699,
   "metadata": {},
   "outputs": [],
   "source": [
    "orphas_in_2015 = orphanet_final_disease_metadata.query(\"not First_Published_post_2015_03_01\").OrphaNumber.values\n",
    "disease_counts = orphanet_final_disease_genes.query(\"OrphaNumber in @ orphas_in_2015\").groupby(\"Gene_Symbol\").count().OrphaNumber"
   ]
  },
  {
   "cell_type": "markdown",
   "metadata": {},
   "source": [
    "# Annotating new genes since 2012"
   ]
  },
  {
   "cell_type": "code",
   "execution_count": 700,
   "metadata": {},
   "outputs": [
    {
     "name": "stdout",
     "output_type": "stream",
     "text": [
      "2468\n"
     ]
    },
    {
     "data": {
      "text/html": [
       "<div>\n",
       "<style scoped>\n",
       "    .dataframe tbody tr th:only-of-type {\n",
       "        vertical-align: middle;\n",
       "    }\n",
       "\n",
       "    .dataframe tbody tr th {\n",
       "        vertical-align: top;\n",
       "    }\n",
       "\n",
       "    .dataframe thead th {\n",
       "        text-align: right;\n",
       "    }\n",
       "</style>\n",
       "<table border=\"1\" class=\"dataframe\">\n",
       "  <thead>\n",
       "    <tr style=\"text-align: right;\">\n",
       "      <th></th>\n",
       "      <th>OrphaNumber</th>\n",
       "      <th>Disorder_Name</th>\n",
       "      <th>Gene_Symbol</th>\n",
       "      <th>Gene_Synonyms</th>\n",
       "      <th>Gene_External_Refs</th>\n",
       "    </tr>\n",
       "  </thead>\n",
       "  <tbody>\n",
       "    <tr>\n",
       "      <th>0</th>\n",
       "      <td>166024</td>\n",
       "      <td>Multiple epiphyseal dysplasia, Al-Gazali type</td>\n",
       "      <td>KIF7</td>\n",
       "      <td>JBTS12</td>\n",
       "      <td>ENSEMBL:ENSG00000166813|GENATLAS:KIF7|HGNC:304...</td>\n",
       "    </tr>\n",
       "    <tr>\n",
       "      <th>1</th>\n",
       "      <td>58</td>\n",
       "      <td>Alexander disease</td>\n",
       "      <td>GFAP</td>\n",
       "      <td></td>\n",
       "      <td>ENSEMBL:ENSG00000131095|GENATLAS:GFAP|HGNC:423...</td>\n",
       "    </tr>\n",
       "    <tr>\n",
       "      <th>2</th>\n",
       "      <td>58</td>\n",
       "      <td>Alexander disease</td>\n",
       "      <td>NDUFV1</td>\n",
       "      <td></td>\n",
       "      <td>ENSEMBL:ENSG00000167792|GENATLAS:NDUFV1|HGNC:7...</td>\n",
       "    </tr>\n",
       "    <tr>\n",
       "      <th>3</th>\n",
       "      <td>61</td>\n",
       "      <td>Alpha-mannosidosis</td>\n",
       "      <td>MAN2B1</td>\n",
       "      <td>LAMAN|MANB</td>\n",
       "      <td>ENSEMBL:ENSG00000104774|GENATLAS:MAN2B1|HGNC:6...</td>\n",
       "    </tr>\n",
       "    <tr>\n",
       "      <th>4</th>\n",
       "      <td>93</td>\n",
       "      <td>Aspartylglucosaminuria</td>\n",
       "      <td>AGA</td>\n",
       "      <td>ASRG</td>\n",
       "      <td>ENSEMBL:ENSG00000038002|GENATLAS:AGA|HGNC:318|...</td>\n",
       "    </tr>\n",
       "  </tbody>\n",
       "</table>\n",
       "</div>"
      ],
      "text/plain": [
       "  OrphaNumber                                  Disorder_Name Gene_Symbol  \\\n",
       "0      166024  Multiple epiphyseal dysplasia, Al-Gazali type        KIF7   \n",
       "1          58                              Alexander disease        GFAP   \n",
       "2          58                              Alexander disease      NDUFV1   \n",
       "3          61                             Alpha-mannosidosis      MAN2B1   \n",
       "4          93                         Aspartylglucosaminuria         AGA   \n",
       "\n",
       "  Gene_Synonyms                                 Gene_External_Refs  \n",
       "0        JBTS12  ENSEMBL:ENSG00000166813|GENATLAS:KIF7|HGNC:304...  \n",
       "1                ENSEMBL:ENSG00000131095|GENATLAS:GFAP|HGNC:423...  \n",
       "2                ENSEMBL:ENSG00000167792|GENATLAS:NDUFV1|HGNC:7...  \n",
       "3    LAMAN|MANB  ENSEMBL:ENSG00000104774|GENATLAS:MAN2B1|HGNC:6...  \n",
       "4          ASRG  ENSEMBL:ENSG00000038002|GENATLAS:AGA|HGNC:318|...  "
      ]
     },
     "execution_count": 700,
     "metadata": {},
     "output_type": "execute_result"
    }
   ],
   "source": [
    "tree = ET.parse(str(ORPHANET_PATH / 'raw_files_2012_06'/ \"genes_rare_diseases_en_product6.xml\"))\n",
    "root = tree.getroot()\n",
    "genelist_2012 = root[0]\n",
    "\n",
    "\n",
    "gene_list_2012 = []\n",
    "for disorder in genelist_2012:\n",
    "    disorder_orphan = disorder.find(\"orphanumber\").text\n",
    "    disorder_name = disorder.find(\"name\").text\n",
    "    for child_gene in disorder.find(\"genelist\"):\n",
    "        gene_symbol = child_gene.find(\"symbol\").text\n",
    "        gene_synonyms = \"|\".join([x.text\n",
    "                                  for x in child_gene.find(\"synonymlist\")])\n",
    "        external_refs = \"|\".join([\":\".join([x.find(\"source\").text, x.find(\"reference\").text])\n",
    "                                  for x in child_gene.find(\"externalreferencelist\")])\n",
    "        gene_list_2012.append(OrderedDict([\n",
    "            (\"OrphaNumber\", disorder_orphan),\n",
    "            (\"Disorder_Name\", disorder_name),\n",
    "            (\"Gene_Symbol\", gene_symbol),\n",
    "            (\"Gene_Synonyms\", gene_synonyms),\n",
    "            (\"Gene_External_Refs\", external_refs)\n",
    "        ]))\n",
    "gene_df_2012 = pd.DataFrame(gene_list_2012)\n",
    "print(len(gene_df_2012.OrphaNumber.unique()))\n",
    "#gene_df_2012.to_csv(ORPHANET_PATH / 'flat_files_2012_06'/ 'orphanet_disease_gene_all_unfiltered.tsv',\n",
    "                    #sep=\"\\t\", index = False)\n",
    "gene_df_2012.head()"
   ]
  },
  {
   "cell_type": "code",
   "execution_count": 701,
   "metadata": {},
   "outputs": [
    {
     "name": "stdout",
     "output_type": "stream",
     "text": [
      "3520\n"
     ]
    },
    {
     "data": {
      "text/html": [
       "<div>\n",
       "<style scoped>\n",
       "    .dataframe tbody tr th:only-of-type {\n",
       "        vertical-align: middle;\n",
       "    }\n",
       "\n",
       "    .dataframe tbody tr th {\n",
       "        vertical-align: top;\n",
       "    }\n",
       "\n",
       "    .dataframe thead th {\n",
       "        text-align: right;\n",
       "    }\n",
       "</style>\n",
       "<table border=\"1\" class=\"dataframe\">\n",
       "  <thead>\n",
       "    <tr style=\"text-align: right;\">\n",
       "      <th></th>\n",
       "      <th>OrphaNumber</th>\n",
       "      <th>Disorder_Name</th>\n",
       "      <th>Gene_Symbol</th>\n",
       "      <th>Association_Type</th>\n",
       "      <th>Gene_Synonyms</th>\n",
       "      <th>Gene_External_Refs</th>\n",
       "    </tr>\n",
       "  </thead>\n",
       "  <tbody>\n",
       "    <tr>\n",
       "      <th>0</th>\n",
       "      <td>166024</td>\n",
       "      <td>Multiple epiphyseal dysplasia, Al-Gazali type</td>\n",
       "      <td>KIF7</td>\n",
       "      <td>Disease-causing germline mutation(s) in</td>\n",
       "      <td>JBTS12</td>\n",
       "      <td>Ensembl:ENSG00000166813|Genatlas:KIF7|HGNC:304...</td>\n",
       "    </tr>\n",
       "    <tr>\n",
       "      <th>1</th>\n",
       "      <td>93</td>\n",
       "      <td>Aspartylglucosaminuria</td>\n",
       "      <td>AGA</td>\n",
       "      <td>Disease-causing germline mutation(s) in</td>\n",
       "      <td>ASRG|N(4)-(beta-N-acetylglucosaminyl)-L-aspara...</td>\n",
       "      <td>Reactome:P20933|Ensembl:ENSG00000038002|Genatl...</td>\n",
       "    </tr>\n",
       "    <tr>\n",
       "      <th>2</th>\n",
       "      <td>585</td>\n",
       "      <td>Multiple sulfatase deficiency</td>\n",
       "      <td>SUMF1</td>\n",
       "      <td>Disease-causing germline mutation(s) in</td>\n",
       "      <td>FGE|UNQ3037</td>\n",
       "      <td>Ensembl:ENSG00000144455|Genatlas:SUMF1|HGNC:20...</td>\n",
       "    </tr>\n",
       "    <tr>\n",
       "      <th>3</th>\n",
       "      <td>118</td>\n",
       "      <td>Beta-mannosidosis</td>\n",
       "      <td>MANBA</td>\n",
       "      <td>Disease-causing germline mutation(s) in</td>\n",
       "      <td>beta-mannosidase A</td>\n",
       "      <td>Reactome:O00462|Genatlas:MANBA|HGNC:6831|OMIM:...</td>\n",
       "    </tr>\n",
       "    <tr>\n",
       "      <th>4</th>\n",
       "      <td>166068</td>\n",
       "      <td>Pontocerebellar hypoplasia type 5</td>\n",
       "      <td>TSEN54</td>\n",
       "      <td>Disease-causing germline mutation(s) in</td>\n",
       "      <td>SEN54|SEN54L</td>\n",
       "      <td>Ensembl:ENSG00000182173|Genatlas:TSEN54|HGNC:2...</td>\n",
       "    </tr>\n",
       "  </tbody>\n",
       "</table>\n",
       "</div>"
      ],
      "text/plain": [
       "  OrphaNumber                                  Disorder_Name Gene_Symbol  \\\n",
       "0      166024  Multiple epiphyseal dysplasia, Al-Gazali type        KIF7   \n",
       "1          93                         Aspartylglucosaminuria         AGA   \n",
       "2         585                  Multiple sulfatase deficiency       SUMF1   \n",
       "3         118                              Beta-mannosidosis       MANBA   \n",
       "4      166068              Pontocerebellar hypoplasia type 5      TSEN54   \n",
       "\n",
       "                          Association_Type  \\\n",
       "0  Disease-causing germline mutation(s) in   \n",
       "1  Disease-causing germline mutation(s) in   \n",
       "2  Disease-causing germline mutation(s) in   \n",
       "3  Disease-causing germline mutation(s) in   \n",
       "4  Disease-causing germline mutation(s) in   \n",
       "\n",
       "                                       Gene_Synonyms  \\\n",
       "0                                             JBTS12   \n",
       "1  ASRG|N(4)-(beta-N-acetylglucosaminyl)-L-aspara...   \n",
       "2                                        FGE|UNQ3037   \n",
       "3                                 beta-mannosidase A   \n",
       "4                                       SEN54|SEN54L   \n",
       "\n",
       "                                  Gene_External_Refs  \n",
       "0  Ensembl:ENSG00000166813|Genatlas:KIF7|HGNC:304...  \n",
       "1  Reactome:P20933|Ensembl:ENSG00000038002|Genatl...  \n",
       "2  Ensembl:ENSG00000144455|Genatlas:SUMF1|HGNC:20...  \n",
       "3  Reactome:O00462|Genatlas:MANBA|HGNC:6831|OMIM:...  \n",
       "4  Ensembl:ENSG00000182173|Genatlas:TSEN54|HGNC:2...  "
      ]
     },
     "execution_count": 701,
     "metadata": {},
     "output_type": "execute_result"
    }
   ],
   "source": [
    "import xml.etree.ElementTree as ET\n",
    "tree = ET.parse(str(ORPHANET_PATH / 'raw_files_2016_12'/ \"genes_rare_diseases_en_product6.xml\"))\n",
    "root = tree.getroot()\n",
    "genelist_2016 = root[0]\n",
    "\n",
    "import pandas as pd\n",
    "from collections import OrderedDict\n",
    "gene_list_2016 = []\n",
    "for disorder in genelist_2016:\n",
    "    disorder_orphan = disorder.find(\"orphanumber\").text\n",
    "    disorder_name = disorder.find(\"name\").text\n",
    "    for child in disorder.find(\"disordergeneassociationlist\"):\n",
    "        child_gene = child.find(\"gene\")\n",
    "        gene_symbol = child_gene.find(\"symbol\").text\n",
    "        gene_synonyms = \"|\".join([x.text\n",
    "                                  for x in child_gene.find(\"synonymlist\")])\n",
    "        external_refs = \"|\".join([\":\".join([x.find(\"source\").text, x.find(\"reference\").text])\n",
    "                              for x in child_gene.find(\"externalreferencelist\")])\n",
    "        association_type = child.find(\"disordergeneassociationtype\").find(\"name\").text\n",
    "        association_status = child.find(\"disordergeneassociationstatus\").find(\"name\").text\n",
    "        gene_list_2016.append(OrderedDict([\n",
    "            (\"OrphaNumber\", disorder_orphan),\n",
    "            (\"Disorder_Name\", disorder_name),\n",
    "            (\"Gene_Symbol\", gene_symbol),\n",
    "            (\"Association_Type\", association_type),\n",
    "            (\"Gene_Synonyms\", gene_synonyms),\n",
    "            (\"Gene_External_Refs\", external_refs)\n",
    "        ]))\n",
    "gene_df_2016 = pd.DataFrame(gene_list_2016)\n",
    "print(len(gene_df_2016.OrphaNumber.unique()))\n",
    "#gene_df_2016.to_csv(ORPHANET_PATH / 'flat_files_2016_12'/ 'orphanet_disease_gene_all_unfiltered.tsv',\n",
    "#                    sep=\"\\t\", index = False)\n",
    "\n",
    "# causal_assocation_types = [\"Disease-causing germline mutation(s) in\",\n",
    "#                            \"Disease-causing germline mutation(s) (loss of function) in\",\n",
    "#                            \"Disease-causing germline mutation(s) (gain of function) in\",\n",
    "#                            \"Disease-causing somatic mutation(s) in\"\n",
    "#                           ]\n",
    "# gene_df_2016 = gene_df_2016.query(\"Association_Type in @causal_assocation_types\")\n",
    "# gene_df_2016.to_csv(ORPHANET_PATH / 'flat_files_2016_12'/ 'orphanet_disease_gene_causal.tsv',\n",
    "#                     sep=\"\\t\", index = False)\n",
    "\n",
    "gene_df_2016.head()"
   ]
  },
  {
   "cell_type": "raw",
   "metadata": {
    "collapsed": true
   },
   "source": [
    "orpha_2013_multiple_genes = orpha_2013_disease_gene_counts.loc[orpha_2013_disease_gene_counts > 1].index.unique()"
   ]
  },
  {
   "cell_type": "code",
   "execution_count": 702,
   "metadata": {},
   "outputs": [],
   "source": [
    "gene_df_2015 = pd.read_csv('/mnt/udn_data/orphanet/flat_files_2015_01/hpoa_orpha_gene_disease.tsv',\n",
    "                           delimiter='\\t')\n",
    "gene_df_2015['OrphaNumber'] = [x.split(\":\")[1] for x in gene_df_2015.OrphaNumber.values]\n"
   ]
  },
  {
   "cell_type": "code",
   "execution_count": 703,
   "metadata": {},
   "outputs": [],
   "source": [
    "# TEST CODE\n",
    "# gene_df_2015.loc[gene_df_2015['OrphaNumber'] == '504476']\n",
    "# gene_df_2016.loc[gene_df_2016['OrphaNumber'] == '504476']\n",
    "# gene_df_2012.loc[gene_df_2012['OrphaNumber'] == '504476']\n",
    "# orphanet_final_disease_genes.loc[orphanet_final_disease_genes['OrphaNumber'] == '504476']\n"
   ]
  },
  {
   "cell_type": "code",
   "execution_count": 704,
   "metadata": {},
   "outputs": [],
   "source": [
    "d_g_2019_all = list(zip(orphanet_final_disease_genes.OrphaNumber.values,\n",
    "                        orphanet_final_disease_genes.Gene_Symbol.values))\n",
    "d_g_2016_all = list(zip(gene_df_2016.OrphaNumber.values,\n",
    "                        gene_df_2016.Gene_Symbol.values))\n",
    "d_g_2015_all = list(zip(gene_df_2015.OrphaNumber.values,\n",
    "                        gene_df_2015.Gene_Symbol.values))\n",
    "d_g_2012_all = list(zip(gene_df_2012.OrphaNumber.values,\n",
    "                        gene_df_2012.Gene_Symbol.values))\n",
    "orphanet_final_disease_genes['DG_Association_In_Orpha_2012_06'] = [(d_g in d_g_2012_all) for d_g in d_g_2019_all ]\n",
    "orphanet_final_disease_genes['DG_Association_In_Orpha_2015_01'] = [(d_g in d_g_2015_all) for d_g in d_g_2019_all ]\n",
    "orphanet_final_disease_genes['DG_Association_In_Orpha_2016_12'] = [(d_g in d_g_2016_all) for d_g in d_g_2019_all ]"
   ]
  },
  {
   "cell_type": "code",
   "execution_count": 705,
   "metadata": {},
   "outputs": [
    {
     "data": {
      "text/html": [
       "<div>\n",
       "<style scoped>\n",
       "    .dataframe tbody tr th:only-of-type {\n",
       "        vertical-align: middle;\n",
       "    }\n",
       "\n",
       "    .dataframe tbody tr th {\n",
       "        vertical-align: top;\n",
       "    }\n",
       "\n",
       "    .dataframe thead th {\n",
       "        text-align: right;\n",
       "    }\n",
       "</style>\n",
       "<table border=\"1\" class=\"dataframe\">\n",
       "  <thead>\n",
       "    <tr style=\"text-align: right;\">\n",
       "      <th></th>\n",
       "      <th>OrphaNumber</th>\n",
       "      <th>Disorder_Name</th>\n",
       "      <th>Gene_Symbol</th>\n",
       "      <th>DG_Association_In_Orpha_2012_06</th>\n",
       "      <th>DG_Association_In_Orpha_2015_01</th>\n",
       "      <th>DG_Association_In_Orpha_2016_12</th>\n",
       "    </tr>\n",
       "  </thead>\n",
       "  <tbody>\n",
       "    <tr>\n",
       "      <th>0</th>\n",
       "      <td>100</td>\n",
       "      <td>Ataxia-telangiectasia</td>\n",
       "      <td>ATM</td>\n",
       "      <td>True</td>\n",
       "      <td>True</td>\n",
       "      <td>True</td>\n",
       "    </tr>\n",
       "    <tr>\n",
       "      <th>1</th>\n",
       "      <td>100006</td>\n",
       "      <td>ABeta amyloidosis, Dutch type</td>\n",
       "      <td>APP</td>\n",
       "      <td>False</td>\n",
       "      <td>True</td>\n",
       "      <td>True</td>\n",
       "    </tr>\n",
       "    <tr>\n",
       "      <th>2</th>\n",
       "      <td>100008</td>\n",
       "      <td>ACys amyloidosis</td>\n",
       "      <td>CST3</td>\n",
       "      <td>False</td>\n",
       "      <td>True</td>\n",
       "      <td>True</td>\n",
       "    </tr>\n",
       "    <tr>\n",
       "      <th>24</th>\n",
       "      <td>100050</td>\n",
       "      <td>Hereditary angioedema type 1</td>\n",
       "      <td>SERPING1</td>\n",
       "      <td>True</td>\n",
       "      <td>True</td>\n",
       "      <td>True</td>\n",
       "    </tr>\n",
       "    <tr>\n",
       "      <th>27</th>\n",
       "      <td>100069</td>\n",
       "      <td>Semantic dementia</td>\n",
       "      <td>PSEN1</td>\n",
       "      <td>False</td>\n",
       "      <td>True</td>\n",
       "      <td>True</td>\n",
       "    </tr>\n",
       "  </tbody>\n",
       "</table>\n",
       "</div>"
      ],
      "text/plain": [
       "   OrphaNumber                  Disorder_Name Gene_Symbol  \\\n",
       "0          100          Ataxia-telangiectasia         ATM   \n",
       "1       100006  ABeta amyloidosis, Dutch type         APP   \n",
       "2       100008               ACys amyloidosis        CST3   \n",
       "24      100050   Hereditary angioedema type 1    SERPING1   \n",
       "27      100069              Semantic dementia       PSEN1   \n",
       "\n",
       "    DG_Association_In_Orpha_2012_06  DG_Association_In_Orpha_2015_01  \\\n",
       "0                              True                             True   \n",
       "1                             False                             True   \n",
       "2                             False                             True   \n",
       "24                             True                             True   \n",
       "27                            False                             True   \n",
       "\n",
       "    DG_Association_In_Orpha_2016_12  \n",
       "0                              True  \n",
       "1                              True  \n",
       "2                              True  \n",
       "24                             True  \n",
       "27                             True  "
      ]
     },
     "execution_count": 705,
     "metadata": {},
     "output_type": "execute_result"
    }
   ],
   "source": [
    "orphanet_final_disease_genes.head()"
   ]
  },
  {
   "cell_type": "code",
   "execution_count": 706,
   "metadata": {},
   "outputs": [
    {
     "data": {
      "text/html": [
       "<div>\n",
       "<style scoped>\n",
       "    .dataframe tbody tr th:only-of-type {\n",
       "        vertical-align: middle;\n",
       "    }\n",
       "\n",
       "    .dataframe tbody tr th {\n",
       "        vertical-align: top;\n",
       "    }\n",
       "\n",
       "    .dataframe thead th {\n",
       "        text-align: right;\n",
       "    }\n",
       "</style>\n",
       "<table border=\"1\" class=\"dataframe\">\n",
       "  <thead>\n",
       "    <tr style=\"text-align: right;\">\n",
       "      <th></th>\n",
       "      <th>OrphaNumber</th>\n",
       "      <th>Disorder_Name</th>\n",
       "      <th>Gene_Symbol</th>\n",
       "      <th>DG_Association_In_Orpha_2012_06</th>\n",
       "      <th>DG_Association_In_Orpha_2015_01</th>\n",
       "      <th>DG_Association_In_Orpha_2016_12</th>\n",
       "    </tr>\n",
       "  </thead>\n",
       "  <tbody>\n",
       "    <tr>\n",
       "      <th>3945</th>\n",
       "      <td>504476</td>\n",
       "      <td>Cerebellar ataxia with neuropathy and bilatera...</td>\n",
       "      <td>RFC1</td>\n",
       "      <td>False</td>\n",
       "      <td>False</td>\n",
       "      <td>False</td>\n",
       "    </tr>\n",
       "  </tbody>\n",
       "</table>\n",
       "</div>"
      ],
      "text/plain": [
       "     OrphaNumber                                      Disorder_Name  \\\n",
       "3945      504476  Cerebellar ataxia with neuropathy and bilatera...   \n",
       "\n",
       "     Gene_Symbol  DG_Association_In_Orpha_2012_06  \\\n",
       "3945        RFC1                            False   \n",
       "\n",
       "      DG_Association_In_Orpha_2015_01  DG_Association_In_Orpha_2016_12  \n",
       "3945                            False                            False  "
      ]
     },
     "execution_count": 706,
     "metadata": {},
     "output_type": "execute_result"
    }
   ],
   "source": [
    "#TEST CODE\n",
    "orphanet_final_disease_genes.loc[orphanet_final_disease_genes['OrphaNumber'] == '504476']"
   ]
  },
  {
   "cell_type": "code",
   "execution_count": 707,
   "metadata": {},
   "outputs": [
    {
     "data": {
      "text/plain": [
       "array([('100', 'ATM'), ('100006', 'APP'), ('100008', 'CST3'), ...,\n",
       "       ('99961', 'ABCB11'), ('99966', 'SMARCB1'), ('99989', 'KCNJ11')],\n",
       "      dtype=object)"
      ]
     },
     "execution_count": 707,
     "metadata": {},
     "output_type": "execute_result"
    }
   ],
   "source": [
    "orphanet_final_disease_genes.apply(lambda row: (row[\"OrphaNumber\"], row[\"Gene_Symbol\"]), axis=1).values"
   ]
  },
  {
   "cell_type": "code",
   "execution_count": 708,
   "metadata": {},
   "outputs": [
    {
     "data": {
      "image/png": "[encoded data removed]",
      "text/plain": [
       "<Figure size 323.5x320 with 4 Axes>"
      ]
     },
     "metadata": {
      "needs_background": "light"
     },
     "output_type": "display_data"
    }
   ],
   "source": [
    "file_memberships = {\"2019\":set(orphanet_final_disease_genes.apply(lambda row: (row[\"OrphaNumber\"], row[\"Gene_Symbol\"]), axis=1) ),\n",
    "                    \"2016\":set(orphanet_final_disease_genes.query(\"DG_Association_In_Orpha_2016_12\").apply(lambda row: (row[\"OrphaNumber\"], row[\"Gene_Symbol\"]), axis=1) ),\n",
    "                    \"2015\":set(orphanet_final_disease_genes.query(\"DG_Association_In_Orpha_2015_01\").apply(lambda row: (row[\"OrphaNumber\"], row[\"Gene_Symbol\"]), axis=1) ),\n",
    "                    \"2012\":set(orphanet_final_disease_genes.query(\"DG_Association_In_Orpha_2012_06\").apply(lambda row: (row[\"OrphaNumber\"], row[\"Gene_Symbol\"]), axis=1) )\n",
    "                    \n",
    "    }\n",
    "upset_from_contents = from_contents(file_memberships)\n",
    "plot_upset(upset_from_contents, sum_over = False, show_counts = True,\n",
    "          sort_by=\"cardinality\")\n",
    "pyplot.show()"
   ]
  },
  {
   "cell_type": "code",
   "execution_count": 709,
   "metadata": {},
   "outputs": [],
   "source": [
    "d_g_2016_in_2019 = [x for x in d_g_2016_all if x in d_g_2019_all]\n",
    "d_g_2015_in_2019 = [x for x in d_g_2015_all if x in d_g_2019_all]\n",
    "d_g_2012_in_2019 = [x for x in d_g_2012_all if x in d_g_2019_all]"
   ]
  },
  {
   "cell_type": "code",
   "execution_count": 710,
   "metadata": {},
   "outputs": [
    {
     "data": {
      "text/plain": [
       "468"
      ]
     },
     "execution_count": 710,
     "metadata": {},
     "output_type": "execute_result"
    }
   ],
   "source": [
    "d_g_newBtwn15and16 = list(set(d_g_2016_in_2019).difference(set(d_g_2015_in_2019)).difference(set(d_g_2012_in_2019)))\n",
    "len(d_g_newBtwn15and16)"
   ]
  },
  {
   "cell_type": "code",
   "execution_count": 711,
   "metadata": {
    "scrolled": true
   },
   "outputs": [],
   "source": [
    "gene_counts_2019 = orphanet_final_disease_genes.groupby(\"OrphaNumber\").count().Gene_Symbol\n",
    "assert(sum(orphanet_final_disease_metadata.OrphaNumber.values != gene_counts_2019.index) == 0)\n",
    "orphanet_final_disease_metadata['N_Genes'] = gene_counts_2019.values"
   ]
  },
  {
   "cell_type": "markdown",
   "metadata": {},
   "source": [
    "## New Gene, Known Disease"
   ]
  },
  {
   "cell_type": "raw",
   "metadata": {},
   "source": [
    "orpha_pre_2013 = orphanet_final_disease_metadata.query(\"First_Published_pre_2013_04_01\").OrphaNumber.values\n",
    "new_gene_known_disease = orphanet_final_disease_genes.query(\"OrphaNumber in @orpha_pre_2013\").query(\"not DG_Association_In_Orpha_2012_06\")\n",
    "new_gene_known_disease_2016 = new_gene_known_disease.query(\"DG_Association_In_Orpha_2016_12\")\n",
    "new_gene_known_disease_post2016 = new_gene_known_disease.query(\"not DG_Association_In_Orpha_2016_12\")\n",
    "new_gene_known_disease_2016.shape, new_gene_known_disease_post2016.shape"
   ]
  },
  {
   "cell_type": "raw",
   "metadata": {},
   "source": [
    "new_gene_known_disease_2016.head()"
   ]
  },
  {
   "cell_type": "raw",
   "metadata": {},
   "source": [
    "new_gene_known_disease_post2016.head()"
   ]
  },
  {
   "cell_type": "raw",
   "metadata": {},
   "source": [
    "new_gene_known_disease_2015to2016 = orphanet_final_disease_genes.\\\n",
    "    query(\"OrphaNumber in @orpha_pre_2013\").\\\n",
    "    query(\"DG_Association_In_Orpha_2016_12\").\\\n",
    "    query('not DG_Association_In_Orpha_2015_01').\\\n",
    "    query(\"not DG_Association_In_Orpha_2012_06\")\n",
    "new_gene_known_disease_2015to2016.to_csv(ORPHANET_FLAT_PATH / 'orphanet_candidate_new_gene_known_disease_2015_to_2016.tsv', sep=\"\\t\", index = False)"
   ]
  },
  {
   "cell_type": "raw",
   "metadata": {
    "collapsed": true
   },
   "source": [
    "new_gene_known_disease_2016.to_csv(ORPHANET_FLAT_PATH / 'orphanet_candidate_new_gene_known_disease_2013_to_2016.tsv', sep=\"\\t\", index = False)\n",
    "new_gene_known_disease_post2016.to_csv(ORPHANET_FLAT_PATH / 'orphanet_candidate_new_gene_known_disease_post_2016.tsv', sep=\"\\t\", index = False)"
   ]
  },
  {
   "cell_type": "markdown",
   "metadata": {},
   "source": [
    "### Manual Gene annotations"
   ]
  },
  {
   "cell_type": "code",
   "execution_count": 712,
   "metadata": {},
   "outputs": [
    {
     "data": {
      "text/html": [
       "<div>\n",
       "<style scoped>\n",
       "    .dataframe tbody tr th:only-of-type {\n",
       "        vertical-align: middle;\n",
       "    }\n",
       "\n",
       "    .dataframe tbody tr th {\n",
       "        vertical-align: top;\n",
       "    }\n",
       "\n",
       "    .dataframe thead th {\n",
       "        text-align: right;\n",
       "    }\n",
       "</style>\n",
       "<table border=\"1\" class=\"dataframe\">\n",
       "  <thead>\n",
       "    <tr style=\"text-align: right;\">\n",
       "      <th></th>\n",
       "      <th>OrphaNumber</th>\n",
       "      <th>Disorder_Name</th>\n",
       "      <th>Gene_Symbol</th>\n",
       "      <th>Date_First_Paper</th>\n",
       "      <th>Source</th>\n",
       "      <th>Notes</th>\n",
       "      <th>Annotator</th>\n",
       "    </tr>\n",
       "  </thead>\n",
       "  <tbody>\n",
       "    <tr>\n",
       "      <th>3</th>\n",
       "      <td>93110</td>\n",
       "      <td>Posterior urethral valve</td>\n",
       "      <td>BNC2</td>\n",
       "      <td>2019-05-02</td>\n",
       "      <td>https://www.ncbi.nlm.nih.gov/pubmed/31051115</td>\n",
       "      <td>NaN</td>\n",
       "      <td>Michelle</td>\n",
       "    </tr>\n",
       "    <tr>\n",
       "      <th>4</th>\n",
       "      <td>2662</td>\n",
       "      <td>Keipert syndrome</td>\n",
       "      <td>GPC4</td>\n",
       "      <td>2019-04-11</td>\n",
       "      <td>https://www.ncbi.nlm.nih.gov/pubmed/30982611</td>\n",
       "      <td>New Orphanet Number 301026 (Moved as of June 2...</td>\n",
       "      <td>Michelle</td>\n",
       "    </tr>\n",
       "    <tr>\n",
       "      <th>5</th>\n",
       "      <td>2754</td>\n",
       "      <td>Orofaciodigital syndrome type 6</td>\n",
       "      <td>FAM149B1</td>\n",
       "      <td>2019-04-04</td>\n",
       "      <td>https://www.sciencedirect.com/science/article/...</td>\n",
       "      <td>NaN</td>\n",
       "      <td>Emily</td>\n",
       "    </tr>\n",
       "    <tr>\n",
       "      <th>6</th>\n",
       "      <td>29072</td>\n",
       "      <td>Hereditary pheochromocytoma-paraganglioma</td>\n",
       "      <td>DLST</td>\n",
       "      <td>2019-03-28</td>\n",
       "      <td>https://www.ncbi.nlm.nih.gov/pubmed/30929736</td>\n",
       "      <td>NaN</td>\n",
       "      <td>Michelle</td>\n",
       "    </tr>\n",
       "    <tr>\n",
       "      <th>7</th>\n",
       "      <td>178469</td>\n",
       "      <td>Autosomal dominant non-syndromic intellectual ...</td>\n",
       "      <td>BRSK2</td>\n",
       "      <td>2019-03-14</td>\n",
       "      <td>https://www.ncbi.nlm.nih.gov/pubmed/30879638</td>\n",
       "      <td>NaN</td>\n",
       "      <td>Sam</td>\n",
       "    </tr>\n",
       "  </tbody>\n",
       "</table>\n",
       "</div>"
      ],
      "text/plain": [
       "  OrphaNumber                                      Disorder_Name Gene_Symbol  \\\n",
       "3       93110                           Posterior urethral valve        BNC2   \n",
       "4        2662                                   Keipert syndrome        GPC4   \n",
       "5        2754                    Orofaciodigital syndrome type 6    FAM149B1   \n",
       "6       29072          Hereditary pheochromocytoma-paraganglioma        DLST   \n",
       "7      178469  Autosomal dominant non-syndromic intellectual ...       BRSK2   \n",
       "\n",
       "  Date_First_Paper                                             Source  \\\n",
       "3       2019-05-02       https://www.ncbi.nlm.nih.gov/pubmed/31051115   \n",
       "4       2019-04-11       https://www.ncbi.nlm.nih.gov/pubmed/30982611   \n",
       "5       2019-04-04  https://www.sciencedirect.com/science/article/...   \n",
       "6       2019-03-28       https://www.ncbi.nlm.nih.gov/pubmed/30929736   \n",
       "7       2019-03-14       https://www.ncbi.nlm.nih.gov/pubmed/30879638   \n",
       "\n",
       "                                               Notes Annotator  \n",
       "3                                                NaN  Michelle  \n",
       "4  New Orphanet Number 301026 (Moved as of June 2...  Michelle  \n",
       "5                                                NaN     Emily  \n",
       "6                                                NaN  Michelle  \n",
       "7                                                NaN       Sam  "
      ]
     },
     "execution_count": 712,
     "metadata": {},
     "output_type": "execute_result"
    }
   ],
   "source": [
    "new_genes_known_diseases_dates_val_test = pd.read_csv(ORPHANET_PATH / 'manual_annotations' / 'Orphanet_Genes_Annotation-NG_KG_post_2015.tsv', sep=\"\\t\", dtype=str)\n",
    "\n",
    "curated_new_genes_delete = list(map(tuple, new_genes_known_diseases_dates_val_test.query('Date_First_Paper == \"DELETE\"')[['OrphaNumber','Gene_Symbol']].values.tolist()))\n",
    "new_genes_known_diseases_dates_val_test = new_genes_known_diseases_dates_val_test.query('Date_First_Paper != \"DELETE\"')\n",
    "\n",
    "new_genes_known_diseases_dates_val_test['Date_First_Paper'] = pd.to_datetime(new_genes_known_diseases_dates_val_test['Date_First_Paper'], errors = 'coerce')\n",
    "new_genes_known_diseases_dates_val_test.head()"
   ]
  },
  {
   "cell_type": "code",
   "execution_count": 713,
   "metadata": {},
   "outputs": [
    {
     "data": {
      "text/html": [
       "<div>\n",
       "<style scoped>\n",
       "    .dataframe tbody tr th:only-of-type {\n",
       "        vertical-align: middle;\n",
       "    }\n",
       "\n",
       "    .dataframe tbody tr th {\n",
       "        vertical-align: top;\n",
       "    }\n",
       "\n",
       "    .dataframe thead th {\n",
       "        text-align: right;\n",
       "    }\n",
       "</style>\n",
       "<table border=\"1\" class=\"dataframe\">\n",
       "  <thead>\n",
       "    <tr style=\"text-align: right;\">\n",
       "      <th></th>\n",
       "      <th>OrphaNumber</th>\n",
       "      <th>Disorder_Name</th>\n",
       "      <th>Gene_Symbol</th>\n",
       "      <th>Date_First_Paper</th>\n",
       "      <th>Source</th>\n",
       "      <th>Notes</th>\n",
       "      <th>Annotator</th>\n",
       "    </tr>\n",
       "  </thead>\n",
       "  <tbody>\n",
       "  </tbody>\n",
       "</table>\n",
       "</div>"
      ],
      "text/plain": [
       "Empty DataFrame\n",
       "Columns: [OrphaNumber, Disorder_Name, Gene_Symbol, Date_First_Paper, Source, Notes, Annotator]\n",
       "Index: []"
      ]
     },
     "execution_count": 713,
     "metadata": {},
     "output_type": "execute_result"
    }
   ],
   "source": [
    "# TEST CODE\n",
    "new_genes_known_diseases_dates_val_test.loc[new_genes_known_diseases_dates_val_test['OrphaNumber'] == '504476']"
   ]
  },
  {
   "cell_type": "code",
   "execution_count": 714,
   "metadata": {},
   "outputs": [
    {
     "data": {
      "text/plain": [
       "post_2015_03_01    431\n",
       "pre_2015_03_01     274\n",
       "Name: Manual_Annotation_Date_Range, dtype: int64"
      ]
     },
     "execution_count": 714,
     "metadata": {},
     "output_type": "execute_result"
    }
   ],
   "source": [
    "# curated_new_genes = list(map(tuple, new_genes_known_diseases_dates_val_test.query(\"Date_First_Paper >= '3/1/2015'\")[['OrphaNumber','Gene_Symbol']].values.tolist()))\n",
    "# curated_old_genes = list(map(tuple, new_genes_known_diseases_dates_val_test.query(\"Date_First_Paper < '3/1/2015'\")[['OrphaNumber','Gene_Symbol']].values.tolist()))\n",
    "# Emily added to change cut-off to 1/2015 \n",
    "curated_new_genes = list(map(tuple, new_genes_known_diseases_dates_val_test.query(\"Date_First_Paper >= '1/1/2015'\")[['OrphaNumber','Gene_Symbol']].values.tolist()))\n",
    "curated_old_genes = list(map(tuple, new_genes_known_diseases_dates_val_test.query(\"Date_First_Paper < '1/1/2015'\")[['OrphaNumber','Gene_Symbol']].values.tolist()))\n",
    "\n",
    "\n",
    "final_dis_gene_edges = list(map(tuple, orphanet_final_disease_genes[['OrphaNumber','Gene_Symbol']].values.tolist()))\n",
    "\n",
    "def computeDateRange(tup):\n",
    "    if tup in curated_new_genes:\n",
    "        return \"post_2015_03_01\"\n",
    "    elif tup in curated_old_genes:\n",
    "        return \"pre_2015_03_01\"\n",
    "    elif tup in curated_new_genes_delete:\n",
    "        return \"DELETE\"\n",
    "    else:\n",
    "        return None\n",
    "    \n",
    "curated_date_ranges = [computeDateRange(tup) for tup in final_dis_gene_edges]\n",
    "\n",
    "orphanet_final_disease_genes[\"Manual_Annotation_Date_Range\"] = curated_date_ranges\n",
    "orphanet_final_disease_genes = orphanet_final_disease_genes.query(\"Manual_Annotation_Date_Range != 'DELETE'\")\n",
    "orphanet_final_disease_genes.Manual_Annotation_Date_Range.value_counts()"
   ]
  },
  {
   "cell_type": "code",
   "execution_count": 715,
   "metadata": {},
   "outputs": [
    {
     "data": {
      "text/html": [
       "<div>\n",
       "<style scoped>\n",
       "    .dataframe tbody tr th:only-of-type {\n",
       "        vertical-align: middle;\n",
       "    }\n",
       "\n",
       "    .dataframe tbody tr th {\n",
       "        vertical-align: top;\n",
       "    }\n",
       "\n",
       "    .dataframe thead th {\n",
       "        text-align: right;\n",
       "    }\n",
       "</style>\n",
       "<table border=\"1\" class=\"dataframe\">\n",
       "  <thead>\n",
       "    <tr style=\"text-align: right;\">\n",
       "      <th></th>\n",
       "      <th>OrphaNumber</th>\n",
       "      <th>Disorder_Name</th>\n",
       "      <th>Gene_Symbol</th>\n",
       "      <th>DG_Association_In_Orpha_2012_06</th>\n",
       "      <th>DG_Association_In_Orpha_2015_01</th>\n",
       "      <th>DG_Association_In_Orpha_2016_12</th>\n",
       "      <th>Manual_Annotation_Date_Range</th>\n",
       "    </tr>\n",
       "  </thead>\n",
       "  <tbody>\n",
       "    <tr>\n",
       "      <th>3945</th>\n",
       "      <td>504476</td>\n",
       "      <td>Cerebellar ataxia with neuropathy and bilatera...</td>\n",
       "      <td>RFC1</td>\n",
       "      <td>False</td>\n",
       "      <td>False</td>\n",
       "      <td>False</td>\n",
       "      <td>None</td>\n",
       "    </tr>\n",
       "  </tbody>\n",
       "</table>\n",
       "</div>"
      ],
      "text/plain": [
       "     OrphaNumber                                      Disorder_Name  \\\n",
       "3945      504476  Cerebellar ataxia with neuropathy and bilatera...   \n",
       "\n",
       "     Gene_Symbol  DG_Association_In_Orpha_2012_06  \\\n",
       "3945        RFC1                            False   \n",
       "\n",
       "      DG_Association_In_Orpha_2015_01  DG_Association_In_Orpha_2016_12  \\\n",
       "3945                            False                            False   \n",
       "\n",
       "     Manual_Annotation_Date_Range  \n",
       "3945                         None  "
      ]
     },
     "execution_count": 715,
     "metadata": {},
     "output_type": "execute_result"
    }
   ],
   "source": [
    "#TEST CODE\n",
    "orphanet_final_disease_genes.loc[orphanet_final_disease_genes['OrphaNumber'] == '504476']"
   ]
  },
  {
   "cell_type": "raw",
   "metadata": {},
   "source": [
    "new_genes_known_diseases_dates_val_test = pd.read_csv(ORPHANET_PATH / 'manual_annotations' / 'Orphanet_New_Genes_Annotations.tsv', sep=\"\\t\", dtype=str)\n",
    "\n",
    "curated_new_genes_test = list(map(tuple, new_genes_known_diseases_dates_val_test.query('SPLIT == \"TEST\"')[['OrphaNumber','Gene_Symbol']].values.tolist()))\n",
    "curated_new_genes_val = list(map(tuple, new_genes_known_diseases_dates_val_test.query('SPLIT == \"VAL\"')[['OrphaNumber','Gene_Symbol']].values.tolist()))\n",
    "curated_new_genes_train = list(map(tuple, new_genes_known_diseases_dates_val_test.query('SPLIT == \"TRAIN\"')[['OrphaNumber','Gene_Symbol']].values.tolist()))\n",
    "curated_new_genes_delete = list(map(tuple, new_genes_known_diseases_dates_val_test.query('SPLIT == \"DELETE\"')[['OrphaNumber','Gene_Symbol']].values.tolist()))\n",
    "\n",
    "final_dis_gene_edges = list(map(tuple, orphanet_final_disease_genes[['OrphaNumber','Gene_Symbol']].values.tolist()))\n",
    "\n",
    "def computeDateRange(tup):\n",
    "    if tup in curated_new_genes_test:\n",
    "        return \"post_2016_12\"\n",
    "    elif tup in curated_new_genes_val:\n",
    "        return \"2012_06-2016_12\"\n",
    "    elif tup in curated_new_genes_train:\n",
    "        return \"pre_2012_06\"\n",
    "    elif tup in curated_new_genes_delete:\n",
    "        return \"DELETE\"\n",
    "    else:\n",
    "        return None\n",
    "    \n",
    "curated_date_ranges = [computeDateRange(tup) for tup in final_dis_gene_edges]\n",
    "\n",
    "orphanet_final_disease_genes[\"Manual_Annotation_Date_Range\"] = curated_date_ranges\n",
    "orphanet_final_disease_genes = orphanet_final_disease_genes.query(\"Manual_Annotation_Date_Range != 'DELETE'\")\n",
    "orphanet_final_disease_genes.Manual_Annotation_Date_Range.value_counts()"
   ]
  },
  {
   "cell_type": "code",
   "execution_count": 716,
   "metadata": {},
   "outputs": [
    {
     "data": {
      "text/html": [
       "<div>\n",
       "<style scoped>\n",
       "    .dataframe tbody tr th:only-of-type {\n",
       "        vertical-align: middle;\n",
       "    }\n",
       "\n",
       "    .dataframe tbody tr th {\n",
       "        vertical-align: top;\n",
       "    }\n",
       "\n",
       "    .dataframe thead th {\n",
       "        text-align: right;\n",
       "    }\n",
       "</style>\n",
       "<table border=\"1\" class=\"dataframe\">\n",
       "  <thead>\n",
       "    <tr style=\"text-align: right;\">\n",
       "      <th></th>\n",
       "      <th>OrphaNumber</th>\n",
       "      <th>Disorder_Name</th>\n",
       "      <th>Gene_Symbol</th>\n",
       "      <th>DG_Association_In_Orpha_2012_06</th>\n",
       "      <th>DG_Association_In_Orpha_2015_01</th>\n",
       "      <th>DG_Association_In_Orpha_2016_12</th>\n",
       "      <th>Manual_Annotation_Date_Range</th>\n",
       "    </tr>\n",
       "  </thead>\n",
       "  <tbody>\n",
       "    <tr>\n",
       "      <th>31</th>\n",
       "      <td>100973</td>\n",
       "      <td>FRAXE intellectual disability</td>\n",
       "      <td>FMR3</td>\n",
       "      <td>False</td>\n",
       "      <td>False</td>\n",
       "      <td>True</td>\n",
       "      <td>pre_2015_03_01</td>\n",
       "    </tr>\n",
       "    <tr>\n",
       "      <th>38</th>\n",
       "      <td>100989</td>\n",
       "      <td>Autosomal dominant spastic paraplegia type 8</td>\n",
       "      <td>WASHC5</td>\n",
       "      <td>False</td>\n",
       "      <td>False</td>\n",
       "      <td>True</td>\n",
       "      <td>pre_2015_03_01</td>\n",
       "    </tr>\n",
       "    <tr>\n",
       "      <th>48</th>\n",
       "      <td>1010</td>\n",
       "      <td>Autosomal dominant palmoplantar keratoderma an...</td>\n",
       "      <td>GJA1</td>\n",
       "      <td>False</td>\n",
       "      <td>False</td>\n",
       "      <td>True</td>\n",
       "      <td>pre_2015_03_01</td>\n",
       "    </tr>\n",
       "    <tr>\n",
       "      <th>61</th>\n",
       "      <td>101016</td>\n",
       "      <td>Romano-Ward syndrome</td>\n",
       "      <td>TRDN</td>\n",
       "      <td>False</td>\n",
       "      <td>False</td>\n",
       "      <td>False</td>\n",
       "      <td>post_2015_03_01</td>\n",
       "    </tr>\n",
       "    <tr>\n",
       "      <th>73</th>\n",
       "      <td>101016</td>\n",
       "      <td>Romano-Ward syndrome</td>\n",
       "      <td>CALM1</td>\n",
       "      <td>False</td>\n",
       "      <td>False</td>\n",
       "      <td>True</td>\n",
       "      <td>pre_2015_03_01</td>\n",
       "    </tr>\n",
       "  </tbody>\n",
       "</table>\n",
       "</div>"
      ],
      "text/plain": [
       "   OrphaNumber                                      Disorder_Name Gene_Symbol  \\\n",
       "31      100973                      FRAXE intellectual disability        FMR3   \n",
       "38      100989       Autosomal dominant spastic paraplegia type 8      WASHC5   \n",
       "48        1010  Autosomal dominant palmoplantar keratoderma an...        GJA1   \n",
       "61      101016                               Romano-Ward syndrome        TRDN   \n",
       "73      101016                               Romano-Ward syndrome       CALM1   \n",
       "\n",
       "    DG_Association_In_Orpha_2012_06  DG_Association_In_Orpha_2015_01  \\\n",
       "31                            False                            False   \n",
       "38                            False                            False   \n",
       "48                            False                            False   \n",
       "61                            False                            False   \n",
       "73                            False                            False   \n",
       "\n",
       "    DG_Association_In_Orpha_2016_12 Manual_Annotation_Date_Range  \n",
       "31                             True               pre_2015_03_01  \n",
       "38                             True               pre_2015_03_01  \n",
       "48                             True               pre_2015_03_01  \n",
       "61                            False              post_2015_03_01  \n",
       "73                             True               pre_2015_03_01  "
      ]
     },
     "execution_count": 716,
     "metadata": {},
     "output_type": "execute_result"
    }
   ],
   "source": [
    "orphanet_final_disease_genes.loc[(orphanet_final_disease_genes.Manual_Annotation_Date_Range.values != None)].head()"
   ]
  },
  {
   "cell_type": "markdown",
   "metadata": {},
   "source": [
    "# Create Gene Meta-Data File"
   ]
  },
  {
   "cell_type": "code",
   "execution_count": 717,
   "metadata": {
    "scrolled": true
   },
   "outputs": [],
   "source": [
    "#orphanet_final_gene_metadata['Gene_In_Any_Orpha_Disease_2012_06'] = [gene in gene_df_2012.Gene_Symbol.values for gene in orphanet_final_gene_metadata.Gene_Symbol.values]\n",
    "#orphanet_final_gene_metadata['Gene_In_Any_Orpha_Disease_2016_12'] = [gene in gene_df_2016.Gene_Symbol.values for gene in orphanet_final_gene_metadata.Gene_Symbol.values]\n",
    "orphanet_final_gene_metadata['Gene_In_Any_Orpha_Disease_2015_03'] = [(gene in gene_df_2015.Gene_Symbol.values) or (gene in gene_df_2012.Gene_Symbol.values) for gene in orphanet_final_gene_metadata.Gene_Symbol.values]"
   ]
  },
  {
   "cell_type": "markdown",
   "metadata": {},
   "source": [
    "# Save"
   ]
  },
  {
   "cell_type": "code",
   "execution_count": 608,
   "metadata": {},
   "outputs": [],
   "source": [
    "#Emily added to change date from 3/2015 to 1/2015 to be consistent with D-G\n",
    "orphanet_final_disease_metadata = orphanet_final_disease_metadata.rename(columns={'First_Published_post_2015_03_01':'First_Published_post_2015_01'})\n",
    "\n"
   ]
  },
  {
   "cell_type": "raw",
   "metadata": {},
   "source": [
    "orphanet_final_disease_metadata.to_csv(ORPHANET_FLAT_PATH / 'orphanet_final_disease_metadata_2015_bugfix.tsv', sep=\"\\t\", index = False)\n",
    "orphanet_final_disease_metadata.head()"
   ]
  },
  {
   "cell_type": "raw",
   "metadata": {},
   "source": [
    "orphanet_final_gene_metadata.to_csv(ORPHANET_FLAT_PATH / 'orphanet_final_gene_metadata_2015.tsv', sep=\"\\t\", index = False)\n",
    "orphanet_final_gene_metadata.head()"
   ]
  },
  {
   "cell_type": "code",
   "execution_count": 718,
   "metadata": {},
   "outputs": [
    {
     "name": "stdout",
     "output_type": "stream",
     "text": [
      "Manual_Annotation_Date_Range\n",
      "post_2015_03_01    431\n",
      "pre_2015_03_01     274\n",
      "Name: OrphaNumber, dtype: int64\n",
      "DG_Association_In_Orpha_2015_01\n",
      "False    1027\n",
      "True     3078\n",
      "Name: OrphaNumber, dtype: int64\n",
      "[False]\n",
      "[False]\n"
     ]
    }
   ],
   "source": [
    "# All of the manually annotated pre_2015_03_01 originally had DG_Association_In_Orpha_2015_01=False. We need to override this. \n",
    "print(orphanet_final_disease_genes.groupby(['Manual_Annotation_Date_Range']).count()['OrphaNumber'])\n",
    "print(orphanet_final_disease_genes.groupby(['DG_Association_In_Orpha_2015_01']).count()['OrphaNumber'])\n",
    "\n",
    "print(orphanet_final_disease_genes.loc[orphanet_final_disease_genes['Manual_Annotation_Date_Range'] == 'post_2015_03_01', 'DG_Association_In_Orpha_2015_01'].unique())\n",
    "print(orphanet_final_disease_genes.loc[orphanet_final_disease_genes['Manual_Annotation_Date_Range'] == 'pre_2015_03_01', 'DG_Association_In_Orpha_2015_01'].unique())"
   ]
  },
  {
   "cell_type": "code",
   "execution_count": 719,
   "metadata": {},
   "outputs": [],
   "source": [
    "# create column DG_Assoc_First_Published_Post_2015_01\n",
    "# which is a function of both the DG_Association_In_Orpha_2015_01 & Manual Annotation columns\n",
    "\n",
    "orphanet_final_disease_genes['DG_Assoc_First_Published_Post_2015_01'] = ~orphanet_final_disease_genes['DG_Association_In_Orpha_2015_01']\n",
    "\n",
    "\n",
    "orphanet_final_disease_genes.loc[orphanet_final_disease_genes['Manual_Annotation_Date_Range'] == 'post_2015_03_01', 'DG_Assoc_First_Published_Post_2015_01'] = True \n",
    "orphanet_final_disease_genes.loc[orphanet_final_disease_genes['Manual_Annotation_Date_Range'] == 'pre_2015_03_01', 'DG_Assoc_First_Published_Post_2015_01'] = False \n"
   ]
  },
  {
   "cell_type": "code",
   "execution_count": 720,
   "metadata": {},
   "outputs": [
    {
     "data": {
      "text/html": [
       "<div>\n",
       "<style scoped>\n",
       "    .dataframe tbody tr th:only-of-type {\n",
       "        vertical-align: middle;\n",
       "    }\n",
       "\n",
       "    .dataframe tbody tr th {\n",
       "        vertical-align: top;\n",
       "    }\n",
       "\n",
       "    .dataframe thead th {\n",
       "        text-align: right;\n",
       "    }\n",
       "</style>\n",
       "<table border=\"1\" class=\"dataframe\">\n",
       "  <thead>\n",
       "    <tr style=\"text-align: right;\">\n",
       "      <th></th>\n",
       "      <th>OrphaNumber</th>\n",
       "      <th>Disorder_Name</th>\n",
       "      <th>Gene_Symbol</th>\n",
       "      <th>DG_Association_In_Orpha_2012_06</th>\n",
       "      <th>DG_Association_In_Orpha_2015_01</th>\n",
       "      <th>DG_Association_In_Orpha_2016_12</th>\n",
       "      <th>Manual_Annotation_Date_Range</th>\n",
       "      <th>DG_Assoc_First_Published_Post_2015_01</th>\n",
       "    </tr>\n",
       "  </thead>\n",
       "  <tbody>\n",
       "    <tr>\n",
       "      <th>6068</th>\n",
       "      <td>99852</td>\n",
       "      <td>Ravine syndrome</td>\n",
       "      <td>SLC7A2-IT1</td>\n",
       "      <td>False</td>\n",
       "      <td>False</td>\n",
       "      <td>True</td>\n",
       "      <td>pre_2015_03_01</td>\n",
       "      <td>False</td>\n",
       "    </tr>\n",
       "  </tbody>\n",
       "</table>\n",
       "</div>"
      ],
      "text/plain": [
       "     OrphaNumber    Disorder_Name Gene_Symbol  \\\n",
       "6068       99852  Ravine syndrome  SLC7A2-IT1   \n",
       "\n",
       "      DG_Association_In_Orpha_2012_06  DG_Association_In_Orpha_2015_01  \\\n",
       "6068                            False                            False   \n",
       "\n",
       "      DG_Association_In_Orpha_2016_12 Manual_Annotation_Date_Range  \\\n",
       "6068                             True               pre_2015_03_01   \n",
       "\n",
       "      DG_Assoc_First_Published_Post_2015_01  \n",
       "6068                                  False  "
      ]
     },
     "execution_count": 720,
     "metadata": {},
     "output_type": "execute_result"
    }
   ],
   "source": [
    "orphanet_final_disease_genes.loc [orphanet_final_disease_genes['OrphaNumber'] == '99852']"
   ]
  },
  {
   "cell_type": "code",
   "execution_count": 721,
   "metadata": {},
   "outputs": [
    {
     "data": {
      "text/html": [
       "<div>\n",
       "<style scoped>\n",
       "    .dataframe tbody tr th:only-of-type {\n",
       "        vertical-align: middle;\n",
       "    }\n",
       "\n",
       "    .dataframe tbody tr th {\n",
       "        vertical-align: top;\n",
       "    }\n",
       "\n",
       "    .dataframe thead th {\n",
       "        text-align: right;\n",
       "    }\n",
       "</style>\n",
       "<table border=\"1\" class=\"dataframe\">\n",
       "  <thead>\n",
       "    <tr style=\"text-align: right;\">\n",
       "      <th></th>\n",
       "      <th>OrphaNumber</th>\n",
       "      <th>Disorder_Name</th>\n",
       "      <th>Gene_Symbol</th>\n",
       "      <th>DG_Assoc_First_Published_Post_2015_01</th>\n",
       "    </tr>\n",
       "  </thead>\n",
       "  <tbody>\n",
       "    <tr>\n",
       "      <th>0</th>\n",
       "      <td>100</td>\n",
       "      <td>Ataxia-telangiectasia</td>\n",
       "      <td>ATM</td>\n",
       "      <td>False</td>\n",
       "    </tr>\n",
       "    <tr>\n",
       "      <th>1</th>\n",
       "      <td>100006</td>\n",
       "      <td>ABeta amyloidosis, Dutch type</td>\n",
       "      <td>APP</td>\n",
       "      <td>False</td>\n",
       "    </tr>\n",
       "    <tr>\n",
       "      <th>2</th>\n",
       "      <td>100008</td>\n",
       "      <td>ACys amyloidosis</td>\n",
       "      <td>CST3</td>\n",
       "      <td>False</td>\n",
       "    </tr>\n",
       "    <tr>\n",
       "      <th>24</th>\n",
       "      <td>100050</td>\n",
       "      <td>Hereditary angioedema type 1</td>\n",
       "      <td>SERPING1</td>\n",
       "      <td>False</td>\n",
       "    </tr>\n",
       "    <tr>\n",
       "      <th>27</th>\n",
       "      <td>100069</td>\n",
       "      <td>Semantic dementia</td>\n",
       "      <td>PSEN1</td>\n",
       "      <td>False</td>\n",
       "    </tr>\n",
       "  </tbody>\n",
       "</table>\n",
       "</div>"
      ],
      "text/plain": [
       "   OrphaNumber                  Disorder_Name Gene_Symbol  \\\n",
       "0          100          Ataxia-telangiectasia         ATM   \n",
       "1       100006  ABeta amyloidosis, Dutch type         APP   \n",
       "2       100008               ACys amyloidosis        CST3   \n",
       "24      100050   Hereditary angioedema type 1    SERPING1   \n",
       "27      100069              Semantic dementia       PSEN1   \n",
       "\n",
       "    DG_Assoc_First_Published_Post_2015_01  \n",
       "0                                   False  \n",
       "1                                   False  \n",
       "2                                   False  \n",
       "24                                  False  \n",
       "27                                  False  "
      ]
     },
     "execution_count": 721,
     "metadata": {},
     "output_type": "execute_result"
    }
   ],
   "source": [
    "# orphanet_final_disease_genes['DG_Assoc_First_Published_Post_2015_03_01'] = orphanet_final_disease_genes['Manual_Annotation_Date_Range'] == 'post_2015_03_01'\n",
    "orphanet_final_disease_genes.drop(columns=[\"DG_Association_In_Orpha_2012_06\",\"DG_Association_In_Orpha_2015_01\", \"DG_Association_In_Orpha_2016_12\", 'Manual_Annotation_Date_Range'], inplace=True)\n",
    "orphanet_final_disease_genes.to_csv(ORPHANET_FLAT_PATH / 'orphanet_final_disease_genes_2015_bugfix.tsv', sep=\"\\t\", index = False)\n",
    "orphanet_final_disease_genes.head()"
   ]
  },
  {
   "cell_type": "raw",
   "metadata": {},
   "source": [
    "orphanet_final_disease_hpo.to_csv(ORPHANET_FLAT_PATH / 'orphanet_final_disease_hpo_2015.tsv', sep=\"\\t\", index = False)\n"
   ]
  }
 ],
 "metadata": {
  "kernelspec": {
   "display_name": "udn",
   "language": "python",
   "name": "udn"
  },
  "language_info": {
   "codemirror_mode": {
    "name": "ipython",
    "version": 3
   },
   "file_extension": ".py",
   "mimetype": "text/x-python",
   "name": "python",
   "nbconvert_exporter": "python",
   "pygments_lexer": "ipython3",
   "version": "3.7.7"
  }
 },
 "nbformat": 4,
 "nbformat_minor": 2
}