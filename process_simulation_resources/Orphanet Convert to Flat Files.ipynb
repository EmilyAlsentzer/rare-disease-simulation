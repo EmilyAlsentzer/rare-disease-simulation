{
 "cells": [
  {
   "cell_type": "markdown",
   "metadata": {},
   "source": [
    "# Introduction\n",
    "\n",
    "This notebook contains code used to generate the timestamped OrphaNet dataset used in our analysis. It leverages XML files downloaded from [OrphaData](http://www.orphadata.org/cgi-bin/index.php), which provides aggregated data from the OrphaNet program and is updated monthly. All the files produced as output from this notebook -- as well as those used as input to it -- can be found in the `orphanet` subfolder of our data repository on the Harvard Dataverse (updated link to be found in the GitHub Readme)."
   ]
  },
  {
   "cell_type": "code",
   "execution_count": 2,
   "metadata": {
    "ExecuteTime": {
     "end_time": "2021-02-01T18:50:33.825324Z",
     "start_time": "2021-02-01T18:50:33.497119Z"
    }
   },
   "outputs": [
    {
     "ename": "ModuleNotFoundError",
     "evalue": "No module named 'upsetplot'",
     "output_type": "error",
     "traceback": [
      "\u001b[0;31m---------------------------------------------------------------------------\u001b[0m",
      "\u001b[0;31mModuleNotFoundError\u001b[0m                       Traceback (most recent call last)",
      "\u001b[0;32m<ipython-input-2-f266f4274faf>\u001b[0m in \u001b[0;36m<module>\u001b[0;34m\u001b[0m\n\u001b[1;32m      5\u001b[0m \u001b[0;32mimport\u001b[0m \u001b[0mxml\u001b[0m\u001b[0;34m.\u001b[0m\u001b[0metree\u001b[0m\u001b[0;34m.\u001b[0m\u001b[0mElementTree\u001b[0m \u001b[0;32mas\u001b[0m \u001b[0mET\u001b[0m\u001b[0;34m\u001b[0m\u001b[0;34m\u001b[0m\u001b[0m\n\u001b[1;32m      6\u001b[0m \u001b[0;32mfrom\u001b[0m \u001b[0mmatplotlib\u001b[0m \u001b[0;32mimport\u001b[0m \u001b[0mpyplot\u001b[0m\u001b[0;34m\u001b[0m\u001b[0;34m\u001b[0m\u001b[0m\n\u001b[0;32m----> 7\u001b[0;31m \u001b[0;32mfrom\u001b[0m \u001b[0mupsetplot\u001b[0m \u001b[0;32mimport\u001b[0m \u001b[0mfrom_contents\u001b[0m\u001b[0;34m,\u001b[0m \u001b[0mfrom_memberships\u001b[0m\u001b[0;34m\u001b[0m\u001b[0;34m\u001b[0m\u001b[0m\n\u001b[0m\u001b[1;32m      8\u001b[0m \u001b[0;32mfrom\u001b[0m \u001b[0mupsetplot\u001b[0m \u001b[0;32mimport\u001b[0m \u001b[0mplot\u001b[0m \u001b[0;32mas\u001b[0m \u001b[0mplot_upset\u001b[0m\u001b[0;34m\u001b[0m\u001b[0;34m\u001b[0m\u001b[0m\n\u001b[1;32m      9\u001b[0m \u001b[0msys\u001b[0m\u001b[0;34m.\u001b[0m\u001b[0mpath\u001b[0m\u001b[0;34m.\u001b[0m\u001b[0minsert\u001b[0m\u001b[0;34m(\u001b[0m\u001b[0;36m0\u001b[0m\u001b[0;34m,\u001b[0m \u001b[0;34m'../'\u001b[0m\u001b[0;34m)\u001b[0m \u001b[0;31m# add config to path\u001b[0m\u001b[0;34m\u001b[0m\u001b[0;34m\u001b[0m\u001b[0m\n",
      "\u001b[0;31mModuleNotFoundError\u001b[0m: No module named 'upsetplot'"
     ]
    }
   ],
   "source": [
    "from pathlib import Path\n",
    "import pandas as pd\n",
    "import sys\n",
    "from collections import OrderedDict\n",
    "import xml.etree.ElementTree as ET\n",
    "from matplotlib import pyplot\n",
    "from upsetplot import from_contents, from_memberships\n",
    "from upsetplot import plot as plot_upset\n",
    "sys.path.insert(0, '../') # add config to path\n",
    "import config\n",
    "\n",
    "ORPHANET_FLAT_PATH = config.ORPHANET_PATH / 'intermediate_files'\n",
    "ORPHANET_RAW_PATH = config.ORPHANET_PATH / 'raw_files_2019_10'"
   ]
  },
  {
   "cell_type": "markdown",
   "metadata": {},
   "source": [
    "# Process OrphaData XML files\n",
    "\n",
    "This section of the notebook reads the XML files downloaded from Orphadata into Pandas. Note that because the OrphaData XML format has changed slightly over time, this code may need to be adjusted to work on newer versions of these files."
   ]
  },
  {
   "cell_type": "markdown",
   "metadata": {},
   "source": [
    "## Read in phenotypes file\n",
    "\n"
   ]
  },
  {
   "cell_type": "code",
   "execution_count": 1,
   "metadata": {
    "scrolled": true
   },
   "outputs": [
    {
     "ename": "NameError",
     "evalue": "name 'ET' is not defined",
     "output_type": "error",
     "traceback": [
      "\u001b[0;31m---------------------------------------------------------------------------\u001b[0m",
      "\u001b[0;31mNameError\u001b[0m                                 Traceback (most recent call last)",
      "\u001b[0;32m<ipython-input-1-60ec06a79460>\u001b[0m in \u001b[0;36m<module>\u001b[0;34m\u001b[0m\n\u001b[0;32m----> 1\u001b[0;31m \u001b[0mtree\u001b[0m \u001b[0;34m=\u001b[0m \u001b[0mET\u001b[0m\u001b[0;34m.\u001b[0m\u001b[0mparse\u001b[0m\u001b[0;34m(\u001b[0m\u001b[0mstr\u001b[0m\u001b[0;34m(\u001b[0m\u001b[0mORPHANET_RAW_PATH\u001b[0m \u001b[0;34m/\u001b[0m \u001b[0;34m'phenotypes_rare_disorders_en_product4_HPO.xml'\u001b[0m\u001b[0;34m)\u001b[0m\u001b[0;34m)\u001b[0m\u001b[0;34m\u001b[0m\u001b[0;34m\u001b[0m\u001b[0m\n\u001b[0m\u001b[1;32m      2\u001b[0m \u001b[0mroot\u001b[0m \u001b[0;34m=\u001b[0m \u001b[0mtree\u001b[0m\u001b[0;34m.\u001b[0m\u001b[0mgetroot\u001b[0m\u001b[0;34m(\u001b[0m\u001b[0;34m)\u001b[0m\u001b[0;34m\u001b[0m\u001b[0;34m\u001b[0m\u001b[0m\n\u001b[1;32m      3\u001b[0m \u001b[0mdisorderlist_phenos\u001b[0m \u001b[0;34m=\u001b[0m \u001b[0mroot\u001b[0m\u001b[0;34m[\u001b[0m\u001b[0;36m1\u001b[0m\u001b[0;34m]\u001b[0m\u001b[0;34m\u001b[0m\u001b[0;34m\u001b[0m\u001b[0m\n\u001b[1;32m      4\u001b[0m \u001b[0;34m\u001b[0m\u001b[0m\n\u001b[1;32m      5\u001b[0m \u001b[0mhpo_list\u001b[0m \u001b[0;34m=\u001b[0m \u001b[0;34m[\u001b[0m\u001b[0;34m]\u001b[0m\u001b[0;34m\u001b[0m\u001b[0;34m\u001b[0m\u001b[0m\n",
      "\u001b[0;31mNameError\u001b[0m: name 'ET' is not defined"
     ]
    }
   ],
   "source": [
    "tree = ET.parse(str(ORPHANET_RAW_PATH / 'phenotypes_rare_disorders_en_product4_HPO.xml'))\n",
    "root = tree.getroot()\n",
    "disorderlist_phenos = root[1]\n",
    "\n",
    "hpo_list = []\n",
    "for disorder in disorderlist_phenos:\n",
    "    disorder_orphan = disorder.find(\"OrphaNumber\").text\n",
    "    disorder_name = disorder.find(\"Name\").text\n",
    "    for child in disorder.find(\"HPODisorderAssociationList\"):\n",
    "        child_hpo = child.find(\"HPO\")\n",
    "        hpo_id = child_hpo.find(\"HPOId\").text\n",
    "        hpo_string = child_hpo.find(\"HPOTerm\").text\n",
    "        hpo_freq = child.find(\"HPOFrequency\").find(\"Name\").text\n",
    "        hpo_list.append(OrderedDict([\n",
    "            (\"OrphaNumber\", disorder_orphan),\n",
    "            (\"Disorder_Name\", disorder_name),\n",
    "            (\"HPO_ID\", hpo_id),\n",
    "            (\"HPO_String\", hpo_string),\n",
    "            (\"HPO_Freq\", hpo_freq)]))\n",
    "disease_hpo_df = pd.DataFrame(hpo_list)\n",
    "disease_hpo_df.head(10)"
   ]
  },
  {
   "cell_type": "markdown",
   "metadata": {},
   "source": [
    "Disease counts and simple histogram of phenotype frequencies, for reference:"
   ]
  },
  {
   "cell_type": "code",
   "execution_count": 3,
   "metadata": {},
   "outputs": [
    {
     "name": "stdout",
     "output_type": "stream",
     "text": [
      "Unique diseases w/ HPOS:  3702\n"
     ]
    }
   ],
   "source": [
    "print(\"Unique diseases w/ HPOS: \", len(set(disease_hpo_df.OrphaNumber)))"
   ]
  },
  {
   "cell_type": "code",
   "execution_count": 4,
   "metadata": {},
   "outputs": [
    {
     "data": {
      "text/plain": [
       "Frequent (79-30%)         28349\n",
       "Occasional (29-5%)        25978\n",
       "Very frequent (99-80%)    25653\n",
       "Very rare (<4-1%)          2600\n",
       "Obligate (100%)             538\n",
       "Excluded (0%)               447\n",
       "Name: HPO_Freq, dtype: int64"
      ]
     },
     "execution_count": 4,
     "metadata": {},
     "output_type": "execute_result"
    }
   ],
   "source": [
    "disease_hpo_df.HPO_Freq.value_counts()"
   ]
  },
  {
   "cell_type": "raw",
   "metadata": {
    "collapsed": true
   },
   "source": [
    "disease_hpo_df.to_csv(ORPHANET_FLAT_PATH / 'orphanet_disease_hpo.tsv', sep=\"\\t\", index = False)"
   ]
  },
  {
   "cell_type": "markdown",
   "metadata": {},
   "source": [
    "## Read in Genes file \n"
   ]
  },
  {
   "cell_type": "code",
   "execution_count": 5,
   "metadata": {},
   "outputs": [
    {
     "name": "stdout",
     "output_type": "stream",
     "text": [
      "(7552, 7)\n"
     ]
    },
    {
     "data": {
      "text/html": [
       "<div>\n",
       "<style scoped>\n",
       "    .dataframe tbody tr th:only-of-type {\n",
       "        vertical-align: middle;\n",
       "    }\n",
       "\n",
       "    .dataframe tbody tr th {\n",
       "        vertical-align: top;\n",
       "    }\n",
       "\n",
       "    .dataframe thead th {\n",
       "        text-align: right;\n",
       "    }\n",
       "</style>\n",
       "<table border=\"1\" class=\"dataframe\">\n",
       "  <thead>\n",
       "    <tr style=\"text-align: right;\">\n",
       "      <th></th>\n",
       "      <th>OrphaNumber</th>\n",
       "      <th>Disorder_Name</th>\n",
       "      <th>Gene_Symbol</th>\n",
       "      <th>Association_Type</th>\n",
       "      <th>Association_Status</th>\n",
       "      <th>Gene_Synonyms</th>\n",
       "      <th>Gene_External_Refs</th>\n",
       "    </tr>\n",
       "  </thead>\n",
       "  <tbody>\n",
       "    <tr>\n",
       "      <th>0</th>\n",
       "      <td>166024</td>\n",
       "      <td>Multiple epiphyseal dysplasia, Al-Gazali type</td>\n",
       "      <td>KIF7</td>\n",
       "      <td>Disease-causing germline mutation(s) in</td>\n",
       "      <td>Assessed</td>\n",
       "      <td>JBTS12</td>\n",
       "      <td>Ensembl:ENSG00000166813|Genatlas:KIF7|HGNC:304...</td>\n",
       "    </tr>\n",
       "    <tr>\n",
       "      <th>1</th>\n",
       "      <td>93</td>\n",
       "      <td>Aspartylglucosaminuria</td>\n",
       "      <td>AGA</td>\n",
       "      <td>Disease-causing germline mutation(s) in</td>\n",
       "      <td>Assessed</td>\n",
       "      <td>ASRG|N(4)-(beta-N-acetylglucosaminyl)-L-aspara...</td>\n",
       "      <td>Reactome:P20933|Ensembl:ENSG00000038002|Genatl...</td>\n",
       "    </tr>\n",
       "    <tr>\n",
       "      <th>2</th>\n",
       "      <td>166035</td>\n",
       "      <td>Brachydactyly-short stature-retinitis pigmento...</td>\n",
       "      <td>CWC27</td>\n",
       "      <td>Disease-causing germline mutation(s) in</td>\n",
       "      <td>Assessed</td>\n",
       "      <td>NY-CO-10|SDCCAG-10</td>\n",
       "      <td></td>\n",
       "    </tr>\n",
       "    <tr>\n",
       "      <th>3</th>\n",
       "      <td>585</td>\n",
       "      <td>Multiple sulfatase deficiency</td>\n",
       "      <td>SUMF1</td>\n",
       "      <td>Disease-causing germline mutation(s) in</td>\n",
       "      <td>Assessed</td>\n",
       "      <td>FGE|UNQ3037</td>\n",
       "      <td>Ensembl:ENSG00000144455|Genatlas:SUMF1|HGNC:20...</td>\n",
       "    </tr>\n",
       "    <tr>\n",
       "      <th>4</th>\n",
       "      <td>118</td>\n",
       "      <td>Beta-mannosidosis</td>\n",
       "      <td>MANBA</td>\n",
       "      <td>Disease-causing germline mutation(s) in</td>\n",
       "      <td>Assessed</td>\n",
       "      <td>beta-mannosidase A</td>\n",
       "      <td>Reactome:O00462|Genatlas:MANBA|HGNC:6831|OMIM:...</td>\n",
       "    </tr>\n",
       "  </tbody>\n",
       "</table>\n",
       "</div>"
      ],
      "text/plain": [
       "  OrphaNumber                                      Disorder_Name Gene_Symbol  \\\n",
       "0      166024      Multiple epiphyseal dysplasia, Al-Gazali type        KIF7   \n",
       "1          93                             Aspartylglucosaminuria         AGA   \n",
       "2      166035  Brachydactyly-short stature-retinitis pigmento...       CWC27   \n",
       "3         585                      Multiple sulfatase deficiency       SUMF1   \n",
       "4         118                                  Beta-mannosidosis       MANBA   \n",
       "\n",
       "                          Association_Type Association_Status  \\\n",
       "0  Disease-causing germline mutation(s) in           Assessed   \n",
       "1  Disease-causing germline mutation(s) in           Assessed   \n",
       "2  Disease-causing germline mutation(s) in           Assessed   \n",
       "3  Disease-causing germline mutation(s) in           Assessed   \n",
       "4  Disease-causing germline mutation(s) in           Assessed   \n",
       "\n",
       "                                       Gene_Synonyms  \\\n",
       "0                                             JBTS12   \n",
       "1  ASRG|N(4)-(beta-N-acetylglucosaminyl)-L-aspara...   \n",
       "2                                 NY-CO-10|SDCCAG-10   \n",
       "3                                        FGE|UNQ3037   \n",
       "4                                 beta-mannosidase A   \n",
       "\n",
       "                                  Gene_External_Refs  \n",
       "0  Ensembl:ENSG00000166813|Genatlas:KIF7|HGNC:304...  \n",
       "1  Reactome:P20933|Ensembl:ENSG00000038002|Genatl...  \n",
       "2                                                     \n",
       "3  Ensembl:ENSG00000144455|Genatlas:SUMF1|HGNC:20...  \n",
       "4  Reactome:O00462|Genatlas:MANBA|HGNC:6831|OMIM:...  "
      ]
     },
     "execution_count": 5,
     "metadata": {},
     "output_type": "execute_result"
    }
   ],
   "source": [
    "tree = ET.parse(str(ORPHANET_RAW_PATH / 'genes_rare_diseases_en_product6.xml'))\n",
    "root = tree.getroot()\n",
    "disorderlist_genes = root[1]\n",
    "\n",
    "gene_list = []\n",
    "for disorder in disorderlist_genes:\n",
    "    disorder_orphan = disorder.find(\"OrphaNumber\").text\n",
    "    disorder_name = disorder.find(\"Name\").text\n",
    "    for child in disorder.find(\"DisorderGeneAssociationList\"):\n",
    "        child_gene = child.find(\"Gene\")\n",
    "        gene_symbol = child_gene.find(\"Symbol\").text\n",
    "        gene_synonyms = \"|\".join([x.text\n",
    "                                  for x in child_gene.find(\"SynonymList\")])\n",
    "        external_refs = \"|\".join([\":\".join([x.find(\"Source\").text, x.find(\"Reference\").text])\n",
    "                                  for x in child_gene.find(\"ExternalReferenceList\")])\n",
    "        association_type = child.find(\"DisorderGeneAssociationType\").find(\"Name\").text\n",
    "        association_status = child.find(\"DisorderGeneAssociationStatus\").find(\"Name\").text\n",
    "        gene_list.append(OrderedDict([\n",
    "            (\"OrphaNumber\", disorder_orphan),\n",
    "            (\"Disorder_Name\", disorder_name),\n",
    "            (\"Gene_Symbol\", gene_symbol),\n",
    "            (\"Association_Type\", association_type),\n",
    "            (\"Association_Status\", association_status),\n",
    "            (\"Gene_Synonyms\", gene_synonyms),\n",
    "            (\"Gene_External_Refs\", external_refs)\n",
    "        ]))\n",
    "disorder_gene_df = pd.DataFrame(gene_list)\n",
    "print(disorder_gene_df.shape)\n",
    "disorder_gene_df.head(5)"
   ]
  },
  {
   "cell_type": "raw",
   "metadata": {},
   "source": [
    "disorder_gene_df.to_csv(ORPHANET_FLAT_PATH / 'orphanet_disease_gene_all_unfiltered.tsv', sep=\"\\t\", index = False)"
   ]
  },
  {
   "cell_type": "markdown",
   "metadata": {},
   "source": [
    "Because orphanet provides annotation of these gene-disease associations, we also want the option of limiting ourselves to those genes that have been annotated as playing a causal role:"
   ]
  },
  {
   "cell_type": "code",
   "execution_count": 6,
   "metadata": {},
   "outputs": [
    {
     "name": "stdout",
     "output_type": "stream",
     "text": [
      "Unique diseases w/ Causal Genes:  3410\n"
     ]
    }
   ],
   "source": [
    "causal_assocation_types = [\"Disease-causing germline mutation(s) in\",\n",
    "                           \"Disease-causing germline mutation(s) (loss of function) in\",\n",
    "                           \"Disease-causing germline mutation(s) (gain of function) in\",\n",
    "                           \"Disease-causing somatic mutation(s) in\"\n",
    "                          ]\n",
    "disorder_gene_df_causal = disorder_gene_df.query(\"Association_Type in @causal_assocation_types\")\n",
    "\n",
    "disorder_gene_df_causal = disorder_gene_df_causal.query(\"Association_Status == 'Assessed'\")\n",
    "disorder_gene_df_causal.drop_duplicates()\n",
    "print(\"Unique diseases w/ Causal Genes: \", len(set(disorder_gene_df_causal.OrphaNumber)))"
   ]
  },
  {
   "cell_type": "raw",
   "metadata": {
    "collapsed": true
   },
   "source": [
    "\n",
    "disorder_gene_df_causal.to_csv(ORPHANET_FLAT_PATH / 'orphanet_disease_gene_causal_assessed.tsv', sep=\"\\t\", index = False)"
   ]
  },
  {
   "cell_type": "markdown",
   "metadata": {},
   "source": [
    "## Read in Natural History file \n",
    "\n",
    "This file contains information about the natural history of dieases. We will use it, in particular, to look at the age of onset of the disease.\n",
    "\n",
    "Unique age entries in their file:\n",
    "['Adolescent',\n",
    " 'Adult',\n",
    " 'All ages',\n",
    " 'Antenatal',\n",
    " 'Childhood',\n",
    " 'Elderly',\n",
    " 'Infancy',\n",
    " 'Neonatal']\n",
    " }"
   ]
  },
  {
   "cell_type": "code",
   "execution_count": 7,
   "metadata": {
    "ExecuteTime": {
     "end_time": "2021-02-01T18:50:59.018753Z",
     "start_time": "2021-02-01T18:50:58.821129Z"
    },
    "scrolled": true
   },
   "outputs": [
    {
     "data": {
      "text/html": [
       "<div>\n",
       "<style scoped>\n",
       "    .dataframe tbody tr th:only-of-type {\n",
       "        vertical-align: middle;\n",
       "    }\n",
       "\n",
       "    .dataframe tbody tr th {\n",
       "        vertical-align: top;\n",
       "    }\n",
       "\n",
       "    .dataframe thead th {\n",
       "        text-align: right;\n",
       "    }\n",
       "</style>\n",
       "<table border=\"1\" class=\"dataframe\">\n",
       "  <thead>\n",
       "    <tr style=\"text-align: right;\">\n",
       "      <th></th>\n",
       "      <th>OrphaNumber</th>\n",
       "      <th>Disorder_Name</th>\n",
       "      <th>Onset_Infant</th>\n",
       "      <th>Onset_Child</th>\n",
       "      <th>Onset_Adolescent</th>\n",
       "      <th>Onset_Adult</th>\n",
       "      <th>Onset_Elderly</th>\n",
       "      <th>Disorder_Type</th>\n",
       "      <th>Average_Age_Onset</th>\n",
       "      <th>Average_Age_Death</th>\n",
       "      <th>Inheritence_Types</th>\n",
       "    </tr>\n",
       "  </thead>\n",
       "  <tbody>\n",
       "    <tr>\n",
       "      <th>0</th>\n",
       "      <td>166024</td>\n",
       "      <td>Multiple epiphyseal dysplasia, Al-Gazali type</td>\n",
       "      <td>True</td>\n",
       "      <td>False</td>\n",
       "      <td>False</td>\n",
       "      <td>False</td>\n",
       "      <td>False</td>\n",
       "      <td>Disease</td>\n",
       "      <td>Infancy|Neonatal</td>\n",
       "      <td></td>\n",
       "      <td>Autosomal recessive</td>\n",
       "    </tr>\n",
       "    <tr>\n",
       "      <th>1</th>\n",
       "      <td>58</td>\n",
       "      <td>Alexander disease</td>\n",
       "      <td>True</td>\n",
       "      <td>True</td>\n",
       "      <td>True</td>\n",
       "      <td>True</td>\n",
       "      <td>True</td>\n",
       "      <td>Disease</td>\n",
       "      <td>All ages</td>\n",
       "      <td>any age</td>\n",
       "      <td>Autosomal dominant</td>\n",
       "    </tr>\n",
       "    <tr>\n",
       "      <th>2</th>\n",
       "      <td>166032</td>\n",
       "      <td>Multiple epiphyseal dysplasia, with miniepiphyses</td>\n",
       "      <td>True</td>\n",
       "      <td>True</td>\n",
       "      <td>False</td>\n",
       "      <td>False</td>\n",
       "      <td>False</td>\n",
       "      <td>Disease</td>\n",
       "      <td>Childhood|Infancy</td>\n",
       "      <td>No data available</td>\n",
       "      <td></td>\n",
       "    </tr>\n",
       "    <tr>\n",
       "      <th>3</th>\n",
       "      <td>61</td>\n",
       "      <td>Alpha-mannosidosis</td>\n",
       "      <td>True</td>\n",
       "      <td>True</td>\n",
       "      <td>False</td>\n",
       "      <td>False</td>\n",
       "      <td>False</td>\n",
       "      <td>Disease</td>\n",
       "      <td>Childhood|Infancy|Neonatal</td>\n",
       "      <td>any age</td>\n",
       "      <td>Autosomal recessive</td>\n",
       "    </tr>\n",
       "    <tr>\n",
       "      <th>4</th>\n",
       "      <td>166029</td>\n",
       "      <td>Multiple epiphyseal dysplasia, with severe pro...</td>\n",
       "      <td>False</td>\n",
       "      <td>True</td>\n",
       "      <td>False</td>\n",
       "      <td>False</td>\n",
       "      <td>False</td>\n",
       "      <td>Disease</td>\n",
       "      <td>Childhood</td>\n",
       "      <td>No data available</td>\n",
       "      <td></td>\n",
       "    </tr>\n",
       "  </tbody>\n",
       "</table>\n",
       "</div>"
      ],
      "text/plain": [
       "  OrphaNumber                                      Disorder_Name  \\\n",
       "0      166024      Multiple epiphyseal dysplasia, Al-Gazali type   \n",
       "1          58                                  Alexander disease   \n",
       "2      166032  Multiple epiphyseal dysplasia, with miniepiphyses   \n",
       "3          61                                 Alpha-mannosidosis   \n",
       "4      166029  Multiple epiphyseal dysplasia, with severe pro...   \n",
       "\n",
       "   Onset_Infant  Onset_Child  Onset_Adolescent  Onset_Adult  Onset_Elderly  \\\n",
       "0          True        False             False        False          False   \n",
       "1          True         True              True         True           True   \n",
       "2          True         True             False        False          False   \n",
       "3          True         True             False        False          False   \n",
       "4         False         True             False        False          False   \n",
       "\n",
       "  Disorder_Type           Average_Age_Onset  Average_Age_Death  \\\n",
       "0       Disease            Infancy|Neonatal                      \n",
       "1       Disease                    All ages            any age   \n",
       "2       Disease           Childhood|Infancy  No data available   \n",
       "3       Disease  Childhood|Infancy|Neonatal            any age   \n",
       "4       Disease                   Childhood  No data available   \n",
       "\n",
       "     Inheritence_Types  \n",
       "0  Autosomal recessive  \n",
       "1   Autosomal dominant  \n",
       "2                       \n",
       "3  Autosomal recessive  \n",
       "4                       "
      ]
     },
     "execution_count": 7,
     "metadata": {},
     "output_type": "execute_result"
    }
   ],
   "source": [
    "tree = ET.parse(str(ORPHANET_RAW_PATH / 'natural_history_en_product9_ages.xml'))\n",
    "root = tree.getroot()\n",
    "disorderlist_nat_hist = root[1]\n",
    "\n",
    "nat_hist_list = []\n",
    "debug_disorder = None\n",
    "for disorder in disorderlist_nat_hist:\n",
    "    disorder_orphan = disorder.find(\"OrphaNumber\").text\n",
    "    disorder_name = disorder.find(\"Name\").text\n",
    "    disorder_type = disorder.find(\"DisorderType\").find(\"Name\").text\n",
    "    average_age_onset = \"|\".join([x.find(\"Name\").text\n",
    "                                  for x in disorder.find(\"AverageAgeOfOnsetList\")]) \n",
    "    \n",
    "    onset_neonatal = ('All ages' in average_age_onset) or \\\n",
    "                    ('Antenatal' in average_age_onset) or ('Neonatal' in average_age_onset)\n",
    "    onset_infant = ('All ages' in average_age_onset) or ('Infancy' in average_age_onset)\n",
    "    onset_child = ('All ages' in average_age_onset) or ('Childhood' in average_age_onset)\n",
    "    onset_adolescent = ('All ages' in average_age_onset) or ('Adolescent' in average_age_onset)\n",
    "    onset_adult = ('All ages' in average_age_onset) or ('Adult' in average_age_onset)\n",
    "    onset_elderly = ('All ages' in average_age_onset) or ('Elderly' in average_age_onset)\n",
    "    \n",
    "    average_age_death = \"|\".join([x.find(\"Name\").text\n",
    "                                  for x in disorder.find(\"AverageAgeOfDeathList\")])\n",
    "    inheritence_types = \"|\".join([x.find(\"Name\").text\n",
    "                                  for x in disorder.find(\"TypeOfInheritanceList\")])\n",
    "    nat_hist_list.append(OrderedDict([\n",
    "        (\"OrphaNumber\", disorder_orphan),\n",
    "        (\"Disorder_Name\", disorder_name),\n",
    "        (\"Onset_Infant\", onset_infant),\n",
    "        (\"Onset_Child\", onset_child),\n",
    "        (\"Onset_Adolescent\", onset_adolescent),\n",
    "        (\"Onset_Adult\", onset_adult),\n",
    "        (\"Onset_Elderly\", onset_elderly),\n",
    "        (\"Disorder_Type\", disorder_type),\n",
    "        (\"Average_Age_Onset\", average_age_onset),\n",
    "        (\"Average_Age_Death\", average_age_death),\n",
    "        (\"Inheritence_Types\", inheritence_types)\n",
    "        ]))\n",
    "nat_hist_df = pd.DataFrame(nat_hist_list)\n",
    "nat_hist_df = nat_hist_df.query(\"Disorder_Type != 'Category'\")\n",
    "nat_hist_df.head(5)"
   ]
  },
  {
   "cell_type": "code",
   "execution_count": 8,
   "metadata": {},
   "outputs": [
    {
     "name": "stdout",
     "output_type": "stream",
     "text": [
      "Unique diseases w/ Natural History:  7577\n"
     ]
    }
   ],
   "source": [
    "print(\"Unique diseases w/ Natural History: \", len(set(nat_hist_df.OrphaNumber)))"
   ]
  },
  {
   "cell_type": "raw",
   "metadata": {
    "collapsed": true
   },
   "source": [
    "nat_hist_df.to_csv(ORPHANET_FLAT_PATH / 'orphanet_disease_natural_history_nonCategory.tsv', sep=\"\\t\", index = False)"
   ]
  },
  {
   "cell_type": "markdown",
   "metadata": {},
   "source": [
    "## Read in \"Linearization\" (Categorization) file \n",
    "\n",
    "The linearization file provides systems-based categorizations of various diseases, which come in handy for various sub-group analyses."
   ]
  },
  {
   "cell_type": "code",
   "execution_count": 9,
   "metadata": {
    "scrolled": true
   },
   "outputs": [
    {
     "data": {
      "text/html": [
       "<div>\n",
       "<style scoped>\n",
       "    .dataframe tbody tr th:only-of-type {\n",
       "        vertical-align: middle;\n",
       "    }\n",
       "\n",
       "    .dataframe tbody tr th {\n",
       "        vertical-align: top;\n",
       "    }\n",
       "\n",
       "    .dataframe thead th {\n",
       "        text-align: right;\n",
       "    }\n",
       "</style>\n",
       "<table border=\"1\" class=\"dataframe\">\n",
       "  <thead>\n",
       "    <tr style=\"text-align: right;\">\n",
       "      <th></th>\n",
       "      <th>OrphaNumber</th>\n",
       "      <th>Disorder_Name</th>\n",
       "      <th>Category</th>\n",
       "    </tr>\n",
       "  </thead>\n",
       "  <tbody>\n",
       "    <tr>\n",
       "      <th>0</th>\n",
       "      <td>166024</td>\n",
       "      <td>Multiple epiphyseal dysplasia, Al-Gazali type</td>\n",
       "      <td>Rare bone disease</td>\n",
       "    </tr>\n",
       "    <tr>\n",
       "      <th>1</th>\n",
       "      <td>58</td>\n",
       "      <td>Alexander disease</td>\n",
       "      <td>Rare neurologic disease</td>\n",
       "    </tr>\n",
       "    <tr>\n",
       "      <th>2</th>\n",
       "      <td>166032</td>\n",
       "      <td>Multiple epiphyseal dysplasia, with miniepiphyses</td>\n",
       "      <td>Rare bone disease</td>\n",
       "    </tr>\n",
       "    <tr>\n",
       "      <th>3</th>\n",
       "      <td>61</td>\n",
       "      <td>Alpha-mannosidosis</td>\n",
       "      <td>Rare inborn errors of metabolism</td>\n",
       "    </tr>\n",
       "    <tr>\n",
       "      <th>4</th>\n",
       "      <td>166029</td>\n",
       "      <td>Multiple epiphyseal dysplasia, with severe pro...</td>\n",
       "      <td>Rare bone disease</td>\n",
       "    </tr>\n",
       "    <tr>\n",
       "      <th>5</th>\n",
       "      <td>166038</td>\n",
       "      <td>Metaphyseal chondrodysplasia, Kaitila type</td>\n",
       "      <td>Rare bone disease</td>\n",
       "    </tr>\n",
       "    <tr>\n",
       "      <th>6</th>\n",
       "      <td>93</td>\n",
       "      <td>Aspartylglucosaminuria</td>\n",
       "      <td>Rare inborn errors of metabolism</td>\n",
       "    </tr>\n",
       "    <tr>\n",
       "      <th>7</th>\n",
       "      <td>166035</td>\n",
       "      <td>Brachydactyly-short stature-retinitis pigmento...</td>\n",
       "      <td>Rare bone disease</td>\n",
       "    </tr>\n",
       "    <tr>\n",
       "      <th>8</th>\n",
       "      <td>585</td>\n",
       "      <td>Multiple sulfatase deficiency</td>\n",
       "      <td>Rare inborn errors of metabolism</td>\n",
       "    </tr>\n",
       "    <tr>\n",
       "      <th>9</th>\n",
       "      <td>118</td>\n",
       "      <td>Beta-mannosidosis</td>\n",
       "      <td>Rare inborn errors of metabolism</td>\n",
       "    </tr>\n",
       "  </tbody>\n",
       "</table>\n",
       "</div>"
      ],
      "text/plain": [
       "  OrphaNumber                                      Disorder_Name  \\\n",
       "0      166024      Multiple epiphyseal dysplasia, Al-Gazali type   \n",
       "1          58                                  Alexander disease   \n",
       "2      166032  Multiple epiphyseal dysplasia, with miniepiphyses   \n",
       "3          61                                 Alpha-mannosidosis   \n",
       "4      166029  Multiple epiphyseal dysplasia, with severe pro...   \n",
       "5      166038         Metaphyseal chondrodysplasia, Kaitila type   \n",
       "6          93                             Aspartylglucosaminuria   \n",
       "7      166035  Brachydactyly-short stature-retinitis pigmento...   \n",
       "8         585                      Multiple sulfatase deficiency   \n",
       "9         118                                  Beta-mannosidosis   \n",
       "\n",
       "                           Category  \n",
       "0                 Rare bone disease  \n",
       "1           Rare neurologic disease  \n",
       "2                 Rare bone disease  \n",
       "3  Rare inborn errors of metabolism  \n",
       "4                 Rare bone disease  \n",
       "5                 Rare bone disease  \n",
       "6  Rare inborn errors of metabolism  \n",
       "7                 Rare bone disease  \n",
       "8  Rare inborn errors of metabolism  \n",
       "9  Rare inborn errors of metabolism  "
      ]
     },
     "execution_count": 9,
     "metadata": {},
     "output_type": "execute_result"
    }
   ],
   "source": [
    "tree = ET.parse(str(ORPHANET_RAW_PATH / 'linearization_of_disorders_en_product7.xml'))\n",
    "root = tree.getroot()\n",
    "disorderlist_linear = root[1]\n",
    "\n",
    "\n",
    "linear_list = []\n",
    "linear_list_cat = []\n",
    "debug_disorder = None\n",
    "for disorder in disorderlist_linear:\n",
    "    disorder_orphan = disorder.find(\"OrphaNumber\").text\n",
    "    disorder_name = disorder.find(\"Name\").text\n",
    "    for child in disorder.find(\"DisorderDisorderAssociationList\"):\n",
    "        disorder1 = child.find(\"Disorder1\")\n",
    "        if \"cycle\" in disorder1.attrib:\n",
    "            disorder1_orphan = disorder_orphan\n",
    "            disorder1_name = disorder_name\n",
    "        else:\n",
    "            disorder1_orphan = disorder1.find(\"OrphaNumber\").text\n",
    "            disorder1_name = disorder1.find(\"Name\").text\n",
    "        disorder2 = child.find(\"Disorder2\")\n",
    "        if \"cycle\" in disorder2.attrib:\n",
    "            disorder2_orphan = disorder_orphan\n",
    "            disorder2_name = disorder_name\n",
    "        else:\n",
    "            disorder2_orphan = disorder2.find(\"OrphaNumber\").text\n",
    "            disorder2_name = disorder2.find(\"Name\").text\n",
    "        association_type = child.find(\"DisorderDisorderAssociationType\").find(\"Name\").text\n",
    "        linear_list.append(OrderedDict([\n",
    "            (\"OrphaNumber1\", disorder1_orphan),\n",
    "            (\"OrphaNumber2\", disorder2_orphan),\n",
    "            (\"Disorder_Name1\", disorder1_name),\n",
    "            (\"Disorder_Name2\", disorder2_name),\n",
    "            (\"Assocation_Type\", association_type)\n",
    "            ]))\n",
    "        linear_list_cat.append(OrderedDict([\n",
    "            (\"OrphaNumber\", disorder2_orphan),\n",
    "            (\"Disorder_Name\", disorder2_name),\n",
    "            (\"Category\", disorder1_name),\n",
    "            ]))\n",
    "        \n",
    "linear_df = pd.DataFrame(linear_list)\n",
    "\n",
    "linear_cat_df = pd.DataFrame(linear_list_cat).drop_duplicates()\n",
    "linear_cat_df.head(10)"
   ]
  },
  {
   "cell_type": "markdown",
   "metadata": {},
   "source": [
    "Simple histogram of disease counts by category:"
   ]
  },
  {
   "cell_type": "code",
   "execution_count": 10,
   "metadata": {
    "scrolled": false
   },
   "outputs": [
    {
     "data": {
      "text/plain": [
       "Rare developmental defect during embryogenesis          2256\n",
       "Rare neurologic disease                                 1140\n",
       "Rare neoplastic disease                                  546\n",
       "Rare inborn errors of metabolism                         512\n",
       "Rare skin disease                                        437\n",
       "Rare bone disease                                        385\n",
       "Rare ophthalmic disorder                                 251\n",
       "Rare endocrine disease                                   238\n",
       "Rare hematologic disease                                 206\n",
       "Rare systemic or rheumatologic disease                   192\n",
       "Rare infectious disease                                  176\n",
       "Rare immune disease                                      176\n",
       "Rare renal disease                                       135\n",
       "Rare gastroenterologic disease                            87\n",
       "Rare respiratory disease                                  75\n",
       "Rare hepatic disease                                      68\n",
       "Rare otorhinolaryngologic disease                         52\n",
       "Rare cardiac disease                                      48\n",
       "Rare disorder with RCH resources uncovered otherwise      29\n",
       "Rare odontologic disease                                  25\n",
       "Rare disorder due to toxic effects                        23\n",
       "Rare circulatory system disease                           21\n",
       "Rare gynecologic or obstetric disease                     12\n",
       "Rare urogenital disease                                   11\n",
       "Rare infertility                                          10\n",
       "Rare abdominal surgical disease                            8\n",
       "Rare maxillo-facial surgical disease                       7\n",
       "Rare surgical thoracic disease                             6\n",
       "Rare genetic disease                                       4\n",
       "Rare neurologic disease with psychiatric involvement       1\n",
       "Rare surgical cardiac disease                              1\n",
       "Rare disorder of the visual organs                         1\n",
       "Name: Category, dtype: int64"
      ]
     },
     "execution_count": 10,
     "metadata": {},
     "output_type": "execute_result"
    }
   ],
   "source": [
    "linear_cat_df.Category.value_counts()"
   ]
  },
  {
   "cell_type": "code",
   "execution_count": 11,
   "metadata": {},
   "outputs": [
    {
     "name": "stdout",
     "output_type": "stream",
     "text": [
      "Unique diseases w/ Linearization:  7139\n"
     ]
    }
   ],
   "source": [
    "print(\"Unique diseases w/ Linearization: \", len(set(linear_cat_df.OrphaNumber)))"
   ]
  },
  {
   "cell_type": "raw",
   "metadata": {
    "collapsed": true
   },
   "source": [
    "linear_cat_df.to_csv(ORPHANET_FLAT_PATH / 'orphanet_disease_categorization.tsv', sep=\"\\t\", index = False)"
   ]
  },
  {
   "cell_type": "markdown",
   "metadata": {},
   "source": [
    "## Read in \"Cross Reference\"\n",
    "\n",
    "Orphanet also provides cross-references of their OrphaNet identifiers to different ontologies such as ICD, UMLS, OMIM, etc., which is information we would like to be able to use when performing analysis such as linking with claims data."
   ]
  },
  {
   "cell_type": "code",
   "execution_count": 12,
   "metadata": {
    "scrolled": true
   },
   "outputs": [
    {
     "data": {
      "text/html": [
       "<div>\n",
       "<style scoped>\n",
       "    .dataframe tbody tr th:only-of-type {\n",
       "        vertical-align: middle;\n",
       "    }\n",
       "\n",
       "    .dataframe tbody tr th {\n",
       "        vertical-align: top;\n",
       "    }\n",
       "\n",
       "    .dataframe thead th {\n",
       "        text-align: right;\n",
       "    }\n",
       "</style>\n",
       "<table border=\"1\" class=\"dataframe\">\n",
       "  <thead>\n",
       "    <tr style=\"text-align: right;\">\n",
       "      <th></th>\n",
       "      <th>OrphaNumber</th>\n",
       "      <th>Disorder_Name</th>\n",
       "      <th>External_Source</th>\n",
       "      <th>External_ID</th>\n",
       "      <th>External_Mapping_Rel</th>\n",
       "      <th>External_Mapping_Status</th>\n",
       "      <th>Disorder_Synonyms</th>\n",
       "    </tr>\n",
       "  </thead>\n",
       "  <tbody>\n",
       "    <tr>\n",
       "      <th>0</th>\n",
       "      <td>166024</td>\n",
       "      <td>Multiple epiphyseal dysplasia, Al-Gazali type</td>\n",
       "      <td>ICD-10</td>\n",
       "      <td>Q77.3</td>\n",
       "      <td>NTBT (narrower term maps to a broader term)</td>\n",
       "      <td>Validated</td>\n",
       "      <td>Multiple epiphyseal dysplasia-macrocephaly-dis...</td>\n",
       "    </tr>\n",
       "    <tr>\n",
       "      <th>1</th>\n",
       "      <td>166024</td>\n",
       "      <td>Multiple epiphyseal dysplasia, Al-Gazali type</td>\n",
       "      <td>OMIM</td>\n",
       "      <td>607131</td>\n",
       "      <td>E (exact mapping (the terms and the concepts a...</td>\n",
       "      <td>Validated</td>\n",
       "      <td>Multiple epiphyseal dysplasia-macrocephaly-dis...</td>\n",
       "    </tr>\n",
       "    <tr>\n",
       "      <th>2</th>\n",
       "      <td>166024</td>\n",
       "      <td>Multiple epiphyseal dysplasia, Al-Gazali type</td>\n",
       "      <td>UMLS</td>\n",
       "      <td>C1846722</td>\n",
       "      <td>E (exact mapping (the terms and the concepts a...</td>\n",
       "      <td>Validated</td>\n",
       "      <td>Multiple epiphyseal dysplasia-macrocephaly-dis...</td>\n",
       "    </tr>\n",
       "    <tr>\n",
       "      <th>3</th>\n",
       "      <td>58</td>\n",
       "      <td>Alexander disease</td>\n",
       "      <td>OMIM</td>\n",
       "      <td>203450</td>\n",
       "      <td>E (exact mapping (the terms and the concepts a...</td>\n",
       "      <td>Validated</td>\n",
       "      <td>AxD</td>\n",
       "    </tr>\n",
       "    <tr>\n",
       "      <th>4</th>\n",
       "      <td>58</td>\n",
       "      <td>Alexander disease</td>\n",
       "      <td>MeSH</td>\n",
       "      <td>D038261</td>\n",
       "      <td>E (exact mapping (the terms and the concepts a...</td>\n",
       "      <td>Validated</td>\n",
       "      <td>AxD</td>\n",
       "    </tr>\n",
       "  </tbody>\n",
       "</table>\n",
       "</div>"
      ],
      "text/plain": [
       "  OrphaNumber                                  Disorder_Name External_Source  \\\n",
       "0      166024  Multiple epiphyseal dysplasia, Al-Gazali type          ICD-10   \n",
       "1      166024  Multiple epiphyseal dysplasia, Al-Gazali type            OMIM   \n",
       "2      166024  Multiple epiphyseal dysplasia, Al-Gazali type            UMLS   \n",
       "3          58                              Alexander disease            OMIM   \n",
       "4          58                              Alexander disease            MeSH   \n",
       "\n",
       "  External_ID                               External_Mapping_Rel  \\\n",
       "0       Q77.3        NTBT (narrower term maps to a broader term)   \n",
       "1      607131  E (exact mapping (the terms and the concepts a...   \n",
       "2    C1846722  E (exact mapping (the terms and the concepts a...   \n",
       "3      203450  E (exact mapping (the terms and the concepts a...   \n",
       "4     D038261  E (exact mapping (the terms and the concepts a...   \n",
       "\n",
       "  External_Mapping_Status                                  Disorder_Synonyms  \n",
       "0               Validated  Multiple epiphyseal dysplasia-macrocephaly-dis...  \n",
       "1               Validated  Multiple epiphyseal dysplasia-macrocephaly-dis...  \n",
       "2               Validated  Multiple epiphyseal dysplasia-macrocephaly-dis...  \n",
       "3               Validated                                                AxD  \n",
       "4               Validated                                                AxD  "
      ]
     },
     "execution_count": 12,
     "metadata": {},
     "output_type": "execute_result"
    }
   ],
   "source": [
    "tree = ET.parse(str(ORPHANET_RAW_PATH / 'rare_disease_crossref_en_product1.xml'))\n",
    "root = tree.getroot()\n",
    "disorderlist_cross = root[1]\n",
    "\n",
    "rel_list = []\n",
    "for disorder in disorderlist_cross:\n",
    "    disorder_orphan = disorder.find(\"OrphaNumber\").text\n",
    "    disorder_name = disorder.find(\"Name\").text\n",
    "    disorder_synonyms = \"|\".join([x.text\n",
    "                                  for x in disorder.find(\"SynonymList\")])\n",
    "    for child in disorder.find(\"ExternalReferenceList\"):\n",
    "        external_source = child.find(\"Source\").text\n",
    "        external_id = child.find(\"Reference\").text\n",
    "        external_mapping_rel = child.find(\"DisorderMappingRelation\").find(\"Name\").text\n",
    "        external_mapping_status = child.find(\"DisorderMappingValidationStatus\").find(\"Name\").text\n",
    "        rel_list.append(OrderedDict([\n",
    "            (\"OrphaNumber\", disorder_orphan),\n",
    "            (\"Disorder_Name\", disorder_name),\n",
    "            (\"External_Source\", external_source),\n",
    "            (\"External_ID\", external_id),\n",
    "            (\"External_Mapping_Rel\", external_mapping_rel),\n",
    "            (\"External_Mapping_Status\", external_mapping_status),\n",
    "            (\"Disorder_Synonyms\", disorder_synonyms)\n",
    "        ]))\n",
    "rel_df = pd.DataFrame(rel_list)\n",
    "rel_df = rel_df.query(\"External_Mapping_Status == 'Validated'\")\n",
    "rel_df.head(5)"
   ]
  },
  {
   "cell_type": "code",
   "execution_count": 13,
   "metadata": {},
   "outputs": [
    {
     "name": "stdout",
     "output_type": "stream",
     "text": [
      "Unique diseases w/ External Mappings:  7844\n"
     ]
    }
   ],
   "source": [
    "print(\"Unique diseases w/ External Mappings: \", len(set(rel_df.OrphaNumber)))"
   ]
  },
  {
   "cell_type": "markdown",
   "metadata": {},
   "source": [
    "As can be seen, for many links, OrphaData also flags these cross-mappings as being \"exact\", \"broader\", or \"narrower\" in the target ontology."
   ]
  },
  {
   "cell_type": "code",
   "execution_count": 14,
   "metadata": {},
   "outputs": [
    {
     "data": {
      "text/plain": [
       "E (exact mapping (the terms and the concepts are equivalent))                                                         12764\n",
       "NTBT (narrower term maps to a broader term)                                                                            6838\n",
       "BTNT (broader term maps to a narrower term)                                                                            4206\n",
       "ND (not yet decided/unable to decide)                                                                                   185\n",
       "NTBT/E (narrower term maps to a broader term because of an exact mapping with a synonym in the target terminology)        2\n",
       "Name: External_Mapping_Rel, dtype: int64"
      ]
     },
     "execution_count": 14,
     "metadata": {},
     "output_type": "execute_result"
    }
   ],
   "source": [
    "rel_df.External_Mapping_Rel.value_counts()"
   ]
  },
  {
   "cell_type": "raw",
   "metadata": {
    "collapsed": true
   },
   "source": [
    "rel_df.to_csv(ORPHANET_FLAT_PATH / 'orphanet_disease_cross_mapping.tsv', sep=\"\\t\", index = False)"
   ]
  },
  {
   "cell_type": "markdown",
   "metadata": {},
   "source": [
    "# Use the ORDO to fill in missing phenotypes or genes "
   ]
  },
  {
   "cell_type": "markdown",
   "metadata": {},
   "source": [
    "We noticed that in some cases, OrphaNet does not separately list genes or phenotypes associated with a specific genetic disease when they have been already listed for another disease that is its clinical superset. The [Orphanet Rare Disease Ontology](https://www.ebi.ac.uk/ols/ontologies/ordo) provides hierarchical relationship between orphanet diseases, which we leverage in this section of the notebook to fill in some missing phenotypes and genes."
   ]
  },
  {
   "cell_type": "markdown",
   "metadata": {},
   "source": [
    "## Link diseases missing phenotypes or genes to their parents"
   ]
  },
  {
   "cell_type": "markdown",
   "metadata": {},
   "source": [
    "Read in the ORDO:"
   ]
  },
  {
   "cell_type": "code",
   "execution_count": 15,
   "metadata": {},
   "outputs": [],
   "source": [
    "import networkx\n",
    "import obonet\n",
    "ordo = obonet.read_obo(str(config.ORPHANET_PATH / 'ordo'/ 'ORDO_en_2.9.obo') )\n",
    "permissable_subtypes = ['clinical subtype', 'etiological subtype', 'histopathological subtype']"
   ]
  },
  {
   "cell_type": "markdown",
   "metadata": {},
   "source": [
    "Identify genetic diseases with phenotypes but unlisted genes, and find their parents via the ORDO:"
   ]
  },
  {
   "cell_type": "code",
   "execution_count": 16,
   "metadata": {},
   "outputs": [],
   "source": [
    "orphas_w_hpo_not_gene = [orpha for orpha in set(linear_cat_df.OrphaNumber.values) if orpha in disease_hpo_df.OrphaNumber.values and orpha not in disorder_gene_df_causal.OrphaNumber.values]\n",
    "orphas_w_hpo_not_gene_w_prefix = [\"Orphanet:\" + idx for idx in orphas_w_hpo_not_gene]\n",
    "\n",
    "is_a_list = []\n",
    "ordo_keys = list(ordo.nodes.keys())\n",
    "\n",
    "for idx in orphas_w_hpo_not_gene:\n",
    "    idx_w_prefix = \"Orphanet:\" + idx\n",
    "    if idx_w_prefix in ordo_keys:\n",
    "        for x in ordo.nodes[idx_w_prefix]['is_a']:\n",
    "            is_a_list.append(OrderedDict([\n",
    "                (\"OrphaNumber\", idx),\n",
    "                (\"OrphaNumber_Ordo\", idx_w_prefix),\n",
    "                (\"OrphaName\", ordo.nodes[idx_w_prefix]['name']),\n",
    "                (\"is_a_id\", x),\n",
    "                (\"is_a_name\", ordo.nodes[x]['name'])\n",
    "            ]))\n",
    "    else:\n",
    "        is_a_list.append(OrderedDict([\n",
    "                (\"OrphaNumber\", idx),\n",
    "                (\"OrphaName\", \"N/A\"),\n",
    "                (\"is_a_id\", \"N/A\"),\n",
    "                (\"is_a_name\", \"N/A\")\n",
    "            ]))\n",
    "        \n",
    "orphas_w_hpo_not_gene_is_a_df = pd.DataFrame(is_a_list)\n",
    "orphas_w_hpo_not_gene_is_a_df.drop_duplicates()\n",
    "orphas_w_hpo_not_gene_is_a_subtypes = orphas_w_hpo_not_gene_is_a_df.query(\"is_a_name in @permissable_subtypes\")\n",
    "\n",
    "disorder_gene_df_causal_w_prefix = [\"Orphanet:\" + idx for idx in disorder_gene_df_causal.OrphaNumber.unique()]\n",
    "\n",
    "res_list = [disorder_gene_df_causal]\n",
    "for orph in orphas_w_hpo_not_gene_is_a_subtypes.OrphaNumber_Ordo.values:\n",
    "    for rel in ordo.nodes[orph]['relationship']:\n",
    "        sourc, targ = rel.split(\" \")\n",
    "        if sourc == 'BFO:0000050':\n",
    "            if targ in disorder_gene_df_causal_w_prefix:\n",
    "                orph_num = orph.split(\":\")[1]\n",
    "                targ_num = targ.split(\":\")[1]\n",
    "                orph_name = linear_cat_df.query(\"OrphaNumber == @orph_num\").Disorder_Name.values[0]\n",
    "                res_list += [disorder_gene_df_causal.query(\"OrphaNumber == @targ_num\")\\\n",
    "                    .assign(OrphaNumber=orph_num)\\\n",
    "                    .assign(Disorder_Name=orph_name)]\n",
    "disorder_gene_df_causal_expanded = pd.concat(res_list)"
   ]
  },
  {
   "cell_type": "markdown",
   "metadata": {},
   "source": [
    "Identify genetic diseases with genes but unlisted phenotypes, and find their parents via the ORDO:"
   ]
  },
  {
   "cell_type": "code",
   "execution_count": 17,
   "metadata": {},
   "outputs": [],
   "source": [
    "orphas_w_gene_not_hpo = [orpha for orpha in set(linear_cat_df.OrphaNumber.values) if orpha in disorder_gene_df_causal.OrphaNumber.values and orpha not in disease_hpo_df.OrphaNumber.values]\n",
    "orphas_w_gene_not_hpo_w_prefix = [\"Orphanet:\" + idx for idx in orphas_w_gene_not_hpo]\n",
    "\n",
    "is_a_list = []\n",
    "ordo_keys = list(ordo.nodes.keys())\n",
    "\n",
    "for idx in orphas_w_gene_not_hpo:\n",
    "    idx_w_prefix = \"Orphanet:\" + idx\n",
    "    if idx_w_prefix in ordo_keys:\n",
    "        for x in ordo.nodes[idx_w_prefix]['is_a']:\n",
    "            is_a_list.append(OrderedDict([\n",
    "                (\"OrphaNumber\", idx),\n",
    "                (\"OrphaNumber_Ordo\", idx_w_prefix),\n",
    "                (\"OrphaName\", ordo.nodes[idx_w_prefix]['name']),\n",
    "                (\"is_a_id\", x),\n",
    "                (\"is_a_name\", ordo.nodes[x]['name'])\n",
    "            ]))\n",
    "    else:\n",
    "        is_a_list.append(OrderedDict([\n",
    "                (\"OrphaNumber\", idx),\n",
    "                (\"OrphaName\", \"N/A\"),\n",
    "                (\"is_a_id\", \"N/A\"),\n",
    "                (\"is_a_name\", \"N/A\")\n",
    "            ]))\n",
    "        \n",
    "orphas_w_gene_not_hpo_is_a_df = pd.DataFrame(is_a_list).drop_duplicates()\n",
    "orphas_w_gene_not_hpo_is_a_subtypes = orphas_w_gene_not_hpo_is_a_df.query(\"is_a_name in @permissable_subtypes\")\n",
    "\n",
    "disease_hpo_df_w_prefix = [\"Orphanet:\" + idx for idx in disease_hpo_df.OrphaNumber.unique()]\n",
    "\n",
    "res_list = [disease_hpo_df]\n",
    "for orph in orphas_w_gene_not_hpo_is_a_subtypes.OrphaNumber_Ordo.values:\n",
    "    if \"relationship\" in ordo.nodes[orph]:\n",
    "        for rel in ordo.nodes[orph]['relationship']:\n",
    "            sourc, targ = rel.split(\" \")\n",
    "            if sourc == 'BFO:0000050':\n",
    "                if targ in disease_hpo_df_w_prefix:\n",
    "                    orph_num = orph.split(\":\")[1]\n",
    "                    targ_num = targ.split(\":\")[1]\n",
    "                    orph_name = linear_cat_df.query(\"OrphaNumber == @orph_num\").Disorder_Name.values[0]\n",
    "                    res_list += [disease_hpo_df.query(\"OrphaNumber == @targ_num\")\\\n",
    "                        .assign(OrphaNumber=orph_num)\\\n",
    "                        .assign(Disorder_Name=orph_name)]\n",
    "disease_hpo_df_expanded = pd.concat(res_list)"
   ]
  },
  {
   "cell_type": "raw",
   "metadata": {},
   "source": [
    "disease_hpo_df_expanded.to_csv(ORPHANET_FLAT_PATH / 'orphanet_disease_hpo_expanded.tsv', sep=\"\\t\", index = False)\n",
    "disorder_gene_df_causal_expanded.to_csv(ORPHANET_FLAT_PATH / 'orphanet_disease_gene_causal_assessed_expanded.tsv', sep=\"\\t\", index = False)"
   ]
  },
  {
   "cell_type": "markdown",
   "metadata": {},
   "source": [
    "# Join OrphaNet datasets"
   ]
  },
  {
   "cell_type": "markdown",
   "metadata": {},
   "source": [
    "Visualize intersection between various data files:"
   ]
  },
  {
   "cell_type": "code",
   "execution_count": 18,
   "metadata": {},
   "outputs": [
    {
     "data": {
      "image/png": "[encoded data removed]",
      "text/plain": [
       "<Figure size 576x320 with 4 Axes>"
      ]
     },
     "metadata": {
      "needs_background": "light"
     },
     "output_type": "display_data"
    }
   ],
   "source": [
    "file_memberships = {\"disease_hpo_df\":set(disease_hpo_df_expanded.OrphaNumber.values),\n",
    "    \"disorder_gene_df_causal\":set(disorder_gene_df_causal_expanded.OrphaNumber.values),\n",
    "    \"nat_hist_df\":set(nat_hist_df.OrphaNumber.values),\n",
    "    \"linear_cat_df\":set(linear_cat_df.OrphaNumber.values)\n",
    "    }\n",
    "upset_from_contents = from_contents(file_memberships)\n",
    "plot_upset(upset_from_contents, show_counts = True,\n",
    "          sort_by=\"cardinality\")\n",
    "pyplot.show()"
   ]
  },
  {
   "cell_type": "markdown",
   "metadata": {},
   "source": [
    "Merge various disorder annotations into one dataframe:"
   ]
  },
  {
   "cell_type": "code",
   "execution_count": 19,
   "metadata": {},
   "outputs": [
    {
     "data": {
      "text/html": [
       "<div>\n",
       "<style scoped>\n",
       "    .dataframe tbody tr th:only-of-type {\n",
       "        vertical-align: middle;\n",
       "    }\n",
       "\n",
       "    .dataframe tbody tr th {\n",
       "        vertical-align: top;\n",
       "    }\n",
       "\n",
       "    .dataframe thead th {\n",
       "        text-align: right;\n",
       "    }\n",
       "</style>\n",
       "<table border=\"1\" class=\"dataframe\">\n",
       "  <thead>\n",
       "    <tr style=\"text-align: right;\">\n",
       "      <th></th>\n",
       "      <th>OrphaNumber</th>\n",
       "      <th>Disorder_Name</th>\n",
       "      <th>Gene_Symbol</th>\n",
       "      <th>Association_Type</th>\n",
       "      <th>Association_Status</th>\n",
       "      <th>Gene_Synonyms</th>\n",
       "      <th>Gene_External_Refs</th>\n",
       "      <th>Onset_Infant</th>\n",
       "      <th>Onset_Child</th>\n",
       "      <th>Onset_Adolescent</th>\n",
       "      <th>Onset_Adult</th>\n",
       "      <th>Onset_Elderly</th>\n",
       "      <th>Disorder_Type</th>\n",
       "      <th>Average_Age_Onset</th>\n",
       "      <th>Average_Age_Death</th>\n",
       "      <th>Inheritence_Types</th>\n",
       "      <th>Category</th>\n",
       "    </tr>\n",
       "  </thead>\n",
       "  <tbody>\n",
       "    <tr>\n",
       "      <th>0</th>\n",
       "      <td>100</td>\n",
       "      <td>Ataxia-telangiectasia</td>\n",
       "      <td>ATM</td>\n",
       "      <td>Disease-causing germline mutation(s) in</td>\n",
       "      <td>Assessed</td>\n",
       "      <td>TEL1|TEL1, telomere maintenance 1, homolog (S....</td>\n",
       "      <td>SwissProt:Q13315|Ensembl:ENSG00000149311|Genat...</td>\n",
       "      <td>True</td>\n",
       "      <td>True</td>\n",
       "      <td>False</td>\n",
       "      <td>False</td>\n",
       "      <td>False</td>\n",
       "      <td>Disease</td>\n",
       "      <td>Childhood|Infancy</td>\n",
       "      <td>adult</td>\n",
       "      <td>Autosomal recessive</td>\n",
       "      <td>Rare neurologic disease</td>\n",
       "    </tr>\n",
       "    <tr>\n",
       "      <th>1</th>\n",
       "      <td>100006</td>\n",
       "      <td>ABeta amyloidosis, Dutch type</td>\n",
       "      <td>APP</td>\n",
       "      <td>Disease-causing germline mutation(s) in</td>\n",
       "      <td>Assessed</td>\n",
       "      <td>peptidase nexin-II</td>\n",
       "      <td>Ensembl:ENSG00000142192|Genatlas:APP|HGNC:620|...</td>\n",
       "      <td>False</td>\n",
       "      <td>False</td>\n",
       "      <td>False</td>\n",
       "      <td>True</td>\n",
       "      <td>False</td>\n",
       "      <td>Clinical subtype</td>\n",
       "      <td>Adult</td>\n",
       "      <td>adult</td>\n",
       "      <td>Autosomal dominant</td>\n",
       "      <td>Rare neurologic disease</td>\n",
       "    </tr>\n",
       "    <tr>\n",
       "      <th>2</th>\n",
       "      <td>100008</td>\n",
       "      <td>ACys amyloidosis</td>\n",
       "      <td>CST3</td>\n",
       "      <td>Disease-causing germline mutation(s) in</td>\n",
       "      <td>Assessed</td>\n",
       "      <td></td>\n",
       "      <td>Ensembl:ENSG00000101439|Genatlas:CST3|HGNC:247...</td>\n",
       "      <td>False</td>\n",
       "      <td>False</td>\n",
       "      <td>True</td>\n",
       "      <td>True</td>\n",
       "      <td>False</td>\n",
       "      <td>Clinical subtype</td>\n",
       "      <td>Adolescent|Adult</td>\n",
       "      <td>adult</td>\n",
       "      <td>Autosomal dominant</td>\n",
       "      <td>Rare neurologic disease</td>\n",
       "    </tr>\n",
       "    <tr>\n",
       "      <th>3</th>\n",
       "      <td>100031</td>\n",
       "      <td>Hypoplastic amelogenesis imperfecta</td>\n",
       "      <td>ACP4</td>\n",
       "      <td>Disease-causing germline mutation(s) (loss of ...</td>\n",
       "      <td>Assessed</td>\n",
       "      <td>testicular acid phosphatase</td>\n",
       "      <td>SwissProt:Q9BZG2|OMIM:606362|HGNC:14376|Ensemb...</td>\n",
       "      <td>False</td>\n",
       "      <td>False</td>\n",
       "      <td>False</td>\n",
       "      <td>False</td>\n",
       "      <td>False</td>\n",
       "      <td>Clinical subtype</td>\n",
       "      <td></td>\n",
       "      <td></td>\n",
       "      <td>Autosomal dominant|Autosomal recessive|X-linke...</td>\n",
       "      <td>Rare odontologic disease</td>\n",
       "    </tr>\n",
       "    <tr>\n",
       "      <th>4</th>\n",
       "      <td>100031</td>\n",
       "      <td>Hypoplastic amelogenesis imperfecta</td>\n",
       "      <td>RELT</td>\n",
       "      <td>Disease-causing germline mutation(s) (loss of ...</td>\n",
       "      <td>Assessed</td>\n",
       "      <td>FLJ14993|receptor expressed in lymphoid tissues</td>\n",
       "      <td>HGNC:13764|Ensembl:ENSG00000054967|SwissProt:Q...</td>\n",
       "      <td>False</td>\n",
       "      <td>False</td>\n",
       "      <td>False</td>\n",
       "      <td>False</td>\n",
       "      <td>False</td>\n",
       "      <td>Clinical subtype</td>\n",
       "      <td></td>\n",
       "      <td></td>\n",
       "      <td>Autosomal dominant|Autosomal recessive|X-linke...</td>\n",
       "      <td>Rare odontologic disease</td>\n",
       "    </tr>\n",
       "  </tbody>\n",
       "</table>\n",
       "</div>"
      ],
      "text/plain": [
       "  OrphaNumber                        Disorder_Name Gene_Symbol  \\\n",
       "0         100                Ataxia-telangiectasia         ATM   \n",
       "1      100006        ABeta amyloidosis, Dutch type         APP   \n",
       "2      100008                     ACys amyloidosis        CST3   \n",
       "3      100031  Hypoplastic amelogenesis imperfecta        ACP4   \n",
       "4      100031  Hypoplastic amelogenesis imperfecta        RELT   \n",
       "\n",
       "                                    Association_Type Association_Status  \\\n",
       "0            Disease-causing germline mutation(s) in           Assessed   \n",
       "1            Disease-causing germline mutation(s) in           Assessed   \n",
       "2            Disease-causing germline mutation(s) in           Assessed   \n",
       "3  Disease-causing germline mutation(s) (loss of ...           Assessed   \n",
       "4  Disease-causing germline mutation(s) (loss of ...           Assessed   \n",
       "\n",
       "                                       Gene_Synonyms  \\\n",
       "0  TEL1|TEL1, telomere maintenance 1, homolog (S....   \n",
       "1                                 peptidase nexin-II   \n",
       "2                                                      \n",
       "3                        testicular acid phosphatase   \n",
       "4    FLJ14993|receptor expressed in lymphoid tissues   \n",
       "\n",
       "                                  Gene_External_Refs  Onset_Infant  \\\n",
       "0  SwissProt:Q13315|Ensembl:ENSG00000149311|Genat...          True   \n",
       "1  Ensembl:ENSG00000142192|Genatlas:APP|HGNC:620|...         False   \n",
       "2  Ensembl:ENSG00000101439|Genatlas:CST3|HGNC:247...         False   \n",
       "3  SwissProt:Q9BZG2|OMIM:606362|HGNC:14376|Ensemb...         False   \n",
       "4  HGNC:13764|Ensembl:ENSG00000054967|SwissProt:Q...         False   \n",
       "\n",
       "   Onset_Child  Onset_Adolescent  Onset_Adult  Onset_Elderly  \\\n",
       "0         True             False        False          False   \n",
       "1        False             False         True          False   \n",
       "2        False              True         True          False   \n",
       "3        False             False        False          False   \n",
       "4        False             False        False          False   \n",
       "\n",
       "      Disorder_Type  Average_Age_Onset Average_Age_Death  \\\n",
       "0           Disease  Childhood|Infancy             adult   \n",
       "1  Clinical subtype              Adult             adult   \n",
       "2  Clinical subtype   Adolescent|Adult             adult   \n",
       "3  Clinical subtype                                        \n",
       "4  Clinical subtype                                        \n",
       "\n",
       "                                   Inheritence_Types                  Category  \n",
       "0                                Autosomal recessive   Rare neurologic disease  \n",
       "1                                 Autosomal dominant   Rare neurologic disease  \n",
       "2                                 Autosomal dominant   Rare neurologic disease  \n",
       "3  Autosomal dominant|Autosomal recessive|X-linke...  Rare odontologic disease  \n",
       "4  Autosomal dominant|Autosomal recessive|X-linke...  Rare odontologic disease  "
      ]
     },
     "execution_count": 19,
     "metadata": {},
     "output_type": "execute_result"
    }
   ],
   "source": [
    "disorder_annotations_merged = disorder_gene_df_causal_expanded.set_index(['OrphaNumber','Disorder_Name']).\\\n",
    "    join(nat_hist_df.set_index(['OrphaNumber','Disorder_Name'])).\\\n",
    "    join(linear_cat_df.set_index(['OrphaNumber','Disorder_Name']))\n",
    "\n",
    "disorder_annotations_merged = disorder_annotations_merged.reset_index()\n",
    "disorder_annotations_merged.head(5)"
   ]
  },
  {
   "cell_type": "markdown",
   "metadata": {},
   "source": [
    "Subset the dataframes down to the final list of diseases that have all the information we plan to require:"
   ]
  },
  {
   "cell_type": "code",
   "execution_count": 20,
   "metadata": {},
   "outputs": [],
   "source": [
    "orphanumbers_w_phenotypes = set(disease_hpo_df_expanded.OrphaNumber.unique())\n",
    "orphanet_all_annotations_diseases_w_phenotypes = disorder_annotations_merged.query(\"OrphaNumber in @orphanumbers_w_phenotypes\")\n",
    "\n",
    "orphanet_final_disease_genes = orphanet_all_annotations_diseases_w_phenotypes[[\"OrphaNumber\", \"Disorder_Name\", 'Gene_Symbol']].\\\n",
    "                            drop_duplicates()\n",
    "final_diseases = orphanet_final_disease_genes.OrphaNumber.unique()\n",
    "\n",
    "orphanet_final_disease_metadata = orphanet_all_annotations_diseases_w_phenotypes[[\"OrphaNumber\", \"Disorder_Name\",\n",
    "                                                \"Onset_Infant\", \"Onset_Child\",\n",
    "                                                \"Onset_Adolescent\",\"Onset_Adult\",\"Onset_Elderly\",\n",
    "                                               \"Average_Age_Onset\",\"Average_Age_Death\",\"Inheritence_Types\",\"Category\"]].\\\n",
    "                            drop_duplicates()\n",
    "    \n",
    "orphanet_final_disease_hpo = disease_hpo_df_expanded.query(\"OrphaNumber in @final_diseases\")\n",
    "\n",
    "assert(orphanet_final_disease_genes.OrphaNumber.unique().sort() == orphanet_final_disease_hpo.OrphaNumber.unique().sort())\n",
    "assert(orphanet_final_disease_metadata.OrphaNumber.unique().sort() == orphanet_final_disease_hpo.OrphaNumber.unique().sort())"
   ]
  },
  {
   "cell_type": "raw",
   "metadata": {
    "collapsed": true
   },
   "source": [
    "orphanet_final_disease_genes.to_csv(ORPHANET_FLAT_PATH / 'orphanet_final_disease_genes.tsv', sep=\"\\t\", index = False)\n",
    "orphanet_final_disease_hpo.to_csv(ORPHANET_FLAT_PATH / 'orphanet_final_disease_hpo.tsv', sep=\"\\t\", index = False)\n",
    "orphanet_final_disease_metadata.to_csv(ORPHANET_FLAT_PATH / 'orphanet_final_disease_metadata.tsv', sep=\"\\t\", index = False)"
   ]
  },
  {
   "cell_type": "markdown",
   "metadata": {},
   "source": [
    "# Annotating diseases and genes as pre- versus post-2015\n",
    "\n",
    "We used a semi-automated approach to identify novel genes and diseases post-2015.\n",
    "\n",
    "First, we compared timestamped versions of the OrphaNet dataset to identify candidate novel genes and diseases, as documented in this code.\n",
    "\n",
    "Each of these was then manually reviewed into spreadhseets that we provide in the `manual_annotations` subdirectory of the `orphanet` data folder.\n",
    "\n",
    "Finally, we reimported these manual annotations back into this notebook for final processing.\n",
    "\n",
    "## New Diseases"
   ]
  },
  {
   "cell_type": "markdown",
   "metadata": {},
   "source": [
    "### Automated step -- import 2015 linearization and compare to 2019 version"
   ]
  },
  {
   "cell_type": "code",
   "execution_count": 21,
   "metadata": {},
   "outputs": [
    {
     "name": "stdout",
     "output_type": "stream",
     "text": [
      "9142\n"
     ]
    },
    {
     "data": {
      "text/html": [
       "<div>\n",
       "<style scoped>\n",
       "    .dataframe tbody tr th:only-of-type {\n",
       "        vertical-align: middle;\n",
       "    }\n",
       "\n",
       "    .dataframe tbody tr th {\n",
       "        vertical-align: top;\n",
       "    }\n",
       "\n",
       "    .dataframe thead th {\n",
       "        text-align: right;\n",
       "    }\n",
       "</style>\n",
       "<table border=\"1\" class=\"dataframe\">\n",
       "  <thead>\n",
       "    <tr style=\"text-align: right;\">\n",
       "      <th></th>\n",
       "      <th>OrphaNumber</th>\n",
       "      <th>Disorder_Name</th>\n",
       "    </tr>\n",
       "  </thead>\n",
       "  <tbody>\n",
       "    <tr>\n",
       "      <th>0</th>\n",
       "      <td>166024</td>\n",
       "      <td>Multiple epiphyseal dysplasia, Al-Gazali type</td>\n",
       "    </tr>\n",
       "    <tr>\n",
       "      <th>1</th>\n",
       "      <td>58</td>\n",
       "      <td>Alexander disease</td>\n",
       "    </tr>\n",
       "    <tr>\n",
       "      <th>2</th>\n",
       "      <td>166032</td>\n",
       "      <td>Multiple epiphyseal dysplasia, with miniepiphyses</td>\n",
       "    </tr>\n",
       "    <tr>\n",
       "      <th>3</th>\n",
       "      <td>61</td>\n",
       "      <td>Alpha-mannosidosis</td>\n",
       "    </tr>\n",
       "    <tr>\n",
       "      <th>4</th>\n",
       "      <td>166029</td>\n",
       "      <td>Multiple epiphyseal dysplasia, with severe pro...</td>\n",
       "    </tr>\n",
       "  </tbody>\n",
       "</table>\n",
       "</div>"
      ],
      "text/plain": [
       "  OrphaNumber                                      Disorder_Name\n",
       "0      166024      Multiple epiphyseal dysplasia, Al-Gazali type\n",
       "1          58                                  Alexander disease\n",
       "2      166032  Multiple epiphyseal dysplasia, with miniepiphyses\n",
       "3          61                                 Alpha-mannosidosis\n",
       "4      166029  Multiple epiphyseal dysplasia, with severe pro..."
      ]
     },
     "execution_count": 21,
     "metadata": {},
     "output_type": "execute_result"
    }
   ],
   "source": [
    "tree = ET.parse(str(config.ORPHANET_PATH / 'raw_files_2015_03'/ \"linearization_en_product7.xml\"))\n",
    "root = tree.getroot()\n",
    "disorderlist_cross_2015 = root[0]\n",
    "\n",
    "rel_list_2015 = []\n",
    "for disorder in disorderlist_cross_2015:\n",
    "    disorder_orphan = disorder.find(\"orphanumber\").text\n",
    "    disorder_name = disorder.find(\"name\").text\n",
    "    rel_list_2015.append(OrderedDict([\n",
    "            (\"OrphaNumber\", disorder_orphan),\n",
    "            (\"Disorder_Name\", disorder_name)\n",
    "        ]))\n",
    "rel_df_2015 = pd.DataFrame(rel_list_2015)\n",
    "print(len(rel_df_2015.OrphaNumber.unique()))\n",
    "rel_df_2015.head()"
   ]
  },
  {
   "cell_type": "code",
   "execution_count": 22,
   "metadata": {},
   "outputs": [],
   "source": [
    "orphanet_final_disease_metadata[\"In_2015\"] = [x in rel_df_2015.OrphaNumber.values for x in orphanet_final_disease_metadata.OrphaNumber.values ]"
   ]
  },
  {
   "cell_type": "markdown",
   "metadata": {},
   "source": [
    "### Post-manual step -- annotate diseases first published post 2015"
   ]
  },
  {
   "cell_type": "code",
   "execution_count": 23,
   "metadata": {},
   "outputs": [],
   "source": [
    "disease_dates_manual = pd.read_csv(config.ORPHANET_PATH / 'manual_annotations' / 'Orphanet_Diseases_Annotation-new_disease_post_2015.tsv', sep=\"\\t\", dtype=str)\n",
    "\n",
    "orpha_ids_post_2015 = disease_dates_manual.query(\"Date_First_Paper >= '1/1/2015'\").OrphaNumber.values\n",
    "orphas_boolean_post_2015 = [onum in orpha_ids_post_2015 for onum in orphanet_final_disease_metadata.OrphaNumber.values]\n",
    "orphas_boolean_pre_2015 = [(onum not in orpha_ids_post_2015) for onum in orphanet_final_disease_metadata.OrphaNumber.values]\n",
    "\n",
    "orphanet_final_disease_metadata[\"First_Published_post_2015_01\"] = orphas_boolean_post_2015\n",
    "\n",
    "orphas_in_2015 = orphanet_final_disease_metadata.query(\"not First_Published_post_2015_01\").OrphaNumber.values\n",
    "disease_counts = orphanet_final_disease_genes.query(\"OrphaNumber in @ orphas_in_2015\").groupby(\"Gene_Symbol\").count().OrphaNumber"
   ]
  },
  {
   "cell_type": "markdown",
   "metadata": {},
   "source": [
    "## New genes"
   ]
  },
  {
   "cell_type": "markdown",
   "metadata": {},
   "source": [
    "### Automated step -- import 2015 orphadata\n",
    "\n",
    "The easiest way for us to access 2015 orphadata for gene-level annotations was via an export from the HPOA."
   ]
  },
  {
   "cell_type": "code",
   "execution_count": 24,
   "metadata": {},
   "outputs": [],
   "source": [
    "gene_df_2015 = pd.read_csv(str(config.ORPHANET_PATH / 'flat_files_2015_01'/ 'hpoa_orpha_gene_disease.tsv'),\n",
    "                           delimiter='\\t')\n",
    "gene_df_2015['OrphaNumber'] = [x.split(\":\")[1] for x in gene_df_2015.OrphaNumber.values]"
   ]
  },
  {
   "cell_type": "markdown",
   "metadata": {},
   "source": [
    "Additionally, import 2012 data from OrphaData dump to supplement the HPOA export, because we noticed the latter was clearly incomplete.  (Recall, the primary goal of this automated step is to *rule-out any disease-gene links that we know* are not novel, so that we can focus manual efforts.)"
   ]
  },
  {
   "cell_type": "code",
   "execution_count": 25,
   "metadata": {},
   "outputs": [],
   "source": [
    "import xml.etree.ElementTree as ET\n",
    "tree = ET.parse(str(config.ORPHANET_PATH / 'raw_files_2012_06'/ \"genes_rare_diseases_en_product6.xml\"))\n",
    "root = tree.getroot()\n",
    "genelist_2012 = root[0]\n",
    "\n",
    "import pandas as pd\n",
    "from collections import OrderedDict\n",
    "gene_list_2012 = []\n",
    "for disorder in genelist_2012:\n",
    "    disorder_orphan = disorder.find(\"orphanumber\").text\n",
    "    disorder_name = disorder.find(\"name\").text\n",
    "    for child_gene in disorder.find(\"genelist\"):\n",
    "        gene_symbol = child_gene.find(\"symbol\").text\n",
    "        gene_synonyms = \"|\".join([x.text\n",
    "                                  for x in child_gene.find(\"synonymlist\")])\n",
    "        external_refs = \"|\".join([\":\".join([x.find(\"source\").text, x.find(\"reference\").text])\n",
    "                                  for x in child_gene.find(\"externalreferencelist\")])\n",
    "        gene_list_2012.append(OrderedDict([\n",
    "            (\"OrphaNumber\", disorder_orphan),\n",
    "            (\"Disorder_Name\", disorder_name),\n",
    "            (\"Gene_Symbol\", gene_symbol),\n",
    "            (\"Gene_Synonyms\", gene_synonyms),\n",
    "            (\"Gene_External_Refs\", external_refs)\n",
    "        ]))\n",
    "gene_df_2012 = pd.DataFrame(gene_list_2012)\n",
    "#print(len(gene_df_2012.OrphaNumber.unique()))\n",
    "#gene_df_2012.to_csv(ORPHANET_PATH / 'flat_files_2012_06'/ 'orphanet_disease_gene_all_unfiltered.tsv',\n",
    "#                    sep=\"\\t\", index = False)"
   ]
  },
  {
   "cell_type": "markdown",
   "metadata": {},
   "source": [
    "Add confirmed former annotations to metadata file:"
   ]
  },
  {
   "cell_type": "code",
   "execution_count": 26,
   "metadata": {},
   "outputs": [],
   "source": [
    "d_g_2015_all = list(zip(gene_df_2015.OrphaNumber.values,\n",
    "                        gene_df_2015.Gene_Symbol.values))\n",
    "\n",
    "d_g_2012_all = list(zip(gene_df_2012.OrphaNumber.values,\n",
    "                        gene_df_2012.Gene_Symbol.values))\n",
    "d_g_2019_all = list(zip(orphanet_final_disease_genes.OrphaNumber.values,\n",
    "                        orphanet_final_disease_genes.Gene_Symbol.values))\n",
    "\n",
    "orphanet_final_disease_genes['DG_Association_In_Orpha_2012_06'] = [(d_g in d_g_2012_all) for d_g in d_g_2019_all ]\n",
    "orphanet_final_disease_genes['DG_Association_In_Orpha_2015_01'] = [(d_g in d_g_2015_all) for d_g in d_g_2019_all ]"
   ]
  },
  {
   "cell_type": "markdown",
   "metadata": {},
   "source": [
    "Visualize:"
   ]
  },
  {
   "cell_type": "code",
   "execution_count": 27,
   "metadata": {},
   "outputs": [
    {
     "data": {
      "image/png": "[encoded data removed]",
      "text/plain": [
       "<Figure size 256x288 with 4 Axes>"
      ]
     },
     "metadata": {
      "needs_background": "light"
     },
     "output_type": "display_data"
    }
   ],
   "source": [
    "file_memberships = {\"2019\":set(orphanet_final_disease_genes.apply(lambda row: (row[\"OrphaNumber\"], row[\"Gene_Symbol\"]), axis=1) ),\n",
    "                    \"2015\":set(orphanet_final_disease_genes.query(\"DG_Association_In_Orpha_2015_01\").apply(lambda row: (row[\"OrphaNumber\"], row[\"Gene_Symbol\"]), axis=1) ),\n",
    "                    \"2012\":set(orphanet_final_disease_genes.query(\"DG_Association_In_Orpha_2012_06\").apply(lambda row: (row[\"OrphaNumber\"], row[\"Gene_Symbol\"]), axis=1) )\n",
    "                    \n",
    "    }\n",
    "upset_from_contents = from_contents(file_memberships)\n",
    "plot_upset(upset_from_contents, show_counts = True,\n",
    "          sort_by=\"cardinality\")\n",
    "pyplot.show()"
   ]
  },
  {
   "cell_type": "markdown",
   "metadata": {},
   "source": [
    "Sanity check:"
   ]
  },
  {
   "cell_type": "code",
   "execution_count": 28,
   "metadata": {
    "scrolled": true
   },
   "outputs": [],
   "source": [
    "gene_counts_2019 = orphanet_final_disease_genes.groupby(\"OrphaNumber\").count().Gene_Symbol\n",
    "assert(sum(orphanet_final_disease_metadata.OrphaNumber.values != gene_counts_2019.index) == 0)\n",
    "orphanet_final_disease_metadata['N_Genes'] = gene_counts_2019.values"
   ]
  },
  {
   "cell_type": "markdown",
   "metadata": {},
   "source": [
    "### Post-manual step"
   ]
  },
  {
   "cell_type": "markdown",
   "metadata": {},
   "source": [
    "Import annotations:"
   ]
  },
  {
   "cell_type": "code",
   "execution_count": 29,
   "metadata": {},
   "outputs": [
    {
     "data": {
      "text/html": [
       "<div>\n",
       "<style scoped>\n",
       "    .dataframe tbody tr th:only-of-type {\n",
       "        vertical-align: middle;\n",
       "    }\n",
       "\n",
       "    .dataframe tbody tr th {\n",
       "        vertical-align: top;\n",
       "    }\n",
       "\n",
       "    .dataframe thead th {\n",
       "        text-align: right;\n",
       "    }\n",
       "</style>\n",
       "<table border=\"1\" class=\"dataframe\">\n",
       "  <thead>\n",
       "    <tr style=\"text-align: right;\">\n",
       "      <th></th>\n",
       "      <th>OrphaNumber</th>\n",
       "      <th>Disorder_Name</th>\n",
       "      <th>Gene_Symbol</th>\n",
       "      <th>Date_First_Paper</th>\n",
       "      <th>Source</th>\n",
       "      <th>Notes</th>\n",
       "      <th>Annotator</th>\n",
       "    </tr>\n",
       "  </thead>\n",
       "  <tbody>\n",
       "    <tr>\n",
       "      <th>3</th>\n",
       "      <td>93110</td>\n",
       "      <td>Posterior urethral valve</td>\n",
       "      <td>BNC2</td>\n",
       "      <td>2019-05-02</td>\n",
       "      <td>https://www.ncbi.nlm.nih.gov/pubmed/31051115</td>\n",
       "      <td>NaN</td>\n",
       "      <td>Michelle</td>\n",
       "    </tr>\n",
       "    <tr>\n",
       "      <th>4</th>\n",
       "      <td>2662</td>\n",
       "      <td>Keipert syndrome</td>\n",
       "      <td>GPC4</td>\n",
       "      <td>2019-04-11</td>\n",
       "      <td>https://www.ncbi.nlm.nih.gov/pubmed/30982611</td>\n",
       "      <td>New Orphanet Number 301026 (Moved as of June 2...</td>\n",
       "      <td>Michelle</td>\n",
       "    </tr>\n",
       "    <tr>\n",
       "      <th>5</th>\n",
       "      <td>2754</td>\n",
       "      <td>Orofaciodigital syndrome type 6</td>\n",
       "      <td>FAM149B1</td>\n",
       "      <td>2019-04-04</td>\n",
       "      <td>https://www.sciencedirect.com/science/article/...</td>\n",
       "      <td>NaN</td>\n",
       "      <td>Emily</td>\n",
       "    </tr>\n",
       "    <tr>\n",
       "      <th>6</th>\n",
       "      <td>29072</td>\n",
       "      <td>Hereditary pheochromocytoma-paraganglioma</td>\n",
       "      <td>DLST</td>\n",
       "      <td>2019-03-28</td>\n",
       "      <td>https://www.ncbi.nlm.nih.gov/pubmed/30929736</td>\n",
       "      <td>NaN</td>\n",
       "      <td>Michelle</td>\n",
       "    </tr>\n",
       "    <tr>\n",
       "      <th>7</th>\n",
       "      <td>178469</td>\n",
       "      <td>Autosomal dominant non-syndromic intellectual ...</td>\n",
       "      <td>BRSK2</td>\n",
       "      <td>2019-03-14</td>\n",
       "      <td>https://www.ncbi.nlm.nih.gov/pubmed/30879638</td>\n",
       "      <td>NaN</td>\n",
       "      <td>Sam</td>\n",
       "    </tr>\n",
       "  </tbody>\n",
       "</table>\n",
       "</div>"
      ],
      "text/plain": [
       "  OrphaNumber                                      Disorder_Name Gene_Symbol  \\\n",
       "3       93110                           Posterior urethral valve        BNC2   \n",
       "4        2662                                   Keipert syndrome        GPC4   \n",
       "5        2754                    Orofaciodigital syndrome type 6    FAM149B1   \n",
       "6       29072          Hereditary pheochromocytoma-paraganglioma        DLST   \n",
       "7      178469  Autosomal dominant non-syndromic intellectual ...       BRSK2   \n",
       "\n",
       "  Date_First_Paper                                             Source  \\\n",
       "3       2019-05-02       https://www.ncbi.nlm.nih.gov/pubmed/31051115   \n",
       "4       2019-04-11       https://www.ncbi.nlm.nih.gov/pubmed/30982611   \n",
       "5       2019-04-04  https://www.sciencedirect.com/science/article/...   \n",
       "6       2019-03-28       https://www.ncbi.nlm.nih.gov/pubmed/30929736   \n",
       "7       2019-03-14       https://www.ncbi.nlm.nih.gov/pubmed/30879638   \n",
       "\n",
       "                                               Notes Annotator  \n",
       "3                                                NaN  Michelle  \n",
       "4  New Orphanet Number 301026 (Moved as of June 2...  Michelle  \n",
       "5                                                NaN     Emily  \n",
       "6                                                NaN  Michelle  \n",
       "7                                                NaN       Sam  "
      ]
     },
     "execution_count": 29,
     "metadata": {},
     "output_type": "execute_result"
    }
   ],
   "source": [
    "new_genes_known_diseases_dates = pd.read_csv(config.ORPHANET_PATH / 'manual_annotations' / 'Orphanet_Genes_Annotation-NG_KG_post_2015.tsv', sep=\"\\t\", dtype=str)\n",
    "\n",
    "curated_new_genes_delete = list(map(tuple, new_genes_known_diseases_dates.query('Date_First_Paper == \"DELETE\"')[['OrphaNumber','Gene_Symbol']].values.tolist()))\n",
    "new_genes_known_diseases_dates = new_genes_known_diseases_dates.query('Date_First_Paper != \"DELETE\"')\n",
    "\n",
    "new_genes_known_diseases_dates['Date_First_Paper'] = pd.to_datetime(new_genes_known_diseases_dates['Date_First_Paper'], errors = 'coerce')\n",
    "new_genes_known_diseases_dates.head()"
   ]
  },
  {
   "cell_type": "markdown",
   "metadata": {},
   "source": [
    "Binarize pre-post 2015 date information:"
   ]
  },
  {
   "cell_type": "code",
   "execution_count": 30,
   "metadata": {},
   "outputs": [
    {
     "data": {
      "text/plain": [
       "post_2015_03_01    431\n",
       "pre_2015_03_01     274\n",
       "Name: Manual_Annotation_Date_Range, dtype: int64"
      ]
     },
     "execution_count": 30,
     "metadata": {},
     "output_type": "execute_result"
    }
   ],
   "source": [
    "curated_new_genes = list(map(tuple, new_genes_known_diseases_dates.query(\"Date_First_Paper >= '1/1/2015'\")[['OrphaNumber','Gene_Symbol']].values.tolist()))\n",
    "curated_old_genes = list(map(tuple, new_genes_known_diseases_dates.query(\"Date_First_Paper < '1/1/2015'\")[['OrphaNumber','Gene_Symbol']].values.tolist()))\n",
    "\n",
    "final_dis_gene_edges = list(map(tuple, orphanet_final_disease_genes[['OrphaNumber','Gene_Symbol']].values.tolist()))\n",
    "\n",
    "def computeDateRange(tup):\n",
    "    if tup in curated_new_genes:\n",
    "        return \"post_2015_03_01\"\n",
    "    elif tup in curated_old_genes:\n",
    "        return \"pre_2015_03_01\"\n",
    "    elif tup in curated_new_genes_delete:\n",
    "        return \"DELETE\"\n",
    "    else:\n",
    "        return None\n",
    "    \n",
    "curated_date_ranges = [computeDateRange(tup) for tup in final_dis_gene_edges]\n",
    "\n",
    "orphanet_final_disease_genes[\"Manual_Annotation_Date_Range\"] = curated_date_ranges\n",
    "orphanet_final_disease_genes = orphanet_final_disease_genes.query(\"Manual_Annotation_Date_Range != 'DELETE'\")\n",
    "orphanet_final_disease_genes.Manual_Annotation_Date_Range.value_counts()"
   ]
  },
  {
   "cell_type": "markdown",
   "metadata": {},
   "source": [
    "Finalize annotation formats in files to be exported:"
   ]
  },
  {
   "cell_type": "code",
   "execution_count": 31,
   "metadata": {
    "scrolled": true
   },
   "outputs": [],
   "source": [
    "orphanet_final_gene_metadata = pd.DataFrame(list(set(orphanet_final_disease_genes.Gene_Symbol)), columns=[\"Gene_Symbol\"])\n",
    "orphanet_final_gene_metadata['Gene_In_Any_Orpha_Disease_2015_03'] = [(gene in gene_df_2015.Gene_Symbol.values) or (gene in gene_df_2012.Gene_Symbol.values) for gene in orphanet_final_gene_metadata.Gene_Symbol.values]"
   ]
  },
  {
   "cell_type": "code",
   "execution_count": 32,
   "metadata": {},
   "outputs": [],
   "source": [
    "orphanet_final_disease_genes['DG_Assoc_First_Published_Post_2015_01'] = ~orphanet_final_disease_genes['DG_Association_In_Orpha_2015_01']\n",
    "\n",
    "orphanet_final_disease_genes.loc[orphanet_final_disease_genes['Manual_Annotation_Date_Range'] == 'post_2015_03_01', 'DG_Assoc_First_Published_Post_2015_01'] = True \n",
    "orphanet_final_disease_genes.loc[orphanet_final_disease_genes['Manual_Annotation_Date_Range'] == 'pre_2015_03_01', 'DG_Assoc_First_Published_Post_2015_01'] = False \n",
    "\n",
    "orphanet_final_disease_genes.drop(columns=[\"DG_Association_In_Orpha_2012_06\",\"DG_Association_In_Orpha_2015_01\", 'Manual_Annotation_Date_Range'], inplace=True)"
   ]
  },
  {
   "cell_type": "markdown",
   "metadata": {},
   "source": [
    "# Save"
   ]
  },
  {
   "cell_type": "raw",
   "metadata": {},
   "source": [
    "orphanet_final_gene_metadata.to_csv(ORPHANET_FLAT_PATH / 'orphanet_final_gene_metadata_2015.tsv', sep=\"\\t\", index = False)\n",
    "orphanet_final_gene_metadata.head()"
   ]
  },
  {
   "cell_type": "raw",
   "metadata": {},
   "source": [
    "orphanet_final_disease_metadata.to_csv(ORPHANET_FLAT_PATH / 'orphanet_final_disease_metadata_2015_bugfix.tsv', sep=\"\\t\", index = False)\n",
    "orphanet_final_disease_metadata.head()"
   ]
  },
  {
   "cell_type": "raw",
   "metadata": {},
   "source": [
    "orphanet_final_disease_genes.to_csv(ORPHANET_FLAT_PATH / 'orphanet_final_disease_genes_2015_bugfix.tsv', sep=\"\\t\", index = False)\n",
    "orphanet_final_disease_genes.head()"
   ]
  },
  {
   "cell_type": "raw",
   "metadata": {},
   "source": [
    "orphanet_final_disease_hpo.to_csv(ORPHANET_FLAT_PATH / 'orphanet_final_disease_hpo_2015.tsv', sep=\"\\t\", index = False)"
   ]
  }
 ],
 "metadata": {
  "kernelspec": {
   "display_name": "Python 3.6.15 ('rare-dx-env')",
   "language": "python",
   "name": "python3"
  },
  "language_info": {
   "codemirror_mode": {
    "name": "ipython",
    "version": 3
   },
   "file_extension": ".py",
   "mimetype": "text/x-python",
   "name": "python",
   "nbconvert_exporter": "python",
   "pygments_lexer": "ipython3",
   "version": "3.6.15"
  },
  "vscode": {
   "interpreter": {
    "hash": "30bfae78f8cee3c44adc488bb8ff648a603ad417fa929fe0d6b0114f0ac7ef6a"
   }
  }
 },
 "nbformat": 4,
 "nbformat_minor": 2
}
